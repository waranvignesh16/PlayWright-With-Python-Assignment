{
 "cells": [
  {
   "cell_type": "code",
   "execution_count": null,
   "id": "8c51c4c8",
   "metadata": {},
   "outputs": [
    {
     "name": "stdout",
     "output_type": "stream",
     "text": [
      "Hello my name is vicky\n"
     ]
    }
   ],
   "source": [
    "file = open(\"notes.txt\",\"r\")\n",
    "content = file.read()\n",
    "file.close()"
   ]
  },
  {
   "cell_type": "code",
   "execution_count": null,
   "id": "a83bcbd8",
   "metadata": {},
   "outputs": [
    {
     "name": "stdout",
     "output_type": "stream",
     "text": [
      "15\n"
     ]
    }
   ],
   "source": [
    "file = open(\"notes.txt\",\"w\")\n",
    "file.write(\"content changes\")\n",
    "file.close()"
   ]
  },
  {
   "cell_type": "code",
   "execution_count": null,
   "id": "3d278ce0",
   "metadata": {},
   "outputs": [
    {
     "name": "stdout",
     "output_type": "stream",
     "text": [
      "24\n"
     ]
    }
   ],
   "source": [
    "file = open(\"notes.txt\",\"a\")\n",
    "file.write(\"\\n content append changes\")\n",
    "file.close()"
   ]
  },
  {
   "cell_type": "code",
   "execution_count": 14,
   "id": "369a41a4",
   "metadata": {},
   "outputs": [
    {
     "name": "stdout",
     "output_type": "stream",
     "text": [
      "content changes\n",
      " content append changes\n",
      " content append changes\n",
      " content append changes\n"
     ]
    }
   ],
   "source": [
    "with open(\"notes.txt\",\"r\") as file:\n",
    "    content = file.read()\n",
    "    print(content)"
   ]
  },
  {
   "cell_type": "code",
   "execution_count": 15,
   "id": "709e8025",
   "metadata": {},
   "outputs": [
    {
     "data": {
      "text/plain": [
       "'/Users/rvignesh-19772/Downloads/Social Eagle AI/Python Tutrorial'"
      ]
     },
     "execution_count": 15,
     "metadata": {},
     "output_type": "execute_result"
    }
   ],
   "source": [
    "import os\n",
    "os.getcwd()"
   ]
  },
  {
   "cell_type": "code",
   "execution_count": 19,
   "id": "4e71e729",
   "metadata": {},
   "outputs": [
    {
     "data": {
      "text/plain": [
       "['test', 'notes.txt', 'test.py', 'venv', 'firstcolab.ipynb']"
      ]
     },
     "execution_count": 19,
     "metadata": {},
     "output_type": "execute_result"
    }
   ],
   "source": [
    "os.listdir()"
   ]
  },
  {
   "cell_type": "code",
   "execution_count": 6,
   "id": "5baa16ea",
   "metadata": {},
   "outputs": [],
   "source": [
    "from langchain_community.document_loaders import TextLoader"
   ]
  },
  {
   "cell_type": "code",
   "execution_count": 7,
   "id": "bae3ed4b",
   "metadata": {},
   "outputs": [],
   "source": [
    "test = TextLoader(\"notes.txt\")"
   ]
  },
  {
   "cell_type": "code",
   "execution_count": 8,
   "id": "933edf05",
   "metadata": {},
   "outputs": [
    {
     "data": {
      "text/plain": [
       "[Document(metadata={'source': 'notes.txt'}, page_content='This is the wonderful Gen AI course')]"
      ]
     },
     "execution_count": 8,
     "metadata": {},
     "output_type": "execute_result"
    }
   ],
   "source": [
    "test.load()"
   ]
  },
  {
   "cell_type": "code",
   "execution_count": 6,
   "id": "bf79e1a8",
   "metadata": {},
   "outputs": [],
   "source": [
    "from langchain_community.document_loaders import PyPDFLoader"
   ]
  },
  {
   "cell_type": "code",
   "execution_count": 7,
   "id": "35f9200e",
   "metadata": {},
   "outputs": [
    {
     "name": "stderr",
     "output_type": "stream",
     "text": [
      "453.84s - pydevd: Sending message related to process being replaced timed-out after 5 seconds\n"
     ]
    },
    {
     "name": "stdout",
     "output_type": "stream",
     "text": [
      "Collecting pypdf\n",
      "  Obtaining dependency information for pypdf from https://files.pythonhosted.org/packages/2c/83/2cacc506eb322bb31b747bc06ccb82cc9aa03e19ee9c1245e538e49d52be/pypdf-6.0.0-py3-none-any.whl.metadata\n",
      "  Downloading pypdf-6.0.0-py3-none-any.whl.metadata (7.1 kB)\n",
      "Downloading pypdf-6.0.0-py3-none-any.whl (310 kB)\n",
      "\u001b[2K   \u001b[90m━━━━━━━━━━━━━━━━━━━━━━━━━━━━━━━━━━━━━━━━\u001b[0m \u001b[32m310.5/310.5 kB\u001b[0m \u001b[31m2.9 MB/s\u001b[0m eta \u001b[36m0:00:00\u001b[0m00:01\u001b[0m00:01\u001b[0mm\n",
      "\u001b[?25hInstalling collected packages: pypdf\n",
      "Successfully installed pypdf-6.0.0\n",
      "\n",
      "\u001b[1m[\u001b[0m\u001b[34;49mnotice\u001b[0m\u001b[1;39;49m]\u001b[0m\u001b[39;49m A new release of pip is available: \u001b[0m\u001b[31;49m23.2.1\u001b[0m\u001b[39;49m -> \u001b[0m\u001b[32;49m25.2\u001b[0m\n",
      "\u001b[1m[\u001b[0m\u001b[34;49mnotice\u001b[0m\u001b[1;39;49m]\u001b[0m\u001b[39;49m To update, run: \u001b[0m\u001b[32;49mpip3 install --upgrade pip\u001b[0m\n",
      "Note: you may need to restart the kernel to use updated packages.\n"
     ]
    }
   ],
   "source": [
    "pip install pypdf"
   ]
  },
  {
   "cell_type": "code",
   "execution_count": 8,
   "id": "8e0d1d0c",
   "metadata": {},
   "outputs": [],
   "source": [
    "test2 = PyPDFLoader(\"LLM.pdf\")"
   ]
  },
  {
   "cell_type": "code",
   "execution_count": 9,
   "id": "d65307fd",
   "metadata": {},
   "outputs": [
    {
     "name": "stderr",
     "output_type": "stream",
     "text": [
      "Ignoring wrong pointing object 7 0 (offset 0)\n",
      "Ignoring wrong pointing object 9 0 (offset 0)\n",
      "Ignoring wrong pointing object 16 0 (offset 0)\n",
      "Ignoring wrong pointing object 18 0 (offset 0)\n",
      "Ignoring wrong pointing object 20 0 (offset 0)\n",
      "Ignoring wrong pointing object 22 0 (offset 0)\n",
      "Ignoring wrong pointing object 24 0 (offset 0)\n",
      "Ignoring wrong pointing object 26 0 (offset 0)\n",
      "Ignoring wrong pointing object 32 0 (offset 0)\n",
      "Ignoring wrong pointing object 34 0 (offset 0)\n",
      "Ignoring wrong pointing object 43 0 (offset 0)\n",
      "Ignoring wrong pointing object 47 0 (offset 0)\n",
      "Ignoring wrong pointing object 49 0 (offset 0)\n",
      "Ignoring wrong pointing object 58 0 (offset 0)\n",
      "Ignoring wrong pointing object 84 0 (offset 0)\n",
      "Ignoring wrong pointing object 100 0 (offset 0)\n",
      "Ignoring wrong pointing object 104 0 (offset 0)\n",
      "Ignoring wrong pointing object 106 0 (offset 0)\n",
      "Ignoring wrong pointing object 134 0 (offset 0)\n",
      "Ignoring wrong pointing object 136 0 (offset 0)\n",
      "Ignoring wrong pointing object 138 0 (offset 0)\n",
      "Ignoring wrong pointing object 140 0 (offset 0)\n",
      "Ignoring wrong pointing object 142 0 (offset 0)\n",
      "Ignoring wrong pointing object 144 0 (offset 0)\n",
      "Ignoring wrong pointing object 146 0 (offset 0)\n",
      "Ignoring wrong pointing object 157 0 (offset 0)\n",
      "Ignoring wrong pointing object 159 0 (offset 0)\n",
      "Ignoring wrong pointing object 161 0 (offset 0)\n",
      "Ignoring wrong pointing object 163 0 (offset 0)\n",
      "Ignoring wrong pointing object 174 0 (offset 0)\n",
      "Ignoring wrong pointing object 176 0 (offset 0)\n",
      "Ignoring wrong pointing object 178 0 (offset 0)\n",
      "Ignoring wrong pointing object 180 0 (offset 0)\n",
      "Ignoring wrong pointing object 184 0 (offset 0)\n",
      "Ignoring wrong pointing object 189 0 (offset 0)\n",
      "Ignoring wrong pointing object 191 0 (offset 0)\n",
      "Ignoring wrong pointing object 200 0 (offset 0)\n",
      "Ignoring wrong pointing object 215 0 (offset 0)\n",
      "Ignoring wrong pointing object 225 0 (offset 0)\n",
      "Ignoring wrong pointing object 255 0 (offset 0)\n",
      "Ignoring wrong pointing object 294 0 (offset 0)\n",
      "Ignoring wrong pointing object 300 0 (offset 0)\n",
      "Ignoring wrong pointing object 306 0 (offset 0)\n",
      "Ignoring wrong pointing object 354 0 (offset 0)\n",
      "Ignoring wrong pointing object 356 0 (offset 0)\n",
      "Ignoring wrong pointing object 358 0 (offset 0)\n",
      "Ignoring wrong pointing object 360 0 (offset 0)\n",
      "Ignoring wrong pointing object 363 0 (offset 0)\n",
      "Ignoring wrong pointing object 365 0 (offset 0)\n",
      "Ignoring wrong pointing object 367 0 (offset 0)\n",
      "Ignoring wrong pointing object 369 0 (offset 0)\n",
      "Ignoring wrong pointing object 372 0 (offset 0)\n",
      "Ignoring wrong pointing object 374 0 (offset 0)\n",
      "Ignoring wrong pointing object 376 0 (offset 0)\n",
      "Ignoring wrong pointing object 378 0 (offset 0)\n",
      "Ignoring wrong pointing object 385 0 (offset 0)\n",
      "Ignoring wrong pointing object 387 0 (offset 0)\n",
      "Ignoring wrong pointing object 389 0 (offset 0)\n",
      "Ignoring wrong pointing object 391 0 (offset 0)\n",
      "Ignoring wrong pointing object 436 0 (offset 0)\n",
      "Ignoring wrong pointing object 438 0 (offset 0)\n",
      "Ignoring wrong pointing object 440 0 (offset 0)\n",
      "Ignoring wrong pointing object 442 0 (offset 0)\n",
      "Ignoring wrong pointing object 449 0 (offset 0)\n",
      "Ignoring wrong pointing object 451 0 (offset 0)\n",
      "Ignoring wrong pointing object 453 0 (offset 0)\n",
      "Ignoring wrong pointing object 455 0 (offset 0)\n",
      "Ignoring wrong pointing object 528 0 (offset 0)\n",
      "Ignoring wrong pointing object 539 0 (offset 0)\n"
     ]
    },
    {
     "data": {
      "text/plain": [
       "[Document(metadata={'producer': 'macOS Version 14.4 (Build 23E214) Quartz PDFContext', 'creator': 'PowerPoint', 'creationdate': \"D:20240315052541Z00'00'\", 'moddate': \"D:20240315052541Z00'00'\", 'source': 'LLM.pdf', 'total_pages': 67, 'page': 0, 'page_label': '1'}, page_content='Transformers and Large Language ModelsIntroduction to Large Language Models'),\n",
       " Document(metadata={'producer': 'macOS Version 14.4 (Build 23E214) Quartz PDFContext', 'creator': 'PowerPoint', 'creationdate': \"D:20240315052541Z00'00'\", 'moddate': \"D:20240315052541Z00'00'\", 'source': 'LLM.pdf', 'total_pages': 67, 'page': 1, 'page_label': '2'}, page_content='Language models•Remember the simple n-gram language model•Assigns probabilities to sequences of words•Generate text by sampling possible next words•Is trained on counts computed from lots of text•Large language models are similar and different:•Assigns probabilities to sequences of words•Generate text by sampling possible next words•Are trained by learning to guess the next word'),\n",
       " Document(metadata={'producer': 'macOS Version 14.4 (Build 23E214) Quartz PDFContext', 'creator': 'PowerPoint', 'creationdate': \"D:20240315052541Z00'00'\", 'moddate': \"D:20240315052541Z00'00'\", 'source': 'LLM.pdf', 'total_pages': 67, 'page': 2, 'page_label': '3'}, page_content='Neural Large Language Models (LLMs)•Self-supervised learners•Take a text, remove a word•Use your neural model to guess what the word was•If the model is wrong, use stochastic gradient descent to make the model guess better next time•Advantages (?):•All we need is a lot of text (GPT3: 500 billion tokens)•(And a lot of compute)'),\n",
       " Document(metadata={'producer': 'macOS Version 14.4 (Build 23E214) Quartz PDFContext', 'creator': 'PowerPoint', 'creationdate': \"D:20240315052541Z00'00'\", 'moddate': \"D:20240315052541Z00'00'\", 'source': 'LLM.pdf', 'total_pages': 67, 'page': 3, 'page_label': '4'}, page_content='LLMs are built out of transformersTransformer: a specific kind of network architecture, like a fancier feedforward network, but based on attentionProvided proper attribution is provided, Google hereby grants permission to\\nreproduce the tables and ﬁgures in this paper solely for use in journalistic or\\nscholarly works.\\nAttention Is All You Need\\nAshish Vaswani ⇤\\nGoogle Brain\\navaswani@google.com\\nNoam Shazeer ⇤\\nGoogle Brain\\nnoam@google.com\\nNiki Parmar ⇤\\nGoogle Research\\nnikip@google.com\\nJakob Uszkoreit ⇤\\nGoogle Research\\nusz@google.com\\nLlion Jones ⇤\\nGoogle Research\\nllion@google.com\\nAidan N. Gomez ⇤ †\\nUniversity of Toronto\\naidan@cs.toronto.edu\\nŁ ukasz Kaiser ⇤\\nGoogle Brain\\nlukaszkaiser@google.com\\nIllia Polosukhin ⇤ ‡\\nillia.polosukhin@gmail.com\\nAbstract\\nThe dominant sequence transduction models are based on complex recurrent or\\nconvolutional neural networks that include an encoder and a decoder. The best\\nperforming models also connect the encoder and decoder through an attention\\nmechanism. We propose a new simple network architecture, the Transformer,\\nbased solely on attention mechanisms, dispensing with recurrence and convolutions\\nentirely. Experiments on two machine translation tasks show these models to\\nbe superior in quality while being more parallelizable and requiring signiﬁcantly\\nless time to train. Our model achieves 28.4 BLEU on the WMT 2014 English-\\nto-German translation task, improving over the existing best results, including\\nensembles, by over 2 BLEU. On the WMT 2014 English-to-French translation task,\\nour model establishes a new single-model state-of-the-art BLEU score of 41.8 after\\ntraining for 3.5 days on eight GPUs, a small fraction of the training costs of the\\nbest models from the literature. We show that the Transformer generalizes well to\\nother tasks by applying it successfully to English constituency parsing both with\\nlarge and limited training data.\\n⇤\\nEqual contribution. Listing order is random. Jakob proposed replacing RNNs with self-attention and started\\nthe effort to evaluate this idea. Ashish, with Illia, designed and implemented the ﬁrst Transformer models and\\nhas been crucially involved in every aspect of this work. Noam proposed scaled dot-product attention, multi-head\\nattention and the parameter-free position representation and became the other person involved in nearly every\\ndetail. Niki designed, implemented, tuned and evaluated countless model variants in our original codebase and\\ntensor2tensor. Llion also experimented with novel model variants, was responsible for our initial codebase, and\\nefﬁcient inference and visualizations. Lukasz and Aidan spent countless long days designing various parts of and\\nimplementing tensor2tensor, replacing our earlier codebase, greatly improving results and massively accelerating\\nour research.\\n†\\nWork performed while at Google Brain.\\n‡\\nWork performed while at Google Research.\\n31st Conference on Neural Information Processing Systems (NIPS 2017), Long Beach, CA, USA.\\narXiv:1706.03762v7  [cs.CL]  2 Aug 2023'),\n",
       " Document(metadata={'producer': 'macOS Version 14.4 (Build 23E214) Quartz PDFContext', 'creator': 'PowerPoint', 'creationdate': \"D:20240315052541Z00'00'\", 'moddate': \"D:20240315052541Z00'00'\", 'source': 'LLM.pdf', 'total_pages': 67, 'page': 4, 'page_label': '5'}, page_content='A very approximate timeline1990 Static Word Embeddings2003 Neural Language Model2008 Multi-Task Learning2015 Attention2017 Transformer2018 Contextual Word Embeddings and Pretraining2019 Prompting'),\n",
       " Document(metadata={'producer': 'macOS Version 14.4 (Build 23E214) Quartz PDFContext', 'creator': 'PowerPoint', 'creationdate': \"D:20240315052541Z00'00'\", 'moddate': \"D:20240315052541Z00'00'\", 'source': 'LLM.pdf', 'total_pages': 67, 'page': 5, 'page_label': '6'}, page_content='A picture of a transformer language model\\nInput\\nEmbeddings\\nLayers of\\nTransformer\\nBlocks\\nSoftmax over\\nVocabulary\\nSo long and thanks for\\nlong and thanks forOutput all\\n…\\n…\\n…\\nLinear Layer'),\n",
       " Document(metadata={'producer': 'macOS Version 14.4 (Build 23E214) Quartz PDFContext', 'creator': 'PowerPoint', 'creationdate': \"D:20240315052541Z00'00'\", 'moddate': \"D:20240315052541Z00'00'\", 'source': 'LLM.pdf', 'total_pages': 67, 'page': 6, 'page_label': '7'}, page_content='Transformers and Large Language ModelsIntroduction to Large Language Models'),\n",
       " Document(metadata={'producer': 'macOS Version 14.4 (Build 23E214) Quartz PDFContext', 'creator': 'PowerPoint', 'creationdate': \"D:20240315052541Z00'00'\", 'moddate': \"D:20240315052541Z00'00'\", 'source': 'LLM.pdf', 'total_pages': 67, 'page': 7, 'page_label': '8'}, page_content='Transformers and Large Language ModelsAttention'),\n",
       " Document(metadata={'producer': 'macOS Version 14.4 (Build 23E214) Quartz PDFContext', 'creator': 'PowerPoint', 'creationdate': \"D:20240315052541Z00'00'\", 'moddate': \"D:20240315052541Z00'00'\", 'source': 'LLM.pdf', 'total_pages': 67, 'page': 8, 'page_label': '9'}, page_content=\"Instead of starting with the big picture\\nInput\\nEmbeddings\\nLayers of\\nTransformer\\nBlocks\\nSoftmax over\\nVocabulary\\nSo long and thanks for\\nlong and thanks forOutput all\\n…\\n…\\n…\\nLinear Layer\\nInput\\nEmbeddings\\nLayers of\\nTransformer\\nBlocks\\nSoftmax over\\nVocabulary\\nSo long and thanks for\\nlong and thanks forOutput all\\n…\\n…\\n…\\nLinear Layer\\nLet's consider the embeddings for an individual word from a particular layer\"),\n",
       " Document(metadata={'producer': 'macOS Version 14.4 (Build 23E214) Quartz PDFContext', 'creator': 'PowerPoint', 'creationdate': \"D:20240315052541Z00'00'\", 'moddate': \"D:20240315052541Z00'00'\", 'source': 'LLM.pdf', 'total_pages': 67, 'page': 9, 'page_label': '10'}, page_content='Problem with static embeddings (word2vec)They are static!  The embedding for a word doesn\\'t reflect how its meaning changes in context.The chicken didn\\'t cross the street because it was too tired\\nWhat is the meaning represented in the static embedding for \"it\"?'),\n",
       " Document(metadata={'producer': 'macOS Version 14.4 (Build 23E214) Quartz PDFContext', 'creator': 'PowerPoint', 'creationdate': \"D:20240315052541Z00'00'\", 'moddate': \"D:20240315052541Z00'00'\", 'source': 'LLM.pdf', 'total_pages': 67, 'page': 10, 'page_label': '11'}, page_content='Contextual Embeddings•Intuition: a representation of meaning of a word should be different in different contexts!•Contextual Embedding: each word has a different vector that expresses different meanings depending on the surrounding words•How to compute contextual embeddings?•Attention'),\n",
       " Document(metadata={'producer': 'macOS Version 14.4 (Build 23E214) Quartz PDFContext', 'creator': 'PowerPoint', 'creationdate': \"D:20240315052541Z00'00'\", 'moddate': \"D:20240315052541Z00'00'\", 'source': 'LLM.pdf', 'total_pages': 67, 'page': 11, 'page_label': '12'}, page_content='Contextual EmbeddingsThe chicken didn\\'t cross the street because itWhat should be the properties of \"it\"?The chicken didn\\'t cross the street because it was too tiredThe chicken didn\\'t cross the street because it was too trafficy\\nAt this point in the sentence, it\\'s probably referring to either the chicken or the street'),\n",
       " Document(metadata={'producer': 'macOS Version 14.4 (Build 23E214) Quartz PDFContext', 'creator': 'PowerPoint', 'creationdate': \"D:20240315052541Z00'00'\", 'moddate': \"D:20240315052541Z00'00'\", 'source': 'LLM.pdf', 'total_pages': 67, 'page': 12, 'page_label': '13'}, page_content='Intuition of attentionBuild up the contextual embedding from a word by selectively integrating information from all the neighboring wordsWe say that a word \"attends to\" some neighboring words more than others'),\n",
       " Document(metadata={'producer': 'macOS Version 14.4 (Build 23E214) Quartz PDFContext', 'creator': 'PowerPoint', 'creationdate': \"D:20240315052541Z00'00'\", 'moddate': \"D:20240315052541Z00'00'\", 'source': 'LLM.pdf', 'total_pages': 67, 'page': 13, 'page_label': '14'}, page_content='Intuition of attention: test\\nThe\\nanimal\\ndidn’t\\ncross\\nthe\\nstreet\\nbecause\\nit\\nwas\\ntoo\\ntired\\nThe\\nanimal\\ndidn’t\\ncross\\nthe\\nstreet\\nbecause\\nit\\nwas\\ntoo\\ntired\\nLayer 6\\nLayer 5\\nself-attention distribution'),\n",
       " Document(metadata={'producer': 'macOS Version 14.4 (Build 23E214) Quartz PDFContext', 'creator': 'PowerPoint', 'creationdate': \"D:20240315052541Z00'00'\", 'moddate': \"D:20240315052541Z00'00'\", 'source': 'LLM.pdf', 'total_pages': 67, 'page': 14, 'page_label': '15'}, page_content='Attention definitionA mechanism for helping compute the embedding for a token by selectively attending to and integrating information from surrounding tokens (at the previous layer).More formally: a method for doing a weighted sum of vectors.'),\n",
       " Document(metadata={'producer': 'macOS Version 14.4 (Build 23E214) Quartz PDFContext', 'creator': 'PowerPoint', 'creationdate': \"D:20240315052541Z00'00'\", 'moddate': \"D:20240315052541Z00'00'\", 'source': 'LLM.pdf', 'total_pages': 67, 'page': 15, 'page_label': '16'}, page_content='Attention is left-to-right\\nSelf-Attention\\nLayer\\nx 1\\na 1\\nx 2\\na 2 a 3 a 4 a 5\\nx 3 x 4 x 5'),\n",
       " Document(metadata={'producer': 'macOS Version 14.4 (Build 23E214) Quartz PDFContext', 'creator': 'PowerPoint', 'creationdate': \"D:20240315052541Z00'00'\", 'moddate': \"D:20240315052541Z00'00'\", 'source': 'LLM.pdf', 'total_pages': 67, 'page': 16, 'page_label': '17'}, page_content='Simplified version of attention: a sum of prior words weighted by their similarity with the current wordGiven a sequence of token embeddings: x1 x2   x3   x4   x5   xiProduce: ai = a weighted sum of x1 through x5Weighted by their similarity to xi\\n10.1 • T HE T RANSFORMER :AS ELF -A TTENTION N ETWORK 5\\nSelf-Attention\\nLayer\\nx\\n1\\na\\n1\\nx\\n2\\na\\n2\\na\\n3\\na\\n4\\na\\n5\\nx\\n3\\nx\\n4\\nx\\n5\\nFigure 10.2 Information ﬂow in a causal (or masked) self-attention model. In processing\\neach element of the sequence, the model attends to all the inputs up to, and including, the\\ncurrent one. Unlike RNNs, the computations at each time step are independent of all the\\nother steps and therefore can be performed in parallel.\\n10.1.3 Self-attention more formally\\nWe’ve given the intuition of self-attention (as a way to compute representations of a\\nword at a given layer by integrating information from words at the previous layer)\\nand we’ve deﬁned context as all the prior words in the input. Let’s now introduce\\nthe self-attention computation itself.\\nThe core intuition of attention is the idea of comparing an item of interest to a\\ncollection of other items in a way that reveals their relevance in the current context.\\nIn the case of self-attention for language, the set of comparisons are to other words\\n(or tokens) within a given sequence. The result of these comparisons is then used to\\ncompute an output sequence for the current input sequence. For example, returning\\nto Fig. 10.2 , the computation of a 3\\nis based on a set of comparisons between the\\ninput x 3\\nand its preceding elements x 1\\nand x 2\\n, and to x 3\\nitself.\\nHow shall we compare words to other words? Since our representations for\\nwords are vectors, we’ll make use of our old friend the dot product that we used\\nfor computing word similarity in Chapter 6, and also played a role in attention in\\nChapter 9. Let’s refer to the result of this comparison between words i and j as a\\nscore (we’ll be updating this equation to add attention to the computation of this\\nscore):\\nV erson 1: score ( x i\\n, x j\\n)= x i\\n· x j\\n(10.4)\\nThe result of a dot product is a scalar value ranging from \\x00 • to • , the larger\\nthe value the more similar the vectors that are being compared. Continuing with our\\nexample, the ﬁrst step in computing y 3\\nwould be to compute three scores: x 3\\n· x 1\\n,\\nx 3\\n· x 2\\nand x 3\\n· x 3\\n. Then to make effective use of these scores, we’ll normalize them\\nwith a softmax to create a vector of weights, a ij\\n, that indicates the proportional\\nrelevance of each input to the input element i that is the current focus of attention.\\na ij\\n= softmax ( score ( x i\\n, x j\\n)) 8 j \\uf8ff i (10.5)\\n=\\nexp ( score ( x i\\n, x j\\n))\\nP\\ni\\nk = 1\\nexp ( score ( x i\\n, x\\nk\\n))\\n8 j \\uf8ff i (10.6)\\nOf course, the softmax weight will likely be highest for the current focus element\\ni , since vecx i\\nis very similar to itself, resulting in a high dot product. But other\\ncontext words may also be similar to i , and the softmax will also assign some weight\\nto those words.\\nGiven the proportional scores in a , we generate an output value a i\\nby summing\\n10.1 • T HE T RANSFORMER :AS ELF -A TTENTION N ETWORK 5\\nSelf-Attention\\nLayer\\nx 1\\na 1\\nx 2\\na 2 a 3 a 4 a 5\\nx 3 x 4 x 5\\nFigure 10.2 Information ﬂow in a causal (or masked) self-attention model. In processing\\neach element of the sequence, the model attends to all the inputs up to, and including, the\\ncurrent one. Unlike RNNs, the computations at each time step are independent of all the\\nother steps and therefore can be performed in parallel.\\n10.1.3 Self-attention more formally\\nWe’ve given the intuition of self-attention (as a way to compute representations of a\\nword at a given layer by integrating information from words at the previous layer)\\nand we’ve deﬁned context as all the prior words in the input. Let’s now introduce\\nthe self-attention computation itself.\\nThe core intuition of attention is the idea of comparing an item of interest to a\\ncollection of other items in a way that reveals their relevance in the current context.\\nIn the case of self-attention for language, the set of comparisons are to other words\\n(or tokens) within a given sequence. The result of these comparisons is then used to\\ncompute an output sequence for the current input sequence. For example, returning\\nto Fig. 10.2 , the computation of a 3\\nis based on a set of comparisons between the\\ninput x 3\\nand its preceding elements x 1\\nand x 2\\n, and to x 3\\nitself.\\nHow shall we compare words to other words? Since our representations for\\nwords are vectors, we’ll make use of our old friend the dot product that we used\\nfor computing word similarity in Chapter 6, and also played a role in attention in\\nChapter 9. Let’s refer to the result of this comparison between words i and j as a\\nscore (we’ll be updating this equation to add attention to the computation of this\\nscore):\\nV erson 1: score ( x i\\n, x j\\n)= x i\\n· x j\\n(10.4)\\nThe result of a dot product is a scalar value ranging from \\x00 • to • , the larger\\nthe value the more similar the vectors that are being compared. Continuing with our\\nexample, the ﬁrst step in computing y 3\\nwould be to compute three scores: x 3\\n· x 1\\n,\\nx 3\\n· x 2\\nand x 3\\n· x 3\\n. Then to make effective use of these scores, we’ll normalize them\\nwith a softmax to create a vector of weights, a ij\\n, that indicates the proportional\\nrelevance of each input to the input element i that is the current focus of attention.\\na ij\\n= softmax ( score ( x i\\n, x j\\n)) 8 j \\uf8ff i (10.5)\\n=\\nexp ( score ( x i\\n, x j\\n))\\nP\\ni\\nk = 1\\nexp ( score ( x i\\n, x k\\n))\\n8 j \\uf8ff i (10.6)\\nOf course, the softmax weight will likely be highest for the current focus element\\ni , since vecx i\\nis very similar to itself, resulting in a high dot product. But other\\ncontext words may also be similar to i , and the softmax will also assign some weight\\nto those words.\\nGiven the proportional scores in a , we generate an output value a i\\nby summing\\n6 C HAPTER 10 • T RANSFORMERS AND L ARGE L ANGUAGE M ODELS\\nthe inputs seen so far, each weighted by its a value.\\na i\\n=\\nX\\nj \\uf8ff i\\na ij\\nx j\\n(10.7)\\nThe steps embodied in Equations 10.4 through 10.7 represent the core of an\\nattention-based approach: a set of comparisons to relevant items in some context,\\na normalization of those scores to provide a probability distribution, followed by a\\nweighted sum using this distribution. The output a is the result of this straightfor-\\nward computation over the inputs.\\nThis kind of simple attention can be useful, and indeed we saw in Chapter 9\\nhow to use this simple idea of attention for LSTM-based encoder-decoder models\\nfor machine translation. But transformers allow us to create a more sophisticated\\nway of representing how words can contribute to the representation of longer inputs.\\nConsider the three different roles that each input embedding plays during the course\\nof the attention process.\\n• As the current focus of attention when being compared to all of the other\\npreceding inputs. We’ll refer to this role as a query .query\\n• In its role as a preceding input being compared to the current focus of atten-\\ntion. We’ll refer to this role as a key .key\\n• And ﬁnally, as a value used to compute the output for the current focus ofvalue\\nattention.\\nTo capture these three different roles, transformers introduce weight matrices\\nW\\nQ\\n, W\\nK\\n, and W\\nV\\n. These weights will be used to project each input vector x i\\ninto\\na representation of its role as a key, query, or value.\\nq i\\n= x i\\nW\\nQ\\n; k i\\n= x i\\nW\\nK\\n; v i\\n= x i\\nW\\nV\\n(10.8)\\nThe inputs x and outputs y of transformers, as well as the intermediate vectors after\\nthe various layers like the attention output vector a , all have the same dimensionality\\n1 ⇥ d . We’ll have a dimension d k\\nfor the key and query vectors, and a separate\\ndimension d v\\nfor the value vectors. In the original transformer work ( Vaswani et al. ,\\n2017 ), d was 512, d k\\nand d v\\nwere both 64. The shapes of the transform matrices are\\nthen W\\nQ\\n2 R\\nd ⇥ d\\nk\\n, W\\nK\\n2 R\\nd ⇥ d\\nk\\n, and W\\nV\\n2 R\\nd ⇥ d v\\n.\\nGiven these projections, the score between a current focus of attention, x i\\n, and\\nan element in the preceding context, x j\\n, consists of a dot product between its query\\nvector q i\\nand the preceding element’s key vectors k j\\n. This dot product has the right\\nshape since both the query and the key are of dimensionality 1 ⇥ d k\\n. Let’s update\\nour previous comparison calculation to reﬂect this, replacing Eq. 10.4 with Eq. 10.9 :\\nV erson 2: score ( x i\\n, x j\\n)= q i\\n· k j\\n(10.9)\\nThe ensuing softmax calculation resulting in a i , j\\nremains the same, but the output\\ncalculation for a i\\nis now based on a weighted sum over the value vectors v .\\na i\\n=\\nX\\nj \\uf8ff i\\na ij\\nv j\\n(10.10)\\nAgain, the softmax weight a ij\\nwill likely be highest for the current focus element\\ni , and so the value for y i\\nwill be most inﬂuenced by v i\\n. But the model will also pay\\nattention to other contextual words if they are similar to i , allowing their values to'),\n",
       " Document(metadata={'producer': 'macOS Version 14.4 (Build 23E214) Quartz PDFContext', 'creator': 'PowerPoint', 'creationdate': \"D:20240315052541Z00'00'\", 'moddate': \"D:20240315052541Z00'00'\", 'source': 'LLM.pdf', 'total_pages': 67, 'page': 17, 'page_label': '18'}, page_content='Intuition of attention: test\\nThe\\nanimal\\ndidn’t\\ncross\\nthe\\nstreet\\nbecause\\nit\\nwas\\ntoo\\ntired\\nThe\\nanimal\\ndidn’t\\ncross\\nthe\\nstreet\\nbecause\\nit\\nwas\\ntoo\\ntired\\nLayer 6\\nLayer 5\\nself-attention distribution\\nx1  x2  x3  x4  x5  x6  x7   xi'),\n",
       " Document(metadata={'producer': 'macOS Version 14.4 (Build 23E214) Quartz PDFContext', 'creator': 'PowerPoint', 'creationdate': \"D:20240315052541Z00'00'\", 'moddate': \"D:20240315052541Z00'00'\", 'source': 'LLM.pdf', 'total_pages': 67, 'page': 18, 'page_label': '19'}, page_content='Intuition of attention: test\\nThe\\nanimal\\ndidn’t\\ncross\\nthe\\nstreet\\nbecause\\nit\\nwas\\ntoo\\ntired\\nThe\\nanimal\\ndidn’t\\ncross\\nthe\\nstreet\\nbecause\\nit\\nwas\\ntoo\\ntired\\nLayer 6\\nLayer 5\\nself-attention distribution\\nx1  x2  x3  x4  x5  x6  x7   xi\\nquery\\nvalues'),\n",
       " Document(metadata={'producer': 'macOS Version 14.4 (Build 23E214) Quartz PDFContext', 'creator': 'PowerPoint', 'creationdate': \"D:20240315052541Z00'00'\", 'moddate': \"D:20240315052541Z00'00'\", 'source': 'LLM.pdf', 'total_pages': 67, 'page': 19, 'page_label': '20'}, page_content=\"AttentionActually it's slightly more complicated, but I won't get into thatHigh-level idea: instead of just having a query and a set of values, each embedding actually also has a key\"),\n",
       " Document(metadata={'producer': 'macOS Version 14.4 (Build 23E214) Quartz PDFContext', 'creator': 'PowerPoint', 'creationdate': \"D:20240315052541Z00'00'\", 'moddate': \"D:20240315052541Z00'00'\", 'source': 'LLM.pdf', 'total_pages': 67, 'page': 20, 'page_label': '21'}, page_content='Intuition of attention: test\\nThe\\nanimal\\ndidn’t\\ncross\\nthe\\nstreet\\nbecause\\nit\\nwas\\ntoo\\ntired\\nThe\\nanimal\\ndidn’t\\ncross\\nthe\\nstreet\\nbecause\\nit\\nwas\\ntoo\\ntired\\nLayer 6\\nLayer 5\\nself-attention distribution\\nx1  x2  x3  x4  x5  x6  x7   xi\\nquery\\nvalueskv kv kv kv kv kv kvkeys'),\n",
       " Document(metadata={'producer': 'macOS Version 14.4 (Build 23E214) Quartz PDFContext', 'creator': 'PowerPoint', 'creationdate': \"D:20240315052541Z00'00'\", 'moddate': \"D:20240315052541Z00'00'\", 'source': 'LLM.pdf', 'total_pages': 67, 'page': 21, 'page_label': '22'}, page_content='SummaryAttention is a method for enriching the representation of a token by incorporating contextual informationThe result: the embedding for each word will be different in different contexts!Contextual embeddings: a representation of word meaning in its context.'),\n",
       " Document(metadata={'producer': 'macOS Version 14.4 (Build 23E214) Quartz PDFContext', 'creator': 'PowerPoint', 'creationdate': \"D:20240315052541Z00'00'\", 'moddate': \"D:20240315052541Z00'00'\", 'source': 'LLM.pdf', 'total_pages': 67, 'page': 22, 'page_label': '23'}, page_content='Transformers and Large Language ModelsAttention'),\n",
       " Document(metadata={'producer': 'macOS Version 14.4 (Build 23E214) Quartz PDFContext', 'creator': 'PowerPoint', 'creationdate': \"D:20240315052541Z00'00'\", 'moddate': \"D:20240315052541Z00'00'\", 'source': 'LLM.pdf', 'total_pages': 67, 'page': 23, 'page_label': '24'}, page_content='Transformers and Large Language ModelsThe rest of the transformer applied to language modeling'),\n",
       " Document(metadata={'producer': 'macOS Version 14.4 (Build 23E214) Quartz PDFContext', 'creator': 'PowerPoint', 'creationdate': \"D:20240315052541Z00'00'\", 'moddate': \"D:20240315052541Z00'00'\", 'source': 'LLM.pdf', 'total_pages': 67, 'page': 24, 'page_label': '25'}, page_content=\"The transformerAttention is just part of computing embeddings in a transformer.Let's see more of the mechanism\"),\n",
       " Document(metadata={'producer': 'macOS Version 14.4 (Build 23E214) Quartz PDFContext', 'creator': 'PowerPoint', 'creationdate': \"D:20240315052541Z00'00'\", 'moddate': \"D:20240315052541Z00'00'\", 'source': 'LLM.pdf', 'total_pages': 67, 'page': 25, 'page_label': '26'}, page_content='Reminder: transformer language model\\nInput\\nEmbeddings\\nLayers of\\nTransformer\\nBlocks\\nSoftmax over\\nVocabulary\\nSo long and thanks for\\nlong and thanks forOutput all\\n…\\n…\\n…\\nLinear Layer'),\n",
       " Document(metadata={'producer': 'macOS Version 14.4 (Build 23E214) Quartz PDFContext', 'creator': 'PowerPoint', 'creationdate': \"D:20240315052541Z00'00'\", 'moddate': \"D:20240315052541Z00'00'\", 'source': 'LLM.pdf', 'total_pages': 67, 'page': 26, 'page_label': '27'}, page_content='The residual stream: each token gets passed up and modified\\nLayer Norm\\nxi\\n+\\nhi-1\\nLayer Norm\\nMultiHead\\nAttention\\nFeedforward\\nxi-1 xi+1\\nhi hi+1\\n+ ……'),\n",
       " Document(metadata={'producer': 'macOS Version 14.4 (Build 23E214) Quartz PDFContext', 'creator': 'PowerPoint', 'creationdate': \"D:20240315052541Z00'00'\", 'moddate': \"D:20240315052541Z00'00'\", 'source': 'LLM.pdf', 'total_pages': 67, 'page': 27, 'page_label': '28'}, page_content=\"We'll need nonlinearities, so a feedforward layer\\nLayer Norm\\nxi\\n+\\nhi-1\\nLayer Norm\\nMultiHead\\nAttention\\nFeedforward\\nxi-1 xi+1\\nhi hi+1\\n+ ……\"),\n",
       " Document(metadata={'producer': 'macOS Version 14.4 (Build 23E214) Quartz PDFContext', 'creator': 'PowerPoint', 'creationdate': \"D:20240315052541Z00'00'\", 'moddate': \"D:20240315052541Z00'00'\", 'source': 'LLM.pdf', 'total_pages': 67, 'page': 28, 'page_label': '29'}, page_content='A transformer is a stack of these blocks\\nLayer Norm\\nxi\\n+\\nhi-1\\nLayer Norm\\nMultiHeadAttention\\nFeedforward\\nxi-1 xi+1\\nhi hi+1\\n+ ……\\nLayer Norm\\nxi\\n+\\nhi-1\\nLayer Norm\\nMultiHeadAttention\\nFeedforward\\nxi-1 xi+1\\nhi hi+1\\n+ ……\\nBlock 1\\nBlock 2'),\n",
       " Document(metadata={'producer': 'macOS Version 14.4 (Build 23E214) Quartz PDFContext', 'creator': 'PowerPoint', 'creationdate': \"D:20240315052541Z00'00'\", 'moddate': \"D:20240315052541Z00'00'\", 'source': 'LLM.pdf', 'total_pages': 67, 'page': 29, 'page_label': '30'}, page_content='Inputs\\nX = Composite\\nEmbeddings\\n(word + position)\\nTransformer Block\\nJanet\\n1\\nwill\\n2\\nback\\n3\\nJanet will back the bill\\nthe\\n4\\nbill\\n5\\n+\\n+\\n+\\n+\\n+\\nPosition\\nEmbeddings\\nWord\\nEmbeddings'),\n",
       " Document(metadata={'producer': 'macOS Version 14.4 (Build 23E214) Quartz PDFContext', 'creator': 'PowerPoint', 'creationdate': \"D:20240315052541Z00'00'\", 'moddate': \"D:20240315052541Z00'00'\", 'source': 'LLM.pdf', 'total_pages': 67, 'page': 30, 'page_label': '31'}, page_content='Language modeling head\\nLayer L\\nTransformer\\nBlock\\nSoftmax over vocabulary V\\nUnembedding layer\\n…\\n1 x |V|\\nLogits \\nWord probabilities\\n1 x |V|\\nhL\\n1\\nw1 w2 wN\\nhL\\n2 hL\\nN\\nd x |V|\\n1 x d\\n   Unembedding\\n    layer = ET\\ny1 y2 y|V|…\\nu1 u2 u|V|…\\nLanguage Model Head\\ntakes hL\\nN and outputs a\\ndistribution over vocabulary V'),\n",
       " Document(metadata={'producer': 'macOS Version 14.4 (Build 23E214) Quartz PDFContext', 'creator': 'PowerPoint', 'creationdate': \"D:20240315052541Z00'00'\", 'moddate': \"D:20240315052541Z00'00'\", 'source': 'LLM.pdf', 'total_pages': 67, 'page': 31, 'page_label': '32'}, page_content='The final transformermodel\\nX x1 x2      …      xN\\nMultihead Self-Attention\\nLayer Norm\\nFeedforward\\nLayer Norm\\nLayer 1\\nh1 h2      …     hN\\nMultihead Self-Attention\\nLayer Norm\\nFeedforward\\nLayer Norm\\nLayer 2\\nh1 h2      …     hN\\nMultihead Self-Attention\\nLayer Norm\\nFeedforward\\nLayer Norm\\nLayer  L\\nh1 h2      …     hN\\n…\\nSample token to generateat position N+1 wN+1\\nw1 w2      …      wNInput tokens\\nP1       P2     …    PN        Add token + position embeddings +\\nLanguage ModelHead\\nToken probabilitiesy1 y2 y|V|…\\nE[w1] E[w2]  … E[wN]'),\n",
       " Document(metadata={'producer': 'macOS Version 14.4 (Build 23E214) Quartz PDFContext', 'creator': 'PowerPoint', 'creationdate': \"D:20240315052541Z00'00'\", 'moddate': \"D:20240315052541Z00'00'\", 'source': 'LLM.pdf', 'total_pages': 67, 'page': 32, 'page_label': '33'}, page_content='Transformers and Large Language ModelsThe rest of the transformer applied to language modeling'),\n",
       " Document(metadata={'producer': 'macOS Version 14.4 (Build 23E214) Quartz PDFContext', 'creator': 'PowerPoint', 'creationdate': \"D:20240315052541Z00'00'\", 'moddate': \"D:20240315052541Z00'00'\", 'source': 'LLM.pdf', 'total_pages': 67, 'page': 33, 'page_label': '34'}, page_content='Large Language ModelsPretraining (and how to train transformers for language modeling)'),\n",
       " Document(metadata={'producer': 'macOS Version 14.4 (Build 23E214) Quartz PDFContext', 'creator': 'PowerPoint', 'creationdate': \"D:20240315052541Z00'00'\", 'moddate': \"D:20240315052541Z00'00'\", 'source': 'LLM.pdf', 'total_pages': 67, 'page': 34, 'page_label': '35'}, page_content='PretrainingThe big idea that underlies all the amazing performance of language modelsFirst pretrain a transformer model on enormous amounts of textThen apply it to new tasks.'),\n",
       " Document(metadata={'producer': 'macOS Version 14.4 (Build 23E214) Quartz PDFContext', 'creator': 'PowerPoint', 'creationdate': \"D:20240315052541Z00'00'\", 'moddate': \"D:20240315052541Z00'00'\", 'source': 'LLM.pdf', 'total_pages': 67, 'page': 35, 'page_label': '36'}, page_content='Intuition of language model trainingWe just train them to predict the next word!1.Take a corpus of text 2.At each time step t i.ask the model to predict the next word ii.train the model using gradient descent to minimize the error in this prediction'),\n",
       " Document(metadata={'producer': 'macOS Version 14.4 (Build 23E214) Quartz PDFContext', 'creator': 'PowerPoint', 'creationdate': \"D:20240315052541Z00'00'\", 'moddate': \"D:20240315052541Z00'00'\", 'source': 'LLM.pdf', 'total_pages': 67, 'page': 36, 'page_label': '37'}, page_content='Intuition of language model training: loss•Same loss function: cross-entropy loss•We want the model to assign a high probability to true word w•= want loss to be high if the model assigns too low a probability to w•CE Loss: The negative log probability that the model assigns to the true next word w•If the model assigns too low a probability to w•We move the model weights in the direction that assigns a higher probability to w'),\n",
       " Document(metadata={'producer': 'macOS Version 14.4 (Build 23E214) Quartz PDFContext', 'creator': 'PowerPoint', 'creationdate': \"D:20240315052541Z00'00'\", 'moddate': \"D:20240315052541Z00'00'\", 'source': 'LLM.pdf', 'total_pages': 67, 'page': 37, 'page_label': '38'}, page_content='Training a transformer language model\\nInput\\nEmbeddings\\nTransformer\\nBlock\\nSoftmax over\\nVocabulary\\nSo long and thanks for\\nlong and thanks forNext word all\\n…\\nLoss …\\n…\\n=\\nLinear Layer'),\n",
       " Document(metadata={'producer': 'macOS Version 14.4 (Build 23E214) Quartz PDFContext', 'creator': 'PowerPoint', 'creationdate': \"D:20240315052541Z00'00'\", 'moddate': \"D:20240315052541Z00'00'\", 'source': 'LLM.pdf', 'total_pages': 67, 'page': 38, 'page_label': '39'}, page_content='Pretraining Data: mostly from the web (Common Crawl)The Pile:\\nFigure 1: Treemap of Pile components by effective size.\\ntroduce a new ﬁltered subset of Common Crawl,\\nPile-CC, with improved extraction quality.\\nThrough our analyses, we conﬁrm that the Pile is\\nsigniﬁcantly distinct from pure Common Crawl\\ndata. Additionally, our evaluations show that the\\nexisting GPT-2 and GPT-3 models perform poorly\\non many components of the Pile, and that models\\ntrained on the Pile signiﬁcantly outperform both\\nraw and ﬁltered Common Crawl models. To com-\\nplement the performance evaluations, we also per-\\nform an exploratory analysis of the text within the\\nPile to provide a detailed picture of the data. We\\nhope that our extensive documentation of the con-\\nstruction and characteristics of the Pile will help\\nresearchers make informed decisions about poten-\\ntial downstream applications.\\nFinally, we make publicly available the preprocess-\\ning code for the constituent datasets of the Pile and\\nthe code for constructing alternative versions 2\\n. In\\nthe interest of reproducibility, we also document\\nall processing performed on each dataset (and the\\nPile as a whole) in as much detail as possible. For\\nfurther details about the processing of each dataset,\\nsee Section 2 and Appendix C .\\n2\\nhttps://github.com/EleutherAI/\\nthe-pile\\n1.1 Contributions\\nThe core contributions of this paper are:\\n1. The introduction of a 825 . 18 GiB english-\\nlanguage dataset for language modeling com-\\nbining 22 diverse sources.\\n2. The introduction of 14 new language model-\\ning datasets, which we expect to be of inde-\\npendent interest to researchers.\\n3. Evaluations demonstrating signiﬁcant im-\\nprovements across many domains by GPT-2-\\nsized models trained on this new dataset, com-\\npared to training on CC-100 and raw Common\\nCrawl.\\n4. The investigation and documentation of this\\ndataset, which we hope will better inform re-\\nsearchers about how to use it as well as moti-\\nvate them to undertake similar investigations\\nof their own data.\\n2 The Pile Datasets\\nThe Pile is composed of 22 constituent sub-datasets,\\nas shown in Table 1 . Following Brown et al. ( 2020 ),\\nwe increase the weights of higher quality compo-\\nnents, with certain high-quality datasets such as\\nWikipedia being seen up to 3 times (“epochs”) for\\n2'),\n",
       " Document(metadata={'producer': 'macOS Version 14.4 (Build 23E214) Quartz PDFContext', 'creator': 'PowerPoint', 'creationdate': \"D:20240315052541Z00'00'\", 'moddate': \"D:20240315052541Z00'00'\", 'source': 'LLM.pdf', 'total_pages': 67, 'page': 39, 'page_label': '40'}, page_content='What does a model learn from pretraining?•There are canines everywhere! One dog in the front room, and two dogs•It wasn\\'t just big it was enormous•The author of \"A Room of One\\'s Own\" is Virginia Woolf•The doctor told me that he•The square root of 4 is 2'),\n",
       " Document(metadata={'producer': 'macOS Version 14.4 (Build 23E214) Quartz PDFContext', 'creator': 'PowerPoint', 'creationdate': \"D:20240315052541Z00'00'\", 'moddate': \"D:20240315052541Z00'00'\", 'source': 'LLM.pdf', 'total_pages': 67, 'page': 40, 'page_label': '41'}, page_content='Big ideaText contains enormous amounts of knowledgePretraining on lots of text with all that knowledge is what gives language models their ability to do so much'),\n",
       " Document(metadata={'producer': 'macOS Version 14.4 (Build 23E214) Quartz PDFContext', 'creator': 'PowerPoint', 'creationdate': \"D:20240315052541Z00'00'\", 'moddate': \"D:20240315052541Z00'00'\", 'source': 'LLM.pdf', 'total_pages': 67, 'page': 41, 'page_label': '42'}, page_content='Large Language ModelsPretraining (and how to train transformers for language modeling)'),\n",
       " Document(metadata={'producer': 'macOS Version 14.4 (Build 23E214) Quartz PDFContext', 'creator': 'PowerPoint', 'creationdate': \"D:20240315052541Z00'00'\", 'moddate': \"D:20240315052541Z00'00'\", 'source': 'LLM.pdf', 'total_pages': 67, 'page': 42, 'page_label': '43'}, page_content='Large Language ModelsLarge Language Models: Applying pretrained models to new tasks'),\n",
       " Document(metadata={'producer': 'macOS Version 14.4 (Build 23E214) Quartz PDFContext', 'creator': 'PowerPoint', 'creationdate': \"D:20240315052541Z00'00'\", 'moddate': \"D:20240315052541Z00'00'\", 'source': 'LLM.pdf', 'total_pages': 67, 'page': 43, 'page_label': '44'}, page_content='Big ideaMany tasks can be turned into tasks of predicting words!'),\n",
       " Document(metadata={'producer': 'macOS Version 14.4 (Build 23E214) Quartz PDFContext', 'creator': 'PowerPoint', 'creationdate': \"D:20240315052541Z00'00'\", 'moddate': \"D:20240315052541Z00'00'\", 'source': 'LLM.pdf', 'total_pages': 67, 'page': 44, 'page_label': '45'}, page_content='Three architectures for large language models\\nDecoders   Encoders     Encoder-decodersGPT, Claude,  BERT family,  Flan-T5, WhisperLlama 2   HuBERTMixtral\\nPretraining for three types of architecturesThe neural architecture influences the type of pretraining, and natural use cases.\\n32\\nDecoders• Language models! What we’ve seen so far.• Nice to generate from; can’t condition on future words\\nEncoders• Gets bidirectional context – can condition on future!• How do we train them to build strong representations?\\nEncoder-Decoders• Good parts of decoders and encoders?• What’s the best way to pretrain them?\\nPretraining for three types of architecturesThe neural architecture influences the type of pretraining, and natural use cases.\\n32\\nDecoders• Language models! What we’ve seen so far.• Nice to generate from; can’t condition on future words\\nEncoders• Gets bidirectional context – can condition on future!• How do we train them to build strong representations?\\nEncoder-Decoders• Good parts of decoders and encoders?• What’s the best way to pretrain them?\\nPretraining for three types of architecturesThe neural architecture influences the type of pretraining, and natural use cases.\\n32\\nDecoders• Language models! What we’ve seen so far.• Nice to generate from; can’t condition on future words\\nEncoders• Gets bidirectional context – can condition on future!• How do we train them to build strong representations?\\nEncoder-Decoders• Good parts of decoders and encoders?• What’s the best way to pretrain them?'),\n",
       " Document(metadata={'producer': 'macOS Version 14.4 (Build 23E214) Quartz PDFContext', 'creator': 'PowerPoint', 'creationdate': \"D:20240315052541Z00'00'\", 'moddate': \"D:20240315052541Z00'00'\", 'source': 'LLM.pdf', 'total_pages': 67, 'page': 45, 'page_label': '46'}, page_content='DecodersAlso called:•Causal LLMs•Autoregressive LLMs•Left-to-right LLMs•Predict words left to right\\nPretraining for three types of architecturesThe neural architecture influences the type of pretraining, and natural use cases.\\n32\\nDecoders• Language models! What we’ve seen so far.• Nice to generate from; can’t condition on future words\\nEncoders• Gets bidirectional context – can condition on future!• How do we train them to build strong representations?\\nEncoder-Decoders• Good parts of decoders and encoders?• What’s the best way to pretrain them?'),\n",
       " Document(metadata={'producer': 'macOS Version 14.4 (Build 23E214) Quartz PDFContext', 'creator': 'PowerPoint', 'creationdate': \"D:20240315052541Z00'00'\", 'moddate': \"D:20240315052541Z00'00'\", 'source': 'LLM.pdf', 'total_pages': 67, 'page': 46, 'page_label': '47'}, page_content='Conditional Generation: Generating text conditioned on previous text!\\nPreﬁx Text\\nCompletion Text\\nInput\\nEmbeddings\\nTransformer\\nBlocks\\nSample from Softmax\\nSo long\\nall\\nand thanks for all\\nthe\\nthe\\n…\\nlinear layer'),\n",
       " Document(metadata={'producer': 'macOS Version 14.4 (Build 23E214) Quartz PDFContext', 'creator': 'PowerPoint', 'creationdate': \"D:20240315052541Z00'00'\", 'moddate': \"D:20240315052541Z00'00'\", 'source': 'LLM.pdf', 'total_pages': 67, 'page': 47, 'page_label': '48'}, page_content='Framing lots of tasks as conditional generationSentiment analysis: “I like Jackie Chan”1.We give the language model this string:The sentiment of the sentence \"I like Jackie Chan\" is: 2.And see what word it thinks comes next:\\n20 C HAPTER 10 • T RANSFORMERS AND L ARGE L ANGUAGE M ODELS\\nPreﬁx Text\\nCompletion Text\\nInput\\nEmbeddings\\nTransformer\\nBlocks\\nSample from Softmax\\nSo long\\nall\\nand thanks for all\\nthe\\nthe\\n…\\nlinear layer\\nFigure 10.15 Autoregressive text completion with transformer-based large language models.\\nword “negative” to see which is higher:\\nP ( positive | The sentiment of the sentence “I like Jackie Chan” is: )\\nP ( negative | The sentiment of the sentence “I like Jackie Chan” is: )\\nIf the word “positive” is more probable, we say the sentiment of the sentence is\\npositive, otherwise we say the sentiment is negative.\\nWe can also cast more complex tasks as word prediction. Consider the task\\nof answering simple questions, a task we return to in Chapter 14. In this task the\\nsystem is given some question and must give a textual answer. We can cast the task\\nof question answering as word prediction by giving a language model a question and\\na token like A: suggesting that an answer should come next:\\nQ: Who wrote the book ‘‘The Origin of Species\"? A:\\nIf we ask a language model to compute\\nP ( w | Q: Who wrote the book “The Origin of Species”? A: )\\nand look at which words w have high probabilities, we might expect to see that\\nCharles is very likely, and then if we choose Charles and continue and ask\\nP ( w | Q: Who wrote the book “The Origin of Species”? A: Charles )\\nwe might now see that Darwin is the most probable word, and select it.\\nConditional generation can even be used to accomplish tasks that must generate\\nlonger responses. Consider the task of text summarization , which is to take a long\\ntext\\nsummarization\\ntext, such as a full-length article, and produce an effective shorter summary of it.\\nWe can cast summarization as language modeling by giving a large language model\\na text, and follow the text by a token like tl;dr ; this token is short for something\\nlike ‘too long; don’t read’ and in recent years people often use this token, especially\\nin informal work emails, when they are going to give a short summary. We can\\nthen do conditional generation: give the language model this preﬁx, and then ask'),\n",
       " Document(metadata={'producer': 'macOS Version 14.4 (Build 23E214) Quartz PDFContext', 'creator': 'PowerPoint', 'creationdate': \"D:20240315052541Z00'00'\", 'moddate': \"D:20240315052541Z00'00'\", 'source': 'LLM.pdf', 'total_pages': 67, 'page': 48, 'page_label': '49'}, page_content='Framing lots of tasks as conditional generationQA: “Who wrote The Origin of Species”1.We give the language model this string:\\n2.And see what word it thinks comes next:\\n20 C HAPTER 10 • T RANSFORMERS AND L ARGE L ANGUAGE M ODELS\\nPreﬁx Text\\nCompletion Text\\nInput\\nEmbeddings\\nTransformer\\nBlocks\\nSample from Softmax\\nSo long\\nall\\nand thanks for all\\nthe\\nthe\\n…\\nlinear layer\\nFigure 10.15 Autoregressive text completion with transformer-based large language models.\\nword “negative” to see which is higher:\\nP ( positive | The sentiment of the sentence “I like Jackie Chan” is: )\\nP ( negative | The sentiment of the sentence “I like Jackie Chan” is: )\\nIf the word “positive” is more probable, we say the sentiment of the sentence is\\npositive, otherwise we say the sentiment is negative.\\nWe can also cast more complex tasks as word prediction. Consider the task\\nof answering simple questions, a task we return to in Chapter 14. In this task the\\nsystem is given some question and must give a textual answer. We can cast the task\\nof question answering as word prediction by giving a language model a question and\\na token like A: suggesting that an answer should come next:\\nQ: Who wrote the book ‘‘The Origin of Species\"? A:\\nIf we ask a language model to compute\\nP ( w | Q: Who wrote the book “The Origin of Species”? A: )\\nand look at which words w have high probabilities, we might expect to see that\\nCharles is very likely, and then if we choose Charles and continue and ask\\nP ( w | Q: Who wrote the book “The Origin of Species”? A: Charles )\\nwe might now see that Darwin is the most probable word, and select it.\\nConditional generation can even be used to accomplish tasks that must generate\\nlonger responses. Consider the task of text summarization , which is to take a long\\ntext\\nsummarization\\ntext, such as a full-length article, and produce an effective shorter summary of it.\\nWe can cast summarization as language modeling by giving a large language model\\na text, and follow the text by a token like tl;dr ; this token is short for something\\nlike ‘too long; don’t read’ and in recent years people often use this token, especially\\nin informal work emails, when they are going to give a short summary. We can\\nthen do conditional generation: give the language model this preﬁx, and then ask\\n20 C HAPTER 10 • T RANSFORMERS AND L ARGE L ANGUAGE M ODELS\\nPreﬁx Text\\nCompletion Text\\nInput\\nEmbeddings\\nTransformer\\nBlocks\\nSample from Softmax\\nSo long\\nall\\nand thanks for all\\nthe\\nthe\\n…\\nlinear layer\\nFigure 10.15 Autoregressive text completion with transformer-based large language models.\\nword “negative” to see which is higher:\\nP ( positive | The sentiment of the sentence “I like Jackie Chan” is: )\\nP ( negative | The sentiment of the sentence “I like Jackie Chan” is: )\\nIf the word “positive” is more probable, we say the sentiment of the sentence is\\npositive, otherwise we say the sentiment is negative.\\nWe can also cast more complex tasks as word prediction. Consider the task\\nof answering simple questions, a task we return to in Chapter 14. In this task the\\nsystem is given some question and must give a textual answer. We can cast the task\\nof question answering as word prediction by giving a language model a question and\\na token like A: suggesting that an answer should come next:\\nQ: Who wrote the book ‘‘The Origin of Species\"? A:\\nIf we ask a language model to compute\\nP ( w | Q: Who wrote the book “The Origin of Species”? A: )\\nand look at which words w have high probabilities, we might expect to see that\\nCharles is very likely, and then if we choose Charles and continue and ask\\nP ( w | Q: Who wrote the book “The Origin of Species”? A: Charles )\\nwe might now see that Darwin is the most probable word, and select it.\\nConditional generation can even be used to accomplish tasks that must generate\\nlonger responses. Consider the task of text summarization , which is to take a long\\ntext\\nsummarization\\ntext, such as a full-length article, and produce an effective shorter summary of it.\\nWe can cast summarization as language modeling by giving a large language model\\na text, and follow the text by a token like tl;dr ; this token is short for something\\nlike ‘too long; don’t read’ and in recent years people often use this token, especially\\nin informal work emails, when they are going to give a short summary. We can\\nthen do conditional generation: give the language model this preﬁx, and then ask'),\n",
       " Document(metadata={'producer': 'macOS Version 14.4 (Build 23E214) Quartz PDFContext', 'creator': 'PowerPoint', 'creationdate': \"D:20240315052541Z00'00'\", 'moddate': \"D:20240315052541Z00'00'\", 'source': 'LLM.pdf', 'total_pages': 67, 'page': 49, 'page_label': '50'}, page_content='EncodersMany varieties!•Popular: Masked Language Models (MLMs)•BERT family•Trained by predicting words from surrounding words on both sides•Are usually fine-tuned (trained on supervised data) for classification tasks.\\nPretraining for three types of architecturesThe neural architecture influences the type of pretraining, and natural use cases.\\n32\\nDecoders• Language models! What we’ve seen so far.• Nice to generate from; can’t condition on future words\\nEncoders• Gets bidirectional context – can condition on future!• How do we train them to build strong representations?\\nEncoder-Decoders• Good parts of decoders and encoders?• What’s the best way to pretrain them?'),\n",
       " Document(metadata={'producer': 'macOS Version 14.4 (Build 23E214) Quartz PDFContext', 'creator': 'PowerPoint', 'creationdate': \"D:20240315052541Z00'00'\", 'moddate': \"D:20240315052541Z00'00'\", 'source': 'LLM.pdf', 'total_pages': 67, 'page': 50, 'page_label': '51'}, page_content='Encoder-Decoders\\n•Trained to map from one sequence to another•Very popular for:•machine translation (map from one language to another)•speech recognition (map from acoustics to words)\\nPretraining for three types of architecturesThe neural architecture influences the type of pretraining, and natural use cases.\\n32\\nDecoders• Language models! What we’ve seen so far.• Nice to generate from; can’t condition on future words\\nEncoders• Gets bidirectional context – can condition on future!• How do we train them to build strong representations?\\nEncoder-Decoders• Good parts of decoders and encoders?• What’s the best way to pretrain them?'),\n",
       " Document(metadata={'producer': 'macOS Version 14.4 (Build 23E214) Quartz PDFContext', 'creator': 'PowerPoint', 'creationdate': \"D:20240315052541Z00'00'\", 'moddate': \"D:20240315052541Z00'00'\", 'source': 'LLM.pdf', 'total_pages': 67, 'page': 51, 'page_label': '52'}, page_content=\"Many more things I didn't talk aboutInstruction Fine-tuning Preference Alignment Prompt EngineeringWhere to learn these?  CS224N!\"),\n",
       " Document(metadata={'producer': 'macOS Version 14.4 (Build 23E214) Quartz PDFContext', 'creator': 'PowerPoint', 'creationdate': \"D:20240315052541Z00'00'\", 'moddate': \"D:20240315052541Z00'00'\", 'source': 'LLM.pdf', 'total_pages': 67, 'page': 52, 'page_label': '53'}, page_content='Large Language ModelsLarge Language Models: Applying pretrained models to new tasks'),\n",
       " Document(metadata={'producer': 'macOS Version 14.4 (Build 23E214) Quartz PDFContext', 'creator': 'PowerPoint', 'creationdate': \"D:20240315052541Z00'00'\", 'moddate': \"D:20240315052541Z00'00'\", 'source': 'LLM.pdf', 'total_pages': 67, 'page': 53, 'page_label': '54'}, page_content='Large Language ModelsHarms of Large Language Models'),\n",
       " Document(metadata={'producer': 'macOS Version 14.4 (Build 23E214) Quartz PDFContext', 'creator': 'PowerPoint', 'creationdate': \"D:20240315052541Z00'00'\", 'moddate': \"D:20240315052541Z00'00'\", 'source': 'LLM.pdf', 'total_pages': 67, 'page': 54, 'page_label': '55'}, page_content='Hallucination'),\n",
       " Document(metadata={'producer': 'macOS Version 14.4 (Build 23E214) Quartz PDFContext', 'creator': 'PowerPoint', 'creationdate': \"D:20240315052541Z00'00'\", 'moddate': \"D:20240315052541Z00'00'\", 'source': 'LLM.pdf', 'total_pages': 67, 'page': 55, 'page_label': '56'}, page_content='Current research direction to address hallucinationRetrieval-Augmented Generation (RAG)Use information retrieval to retrieve some passages from a high-quality sourceThen use a language model to generate an answer from those passages'),\n",
       " Document(metadata={'producer': 'macOS Version 14.4 (Build 23E214) Quartz PDFContext', 'creator': 'PowerPoint', 'creationdate': \"D:20240315052541Z00'00'\", 'moddate': \"D:20240315052541Z00'00'\", 'source': 'LLM.pdf', 'total_pages': 67, 'page': 56, 'page_label': '57'}, page_content='Copyright'),\n",
       " Document(metadata={'producer': 'macOS Version 14.4 (Build 23E214) Quartz PDFContext', 'creator': 'PowerPoint', 'creationdate': \"D:20240315052541Z00'00'\", 'moddate': \"D:20240315052541Z00'00'\", 'source': 'LLM.pdf', 'total_pages': 67, 'page': 57, 'page_label': '58'}, page_content='Privacy'),\n",
       " Document(metadata={'producer': 'macOS Version 14.4 (Build 23E214) Quartz PDFContext', 'creator': 'PowerPoint', 'creationdate': \"D:20240315052541Z00'00'\", 'moddate': \"D:20240315052541Z00'00'\", 'source': 'LLM.pdf', 'total_pages': 67, 'page': 58, 'page_label': '59'}, page_content='Toxicity and Abuse'),\n",
       " Document(metadata={'producer': 'macOS Version 14.4 (Build 23E214) Quartz PDFContext', 'creator': 'PowerPoint', 'creationdate': \"D:20240315052541Z00'00'\", 'moddate': \"D:20240315052541Z00'00'\", 'source': 'LLM.pdf', 'total_pages': 67, 'page': 59, 'page_label': '60'}, page_content='Misinformation'),\n",
       " Document(metadata={'producer': 'macOS Version 14.4 (Build 23E214) Quartz PDFContext', 'creator': 'PowerPoint', 'creationdate': \"D:20240315052541Z00'00'\", 'moddate': \"D:20240315052541Z00'00'\", 'source': 'LLM.pdf', 'total_pages': 67, 'page': 60, 'page_label': '61'}, page_content='Vast growth in interest in Ethics of LLMs and AI\\nHAI: AI Index 2023'),\n",
       " Document(metadata={'producer': 'macOS Version 14.4 (Build 23E214) Quartz PDFContext', 'creator': 'PowerPoint', 'creationdate': \"D:20240315052541Z00'00'\", 'moddate': \"D:20240315052541Z00'00'\", 'source': 'LLM.pdf', 'total_pages': 67, 'page': 61, 'page_label': '62'}, page_content='Large Language ModelsHarms of Large Language Models'),\n",
       " Document(metadata={'producer': 'macOS Version 14.4 (Build 23E214) Quartz PDFContext', 'creator': 'PowerPoint', 'creationdate': \"D:20240315052541Z00'00'\", 'moddate': \"D:20240315052541Z00'00'\", 'source': 'LLM.pdf', 'total_pages': 67, 'page': 62, 'page_label': '63'}, page_content='Large Language ModelsOur last class together!'),\n",
       " Document(metadata={'producer': 'macOS Version 14.4 (Build 23E214) Quartz PDFContext', 'creator': 'PowerPoint', 'creationdate': \"D:20240315052541Z00'00'\", 'moddate': \"D:20240315052541Z00'00'\", 'source': 'LLM.pdf', 'total_pages': 67, 'page': 63, 'page_label': '64'}, page_content='Learning goalsWrite regular expressions for text tasksApply the edit distance algorithmBuild a supervised classifierBuild a search engineWork with neural word embeddingsTrain a neural networkBuild a recommendation engineBuild a chatbotPrompt a large language model'),\n",
       " Document(metadata={'producer': 'macOS Version 14.4 (Build 23E214) Quartz PDFContext', 'creator': 'PowerPoint', 'creationdate': \"D:20240315052541Z00'00'\", 'moddate': \"D:20240315052541Z00'00'\", 'source': 'LLM.pdf', 'total_pages': 67, 'page': 64, 'page_label': '65'}, page_content=\"What's next? Spring 2024 NLP adjacent coursesCS224N: Natural Language Processing with Deep Learning (Chris Manning)Algorithmic internals: transformers, GPT, parsing, machine translation and other applications. More of the gory details! More math, more machine learningCS224C: NLP for Computational Social Science (Diyi Yang)…machine learning and theories from social science to study human behaviors and important societal questions at scale. NLP , social networks, causal inference, application to social topics like hate speech, misinformation, and social movements.CS 224S: Spoken Language Processing: (Andrew Maas)Introduction to spoken language technology with an emphasis on dialogue and conversational systems.CS 336: Language Modeling from Scratch (Tatsu Hashimoto and Percy Liang)every aspect of language model creation, including data collection and cleansing for pre-training, transformer model construction, model training, and evaluation before deployment. Application required.CS 246: Mining Massive Data Sets (Jure Leskovec)\\n65\"),\n",
       " Document(metadata={'producer': 'macOS Version 14.4 (Build 23E214) Quartz PDFContext', 'creator': 'PowerPoint', 'creationdate': \"D:20240315052541Z00'00'\", 'moddate': \"D:20240315052541Z00'00'\", 'source': 'LLM.pdf', 'total_pages': 67, 'page': 65, 'page_label': '66'}, page_content=\"Next year courses!CS 224V:Conversational Virtual Assistants with Deep Learning (Monica Lam)Topics include: (1) growing LLMs' knowledge, (2) stopping LLMs from hallucination (3) experimentation and evaluation of conversational assistants based on LLMs, (5) controlling LLMs to achieve tasks, (6) persuasive LLMs, (7) multilingual assistants, and (8) combining voice and graphical interfaces. CS329X Human Centered NLP)  (Diyi Yang)human-centered design thinking in NLP , human-in-the-loop algorithms, fairness, and accessibility. CS329R Race and NLP (Dan Jurafsky and Jennifer Eberhardt)Integrate methods from natural language processing with social psychological perspectives on race to build practical systems that address significant societal issues66\"),\n",
       " Document(metadata={'producer': 'macOS Version 14.4 (Build 23E214) Quartz PDFContext', 'creator': 'PowerPoint', 'creationdate': \"D:20240315052541Z00'00'\", 'moddate': \"D:20240315052541Z00'00'\", 'source': 'LLM.pdf', 'total_pages': 67, 'page': 66, 'page_label': '67'}, page_content='Fun courses outside of CSSpring:Linguist 173:  Invented LanguagesLinguist 134A: The Structure of DiscourseLinguist 156: Language, Gender, and SexualityCOMM 154:The Politics of AlgorithmsNext year:Linguistics 150: Language and SocietyLinguistics 130a: Introduction to semantics & pragmatics67')]"
      ]
     },
     "execution_count": 9,
     "metadata": {},
     "output_type": "execute_result"
    }
   ],
   "source": [
    "test2.load()"
   ]
  },
  {
   "cell_type": "code",
   "execution_count": 10,
   "id": "6f9898d4",
   "metadata": {},
   "outputs": [
    {
     "name": "stderr",
     "output_type": "stream",
     "text": [
      "USER_AGENT environment variable not set, consider setting it to identify your requests.\n"
     ]
    }
   ],
   "source": [
    "from langchain_community.document_loaders import WebBaseLoader"
   ]
  },
  {
   "cell_type": "code",
   "execution_count": 11,
   "id": "03b1569e",
   "metadata": {},
   "outputs": [
    {
     "name": "stderr",
     "output_type": "stream",
     "text": [
      "735.81s - pydevd: Sending message related to process being replaced timed-out after 5 seconds\n"
     ]
    },
    {
     "name": "stdout",
     "output_type": "stream",
     "text": [
      "Collecting bs4\n",
      "  Obtaining dependency information for bs4 from https://files.pythonhosted.org/packages/51/bb/bf7aab772a159614954d84aa832c129624ba6c32faa559dfb200a534e50b/bs4-0.0.2-py2.py3-none-any.whl.metadata\n",
      "  Downloading bs4-0.0.2-py2.py3-none-any.whl.metadata (411 bytes)\n",
      "Collecting beautifulsoup4 (from bs4)\n",
      "  Obtaining dependency information for beautifulsoup4 from https://files.pythonhosted.org/packages/04/eb/f4151e0c7377a6e08a38108609ba5cede57986802757848688aeedd1b9e8/beautifulsoup4-4.13.5-py3-none-any.whl.metadata\n",
      "  Downloading beautifulsoup4-4.13.5-py3-none-any.whl.metadata (3.8 kB)\n",
      "Collecting soupsieve>1.2 (from beautifulsoup4->bs4)\n",
      "  Obtaining dependency information for soupsieve>1.2 from https://files.pythonhosted.org/packages/14/a0/bb38d3b76b8cae341dad93a2dd83ab7462e6dbcdd84d43f54ee60a8dc167/soupsieve-2.8-py3-none-any.whl.metadata\n",
      "  Downloading soupsieve-2.8-py3-none-any.whl.metadata (4.6 kB)\n",
      "Requirement already satisfied: typing-extensions>=4.0.0 in /Users/rvignesh-19772/Library/Python/3.11/lib/python/site-packages (from beautifulsoup4->bs4) (4.15.0)\n",
      "Downloading bs4-0.0.2-py2.py3-none-any.whl (1.2 kB)\n",
      "Downloading beautifulsoup4-4.13.5-py3-none-any.whl (105 kB)\n",
      "\u001b[2K   \u001b[90m━━━━━━━━━━━━━━━━━━━━━━━━━━━━━━━━━━━━━━━━\u001b[0m \u001b[32m105.1/105.1 kB\u001b[0m \u001b[31m1.1 MB/s\u001b[0m eta \u001b[36m0:00:00\u001b[0m \u001b[36m0:00:01\u001b[0m\n",
      "\u001b[?25hDownloading soupsieve-2.8-py3-none-any.whl (36 kB)\n",
      "Installing collected packages: soupsieve, beautifulsoup4, bs4\n",
      "Successfully installed beautifulsoup4-4.13.5 bs4-0.0.2 soupsieve-2.8\n",
      "\n",
      "\u001b[1m[\u001b[0m\u001b[34;49mnotice\u001b[0m\u001b[1;39;49m]\u001b[0m\u001b[39;49m A new release of pip is available: \u001b[0m\u001b[31;49m23.2.1\u001b[0m\u001b[39;49m -> \u001b[0m\u001b[32;49m25.2\u001b[0m\n",
      "\u001b[1m[\u001b[0m\u001b[34;49mnotice\u001b[0m\u001b[1;39;49m]\u001b[0m\u001b[39;49m To update, run: \u001b[0m\u001b[32;49mpip3 install --upgrade pip\u001b[0m\n",
      "Note: you may need to restart the kernel to use updated packages.\n"
     ]
    }
   ],
   "source": [
    "pip install bs4"
   ]
  },
  {
   "cell_type": "code",
   "execution_count": 12,
   "id": "8cf6605c",
   "metadata": {},
   "outputs": [],
   "source": [
    "test3 = WebBaseLoader(web_path=\"https://www.geeksforgeeks.org/artificial-intelligence/large-language-model-llm/\")"
   ]
  },
  {
   "cell_type": "code",
   "execution_count": 13,
   "id": "19455a8c",
   "metadata": {},
   "outputs": [
    {
     "data": {
      "text/plain": [
       "[Document(metadata={'source': 'https://www.geeksforgeeks.org/artificial-intelligence/large-language-model-llm/', 'title': 'What is a Large Language Model (LLM) - GeeksforGeeks', 'description': 'Your All-in-One Learning Portal: GeeksforGeeks is a comprehensive educational platform that empowers learners across domains-spanning computer science and programming, school education, upskilling, commerce, software tools, competitive exams, and more.', 'language': 'en-US'}, page_content=\"\\n\\n\\n\\n\\n\\n\\n\\n\\n\\n\\n\\n\\n\\n\\n\\n\\n\\n\\n\\n\\n\\n\\n\\n\\n\\n\\n\\n\\n\\n\\n\\n\\n\\n\\n\\n\\n\\n\\n\\n\\n\\n\\n\\n\\n\\n\\n\\n\\n\\n\\nWhat is a Large Language Model (LLM) - GeeksforGeeks\\n\\n\\n\\n\\n\\n\\n\\n\\n\\n\\n\\n\\n\\n\\n\\n\\n\\n\\n\\n\\n\\n\\n\\n\\n\\n\\n\\n\\n\\n\\n\\n\\n\\n\\n\\n\\n\\n\\nSkip to content\\n\\n\\n\\n\\n\\n\\n\\n\\n\\n\\n \\n\\n\\n\\n\\n\\n\\n\\n\\n\\n\\nCoursesDSA / PlacementsGATE 2026 PrepML & Data ScienceDevelopmentCloud / DevOpsProgramming LanguagesAll CoursesTutorialsPythonJavaDSAML & Data ScienceInterview CornerProgramming LanguagesWeb DevelopmentGATECS SubjectsDevOpsSchool LearningSoftware and ToolsPracticePractice Coding ProblemsNation Skillup- Free CoursesProblem of the DayJobsBecome a MentorApply Now!Post JobsJob-A-Thon: Hiring ChallengeJobs Updates\\n\\n\\n\\n\\n\\n\\n\\n\\n\\n\\n\\n\\n\\n\\n\\n\\n\\n\\n\\n\\n\\n\\n\\n\\n\\n\\n\\n\\n\\n\\n\\n\\nNotifications\\n\\nMark all as read\\n\\n\\n\\n\\n\\nAll\\n\\n\\n\\n\\n\\n \\n\\nView All\\n\\n\\n\\n\\n\\n\\n\\n\\n\\nNotifications\\n\\n\\n\\nMark all as read\\n\\n\\n\\n\\n\\n\\nAll\\n\\n\\nUnread\\n\\n\\nRead\\n\\n\\n\\n\\n\\r\\n                        You're all caught up!!\\r\\n                    \\n\\n\\n\\n\\n\\n\\n\\n\\n\\n\\n\\n\\n\\n\\n\\n\\n\\n\\n\\n\\n\\n\\n\\n\\n\\n\\nPythonR LanguagePython for Data ScienceNumPyPandasOpenCVData AnalysisML MathMachine LearningNLPDeep LearningDeep Learning Interview QuestionsMachine LearningML ProjectsML Interview Questions \\n\\n\\n\\n\\n\\n\\n\\n\\n\\n\\n\\n\\n\\n\\n\\n\\n\\n\\n\\nSign In\\n\\n\\n▲\\n\\n\\n\\n\\n\\n\\n\\n\\n\\n\\n\\n\\nOpen In App\\n\\n\\n\\n\\n\\n\\n\\n\\n\\n\\n\\nNation SkillUpShare Your ExperiencesIntroduction to AIWhat is Artificial Intelligence (AI)Types of Artificial Intelligence (AI)Types of AI Based on FunctionalitiesAgents in AIArtificial intelligence vs Machine Learning vs Deep LearningProblem Solving in Artificial IntelligenceTop 20 Applications of Artificial Intelligence (AI) in 2025AI ConceptsSearch Algorithms in AILocal Search Algorithm in Artificial IntelligenceAdversarial Search Algorithms in Artificial Intelligence (AI)Constraint Satisfaction Problems (CSP) in Artificial IntelligenceKnowledge Representation in AIFirst-Order Logic in Artificial IntelligenceReasoning Mechanisms in AIMachine Learning in AIMachine Learning TutorialDeep Learning TutorialNatural Language Processing (NLP) TutorialComputer Vision TutorialRobotics and AIArtificial Intelligence in RoboticsWhat is Robotics Process AutomationAutomated Planning in AIAI in Transportation - Benifits, Use Cases and ExamplesAI in Manufacturing : Revolutionizing the IndustryGenerative AIWhat is Generative AI?Generative Adversarial Network (GAN)Cycle Generative Adversarial Network (CycleGAN)StyleGAN - Style Generative Adversarial NetworksIntroduction to Generative Pre-trained Transformer (GPT)BERT Model - NLPGenerative AI Applications AI PracticeTop Artificial Intelligence(AI) Interview Questions and Answers\\tTop Generative AI Interview Question with Answer30+ Best Artificial Intelligence Project Ideas with Source Code [2025 Updated]DSA to Development Course \\n\\n\\n\\n\\n\\n\\n\\n\\n\\n\\n\\n\\n\\n\\n\\n\\nWhat is a Large Language Model (LLM)\\n\\n\\n\\nLast Updated : \\n21 Aug, 2025\\n\\n\\n\\n\\n\\n\\n\\n\\n\\n\\n\\n\\nComments\\n\\n\\n\\n\\n\\n\\n\\nImprove\\n\\n\\n\\n\\n\\n\\n\\n\\n\\n\\n\\n\\n\\n\\n\\n\\n\\n\\n\\n\\n\\n\\n\\n\\n\\n\\n\\nSuggest changes\\n\\n\\n\\n\\n\\n\\nLike Article\\n\\n\\n\\nLike\\n\\n\\n\\n\\n\\n\\n\\n\\n\\n\\nReport\\n\\n\\n\\n\\n\\n\\n\\n\\n\\n\\nLarge Language Models (LLMs) are advanced AI systems based on deep neural networks, designed to process and generate text that resembles human language. They form the backbone of modern Natural Language Processing (NLP) applications, powering tools like ChatGPT, Google Gemini and Anthropic Claude.LLMTypical applications include:Text generation & summarizationConversational AI (chatbots, assistants)Language translation & correctionCode generation & debuggingMultimodal tasks (image + text reasoning, video understanding)  Evolution of GPT Models (by OpenAI)GPT-1 which was released in 2018 contains 117 million parameters having 985 million words.GPT-2 which was released in 2019 contains 1.5 billion parameters.GPT-3 which was released in 2020 contains 175 billion parameters. Chat GPT is also based on this model as well.GPT-4 model is released in the early 2023 and it is likely to contain trillions of parameters.GPT-4 Turbo was introduced in late 2023, optimized for speed and cost-efficiency, but its parameter count remains unspecified.How do Large Language Models work?LLMs use the Transformer architecture, which relies on:Input embeddings: Convert words/subwords into vectors.Positional encoding: Adds order information.Self-attention: Learns relationships between tokens.Feed-forward layers: Capture complex interactions.Decoder (for generation): Produces output step-by-step.Multi-head attention: Enables parallel reasoning over different relationships.Architecture of LLMLarge Language Model's (LLM) architecture is determined by a number of factors, like the objective of\\xa0the specific model design, the available computational resources and the kind of language processing tasks that are to be carried out by the LLM. The general architecture of LLM consists of many layers such as the feed forward layers, embedding layers, attention layers. A text which is embedded inside is collaborated together to generate predictions.Important components to influence Large Language Model architecture:Model Size and Parameter Countinput representationsSelf-Attention MechanismsTraining ObjectivesComputational EfficiencyDecoding and Output GenerationTransformer-Based LLM Model ArchitecturesTransformer-based models, which have revolutionized natural language processing tasks, typically follow a general architecture that includes the following components:1. Input Embeddings:\\xa0The input text is tokenized into smaller units, such as words or sub-words and each token is embedded into a continuous vector representation. This embedding step captures the semantic and syntactic information of the input.2. Positional Encoding:\\xa0Positional encoding is added to the input embeddings to provide information about the positions of the tokens because transformers do not naturally encode the order of the tokens. This enables the model to process the tokens while taking their sequential order into account.3. Encoder:\\xa0Based on a neural network technique, the encoder analyses the input text and creates a number of hidden states that protect the context and meaning of text data. Multiple encoder layers make up the core of the transformer architecture. Self-attention mechanism and feed-forward neural network are the two fundamental sub-components of each encoder layer.Self-Attention Mechanism:\\xa0Self-attention enables the model to weigh the importance of different tokens in the input sequence by computing attention scores. It allows the model to consider the dependencies and relationships between different tokens in a context-aware manner.Feed-Forward Neural Network:\\xa0After the self-attention step, a feed-forward neural network is applied to each token independently. This network includes fully connected layers with non-linear activation functions, allowing the model to capture complex interactions between tokens.4. Decoder Layers:\\xa0In some transformer-based models, a decoder component is included in addition to the encoder. The decoder layers enable autoregressive generation, where the model can generate sequential outputs by attending to the previously generated tokens.5. Multi-Head Attention:\\xa0Transformers often employ multi-head attention, where self-attention is performed simultaneously with different learned attention weights. This allows the model to capture different types of relationships and attend to various parts of the input sequence simultaneously.6. Layer Normalization:\\xa0Layer normalization is applied after each sub-component or layer in the transformer architecture. It helps stabilize the learning process and improves the model's ability to generalize across different inputs.7. Output Layers:\\xa0The output layers of the transformer model can vary depending on the specific task. For example, in language modeling, a linear projection followed by SoftMax activation is commonly used to generate the probability distribution over the next token.Popular Large Language Models Now let's look at some of the famous LLMs which has been developed and are up for inference.GPT-4 & GPT-4o (OpenAI): Advanced multimodal reasoning.Gemini 1.5 (Google DeepMind): Long-context reasoning (can process 1M+ tokens).Claude 3 (Anthropic): Safety-focused, strong in reasoning and summarization.LLaMA 3 (Meta): Open-weight model widely used in research & startups.Mistral 7B / Mixtral (Mistral AI): Efficient open-source alternatives.BERT / RoBERTa (Google/Facebook): Strong at embeddings and understanding tasks.mBERT & XLM-R: Early multilingual LLMs (contrary to claims that BLOOM was first).BLOOM: Collaborative open-source multilingual model (but not the first).Large Language Models Use CasesCode Generation: LLMs can generate accurate code based on user instructions for specific tasks.Debugging and Documentation: They assist in identifying code errors, suggesting fixes and even automating project documentation.Question Answering: Users can ask both casual and complex questions, receiving detailed, context-aware responses.Language Translation and Correction: LLMs can translate text between over 50 languages and correct grammatical errors.Prompt-Based Versatility: By crafting creative prompts, users can unlock endless possibilities, as LLMs excel in one-shot and zero-shot learning scenarios. Difference Between NLP and LLM\\xa0NLP is Natural Language Processing, a field of artificial intelligence (AI). It consists of the development of the algorithms. NLP is a broader field than LLM, which consists of algorithms and techniques. NLP rules two approaches i.e. Machine learning and the analyze language data. Applications of NLP are-Automotive routine taskImprove search\\xa0Search engine optimizationAnalyzing and organizing large documentsSocial Media Analytics.while on the other hand, LLM is a Large Language Model and is more specific to human- like text, providing content generation and personalized recommendations.\\xa0Advantages of Large Language ModelsLarge Language Models (LLMs) come with several advantages that contribute to their widespread adoption and success in various applications:LLMs can perform zero-shot learning, meaning they can generalize to tasks for which they were not explicitly trained. This capability allows for adaptability to new applications and scenarios without additional training.LLMs efficiently handle vast amounts of data, making them suitable for tasks that require a deep understanding of extensive text corpora, such as language translation and document summarization.LLMs can be fine-tuned on specific datasets or domains, allowing for continuous learning and adaptation to specific use cases or industries.LLMs enable the automation of various language-related tasks, from code generation to content creation, freeing up human resources for more strategic and complex aspects of a project.Challenges in Training of Large Language ModelsHigh Costs: Training LLMs requires significant financial investment, with millions of dollars needed for large-scale computational power.Time-Intensive: Training takes months, often involving human intervention for fine-tuning to achieve optimal performance.Data Challenges: Obtaining large text datasets is difficult and concerns about the legality of data scraping for commercial purposes have arisen.Environmental Impact: Training a single LLM from scratch can produce carbon emissions equivalent to the lifetime emissions of five cars, raising serious environmental concerns. \\n\\n\\n\\n\\n\\n\\n\\n\\n\\n\\r\\n        Comment\\r\\n    More infoAdvertise with us \\n\\n\\n\\n\\n\\n\\nA\\n\\n\\n\\n\\n \\n\\nabhishekm482g \\n\\n\\n\\n\\n\\n Follow \\n\\n\\n\\n\\n\\n\\n\\n\\n\\n\\n\\nImprove\\n\\n\\n\\n\\n\\n\\nArticle Tags : \\n\\n\\nArtificial Intelligence\\n\\n\\ndata-science\\n\\n\\nChatGPT\\n \\n\\n\\n\\n\\n\\n\\n\\n\\nLike\\n\\n\\n\\n\\n\\n\\n\\n\\n\\n\\n\\n\\n\\n\\n\\n\\n\\n\\n\\n\\n\\n \\n\\n\\n\\n\\n\\n\\n\\n\\n\\n\\n\\n\\n\\n\\n\\n\\n\\n\\n\\n\\n\\n\\n\\n\\n\\n\\n\\n\\n\\n\\n\\n\\n\\n\\n\\n\\n\\n\\n\\n\\n\\n\\n\\n\\n67k+ interested Geeks \\n\\n\\n\\nData Science Training Program \\n\\n\\n\\n\\nExplore\\n\\n\\n\\n\\n\\n\\n\\n\\n\\n\\n\\n\\n\\n\\n\\n\\n3k+ interested Geeks \\n\\n\\n\\nGATE CS/IT 2027 Complete Course [with Placement Preparation] \\n\\n\\n\\n\\nExplore\\n\\n\\n\\n\\n\\n\\n\\n\\n\\n\\n\\n\\n\\n\\n\\n\\n6k+ interested Geeks \\n\\n\\n\\nGATE DA Complete Course 2026 [ Live Weekend Classes] \\n\\n\\n\\n\\nExplore\\n\\n\\n\\n\\n\\n\\n \\n\\n\\n\\n\\n\\n\\n\\n\\n\\n\\n\\n\\n\\n\\n\\n\\n\\n\\n\\n\\n\\n\\n\\n\\n\\n\\n\\n\\n\\n\\n\\n\\n\\n\\n\\n\\n\\n\\n\\n\\n\\n\\n\\n\\n\\n\\n\\n\\n\\n\\n\\n\\n\\n\\n\\n\\n\\n\\n\\n\\nCorporate & Communications Address:\\n\\r\\n                      A-143, 7th Floor, Sovereign Corporate Tower, Sector- 136, Noida, Uttar Pradesh (201305)                    \\n\\n\\n\\n\\n\\nRegistered Address:\\r\\n                        K 061, Tower K, Gulshan Vivante Apartment, Sector 137, Noida, Gautam Buddh Nagar, Uttar Pradesh, 201305                      \\n\\n\\n\\n\\n\\n\\n\\n\\n\\n\\n\\n\\n\\n\\n\\n\\n\\n\\n\\n\\n\\n\\n\\n\\n\\n\\n\\n\\nAdvertise with us\\n\\n\\n\\n\\nCompanyAbout UsLegalPrivacy PolicyCareersContact UsCorporate SolutionCampus Training ProgramExplorePOTDJob-A-ThonConnectCommunityBlogsNation Skill UpTutorialsProgramming LanguagesDSAWeb TechnologyAI, ML & Data ScienceDevOpsCS Core SubjectsInterview PreparationGATESchool SubjectsSoftware and ToolsCoursesIBM CertificationDSA and PlacementsWeb DevelopmentData ScienceProgramming LanguagesDevOps & CloudGATETrending TechnologiesOffline CentersNoidaBengaluruPuneHyderabadPatnaPreparation CornerAptitudePuzzlesGfG 160DSA 360System Design \\n\\n\\n\\n\\n\\n\\n@GeeksforGeeks, Sanchhaya Education Private Limited, All rights reserved\\n\\n\\n\\n\\n\\n\\n\\n\\n\\n\\n\\n\\n\\n\\n\\n\\n\\n\\n\\n\\n\\n\\nImprovement\\n\\n\\n\\n\\n\\n\\n\\nSuggest changes\\n\\n\\n\\n\\n\\nSuggest Changes\\nHelp us improve. Share your suggestions to enhance the article. Contribute your expertise and make a difference in the GeeksforGeeks portal.\\n\\n\\n\\n\\n\\n\\n\\nCreate Improvement\\nEnhance the article with your expertise. Contribute to the GeeksforGeeks community and help create better learning resources for all.\\n\\n\\n\\n\\n\\n\\n\\n\\n\\n\\n\\n\\n\\n\\n\\nSuggest Changes\\n\\n\\n\\n\\n\\n\\nmin 4 words, max Words Limit:1000\\n\\n\\n\\n\\nThank You!\\nYour suggestions are valuable to us.\\n\\n\\n\\n\\n\\n\\n\\n\\n\\n\\n\\n\\n\\n\\n\\n\\n\\n\\n\\n\\n\\n\\n\\n\\n\\n\\n\\n\\n\\n\\nWhat kind of Experience do you want to share?\\n\\n\\n\\n\\n\\n\\n\\n\\n\\nInterview Experiences\\n\\n\\n\\n\\n\\n\\n\\nAdmission Experiences\\n\\n\\n\\n\\n\\n\\n\\nCareer Journeys\\n\\n\\n\\n\\n\\n\\n\\nWork Experiences\\n\\n\\n\\n\\n\\n\\n\\nCampus Experiences\\n\\n\\n\\n\\n\\n\\n\\nCompetitive Exam Experiences\\n\\n\\n\\n\\n\\n\\n\\n\\n\\n\\n\\n\\n\\n\\n\\n\\n\\n\\n\")]"
      ]
     },
     "execution_count": 13,
     "metadata": {},
     "output_type": "execute_result"
    }
   ],
   "source": [
    "test3.load()"
   ]
  },
  {
   "cell_type": "code",
   "execution_count": 3,
   "id": "6a51a939",
   "metadata": {},
   "outputs": [],
   "source": [
    "from langchain_community.document_loaders import ArxivLoader"
   ]
  },
  {
   "cell_type": "code",
   "execution_count": 4,
   "id": "6fd95187",
   "metadata": {},
   "outputs": [
    {
     "name": "stdout",
     "output_type": "stream",
     "text": [
      "Requirement already satisfied: arxiv in /Library/Frameworks/Python.framework/Versions/3.11/lib/python3.11/site-packages (2.2.0)\n",
      "Requirement already satisfied: feedparser~=6.0.10 in /Library/Frameworks/Python.framework/Versions/3.11/lib/python3.11/site-packages (from arxiv) (6.0.12)\n",
      "Requirement already satisfied: requests~=2.32.0 in /Library/Frameworks/Python.framework/Versions/3.11/lib/python3.11/site-packages (from arxiv) (2.32.5)\n",
      "Requirement already satisfied: sgmllib3k in /Library/Frameworks/Python.framework/Versions/3.11/lib/python3.11/site-packages (from feedparser~=6.0.10->arxiv) (1.0.0)\n",
      "Requirement already satisfied: charset_normalizer<4,>=2 in /Library/Frameworks/Python.framework/Versions/3.11/lib/python3.11/site-packages (from requests~=2.32.0->arxiv) (3.2.0)\n",
      "Requirement already satisfied: idna<4,>=2.5 in /Library/Frameworks/Python.framework/Versions/3.11/lib/python3.11/site-packages (from requests~=2.32.0->arxiv) (3.4)\n",
      "Requirement already satisfied: urllib3<3,>=1.21.1 in /Library/Frameworks/Python.framework/Versions/3.11/lib/python3.11/site-packages (from requests~=2.32.0->arxiv) (2.0.5)\n",
      "Requirement already satisfied: certifi>=2017.4.17 in /Library/Frameworks/Python.framework/Versions/3.11/lib/python3.11/site-packages (from requests~=2.32.0->arxiv) (2023.7.22)\n",
      "\n",
      "\u001b[1m[\u001b[0m\u001b[34;49mnotice\u001b[0m\u001b[1;39;49m]\u001b[0m\u001b[39;49m A new release of pip is available: \u001b[0m\u001b[31;49m23.2.1\u001b[0m\u001b[39;49m -> \u001b[0m\u001b[32;49m25.2\u001b[0m\n",
      "\u001b[1m[\u001b[0m\u001b[34;49mnotice\u001b[0m\u001b[1;39;49m]\u001b[0m\u001b[39;49m To update, run: \u001b[0m\u001b[32;49mpip3 install --upgrade pip\u001b[0m\n",
      "Note: you may need to restart the kernel to use updated packages.\n"
     ]
    }
   ],
   "source": [
    "pip install arxiv"
   ]
  },
  {
   "cell_type": "code",
   "execution_count": 5,
   "id": "ce4426e6",
   "metadata": {},
   "outputs": [],
   "source": [
    "test4 = ArxivLoader(query = \"1706.03762\")"
   ]
  },
  {
   "cell_type": "code",
   "execution_count": 7,
   "id": "1f5a9da1",
   "metadata": {},
   "outputs": [
    {
     "ename": "AttributeError",
     "evalue": "module 'fitz' has no attribute 'fitz'",
     "output_type": "error",
     "traceback": [
      "\u001b[31m---------------------------------------------------------------------------\u001b[39m",
      "\u001b[31mSSLCertVerificationError\u001b[39m                  Traceback (most recent call last)",
      "\u001b[36mFile \u001b[39m\u001b[32m/Library/Frameworks/Python.framework/Versions/3.11/lib/python3.11/urllib/request.py:1348\u001b[39m, in \u001b[36mAbstractHTTPHandler.do_open\u001b[39m\u001b[34m(self, http_class, req, **http_conn_args)\u001b[39m\n\u001b[32m   1347\u001b[39m \u001b[38;5;28;01mtry\u001b[39;00m:\n\u001b[32m-> \u001b[39m\u001b[32m1348\u001b[39m     \u001b[43mh\u001b[49m\u001b[43m.\u001b[49m\u001b[43mrequest\u001b[49m\u001b[43m(\u001b[49m\u001b[43mreq\u001b[49m\u001b[43m.\u001b[49m\u001b[43mget_method\u001b[49m\u001b[43m(\u001b[49m\u001b[43m)\u001b[49m\u001b[43m,\u001b[49m\u001b[43m \u001b[49m\u001b[43mreq\u001b[49m\u001b[43m.\u001b[49m\u001b[43mselector\u001b[49m\u001b[43m,\u001b[49m\u001b[43m \u001b[49m\u001b[43mreq\u001b[49m\u001b[43m.\u001b[49m\u001b[43mdata\u001b[49m\u001b[43m,\u001b[49m\u001b[43m \u001b[49m\u001b[43mheaders\u001b[49m\u001b[43m,\u001b[49m\n\u001b[32m   1349\u001b[39m \u001b[43m              \u001b[49m\u001b[43mencode_chunked\u001b[49m\u001b[43m=\u001b[49m\u001b[43mreq\u001b[49m\u001b[43m.\u001b[49m\u001b[43mhas_header\u001b[49m\u001b[43m(\u001b[49m\u001b[33;43m'\u001b[39;49m\u001b[33;43mTransfer-encoding\u001b[39;49m\u001b[33;43m'\u001b[39;49m\u001b[43m)\u001b[49m\u001b[43m)\u001b[49m\n\u001b[32m   1350\u001b[39m \u001b[38;5;28;01mexcept\u001b[39;00m \u001b[38;5;167;01mOSError\u001b[39;00m \u001b[38;5;28;01mas\u001b[39;00m err: \u001b[38;5;66;03m# timeout error\u001b[39;00m\n",
      "\u001b[36mFile \u001b[39m\u001b[32m/Library/Frameworks/Python.framework/Versions/3.11/lib/python3.11/http/client.py:1282\u001b[39m, in \u001b[36mHTTPConnection.request\u001b[39m\u001b[34m(self, method, url, body, headers, encode_chunked)\u001b[39m\n\u001b[32m   1281\u001b[39m \u001b[38;5;250m\u001b[39m\u001b[33;03m\"\"\"Send a complete request to the server.\"\"\"\u001b[39;00m\n\u001b[32m-> \u001b[39m\u001b[32m1282\u001b[39m \u001b[38;5;28;43mself\u001b[39;49m\u001b[43m.\u001b[49m\u001b[43m_send_request\u001b[49m\u001b[43m(\u001b[49m\u001b[43mmethod\u001b[49m\u001b[43m,\u001b[49m\u001b[43m \u001b[49m\u001b[43murl\u001b[49m\u001b[43m,\u001b[49m\u001b[43m \u001b[49m\u001b[43mbody\u001b[49m\u001b[43m,\u001b[49m\u001b[43m \u001b[49m\u001b[43mheaders\u001b[49m\u001b[43m,\u001b[49m\u001b[43m \u001b[49m\u001b[43mencode_chunked\u001b[49m\u001b[43m)\u001b[49m\n",
      "\u001b[36mFile \u001b[39m\u001b[32m/Library/Frameworks/Python.framework/Versions/3.11/lib/python3.11/http/client.py:1328\u001b[39m, in \u001b[36mHTTPConnection._send_request\u001b[39m\u001b[34m(self, method, url, body, headers, encode_chunked)\u001b[39m\n\u001b[32m   1327\u001b[39m     body = _encode(body, \u001b[33m'\u001b[39m\u001b[33mbody\u001b[39m\u001b[33m'\u001b[39m)\n\u001b[32m-> \u001b[39m\u001b[32m1328\u001b[39m \u001b[38;5;28;43mself\u001b[39;49m\u001b[43m.\u001b[49m\u001b[43mendheaders\u001b[49m\u001b[43m(\u001b[49m\u001b[43mbody\u001b[49m\u001b[43m,\u001b[49m\u001b[43m \u001b[49m\u001b[43mencode_chunked\u001b[49m\u001b[43m=\u001b[49m\u001b[43mencode_chunked\u001b[49m\u001b[43m)\u001b[49m\n",
      "\u001b[36mFile \u001b[39m\u001b[32m/Library/Frameworks/Python.framework/Versions/3.11/lib/python3.11/http/client.py:1277\u001b[39m, in \u001b[36mHTTPConnection.endheaders\u001b[39m\u001b[34m(self, message_body, encode_chunked)\u001b[39m\n\u001b[32m   1276\u001b[39m     \u001b[38;5;28;01mraise\u001b[39;00m CannotSendHeader()\n\u001b[32m-> \u001b[39m\u001b[32m1277\u001b[39m \u001b[38;5;28;43mself\u001b[39;49m\u001b[43m.\u001b[49m\u001b[43m_send_output\u001b[49m\u001b[43m(\u001b[49m\u001b[43mmessage_body\u001b[49m\u001b[43m,\u001b[49m\u001b[43m \u001b[49m\u001b[43mencode_chunked\u001b[49m\u001b[43m=\u001b[49m\u001b[43mencode_chunked\u001b[49m\u001b[43m)\u001b[49m\n",
      "\u001b[36mFile \u001b[39m\u001b[32m/Library/Frameworks/Python.framework/Versions/3.11/lib/python3.11/http/client.py:1037\u001b[39m, in \u001b[36mHTTPConnection._send_output\u001b[39m\u001b[34m(self, message_body, encode_chunked)\u001b[39m\n\u001b[32m   1036\u001b[39m \u001b[38;5;28;01mdel\u001b[39;00m \u001b[38;5;28mself\u001b[39m._buffer[:]\n\u001b[32m-> \u001b[39m\u001b[32m1037\u001b[39m \u001b[38;5;28;43mself\u001b[39;49m\u001b[43m.\u001b[49m\u001b[43msend\u001b[49m\u001b[43m(\u001b[49m\u001b[43mmsg\u001b[49m\u001b[43m)\u001b[49m\n\u001b[32m   1039\u001b[39m \u001b[38;5;28;01mif\u001b[39;00m message_body \u001b[38;5;129;01mis\u001b[39;00m \u001b[38;5;129;01mnot\u001b[39;00m \u001b[38;5;28;01mNone\u001b[39;00m:\n\u001b[32m   1040\u001b[39m \n\u001b[32m   1041\u001b[39m     \u001b[38;5;66;03m# create a consistent interface to message_body\u001b[39;00m\n",
      "\u001b[36mFile \u001b[39m\u001b[32m/Library/Frameworks/Python.framework/Versions/3.11/lib/python3.11/http/client.py:975\u001b[39m, in \u001b[36mHTTPConnection.send\u001b[39m\u001b[34m(self, data)\u001b[39m\n\u001b[32m    974\u001b[39m \u001b[38;5;28;01mif\u001b[39;00m \u001b[38;5;28mself\u001b[39m.auto_open:\n\u001b[32m--> \u001b[39m\u001b[32m975\u001b[39m     \u001b[38;5;28;43mself\u001b[39;49m\u001b[43m.\u001b[49m\u001b[43mconnect\u001b[49m\u001b[43m(\u001b[49m\u001b[43m)\u001b[49m\n\u001b[32m    976\u001b[39m \u001b[38;5;28;01melse\u001b[39;00m:\n",
      "\u001b[36mFile \u001b[39m\u001b[32m/Library/Frameworks/Python.framework/Versions/3.11/lib/python3.11/http/client.py:1454\u001b[39m, in \u001b[36mHTTPSConnection.connect\u001b[39m\u001b[34m(self)\u001b[39m\n\u001b[32m   1452\u001b[39m     server_hostname = \u001b[38;5;28mself\u001b[39m.host\n\u001b[32m-> \u001b[39m\u001b[32m1454\u001b[39m \u001b[38;5;28mself\u001b[39m.sock = \u001b[38;5;28;43mself\u001b[39;49m\u001b[43m.\u001b[49m\u001b[43m_context\u001b[49m\u001b[43m.\u001b[49m\u001b[43mwrap_socket\u001b[49m\u001b[43m(\u001b[49m\u001b[38;5;28;43mself\u001b[39;49m\u001b[43m.\u001b[49m\u001b[43msock\u001b[49m\u001b[43m,\u001b[49m\n\u001b[32m   1455\u001b[39m \u001b[43m                                      \u001b[49m\u001b[43mserver_hostname\u001b[49m\u001b[43m=\u001b[49m\u001b[43mserver_hostname\u001b[49m\u001b[43m)\u001b[49m\n",
      "\u001b[36mFile \u001b[39m\u001b[32m/Library/Frameworks/Python.framework/Versions/3.11/lib/python3.11/ssl.py:517\u001b[39m, in \u001b[36mSSLContext.wrap_socket\u001b[39m\u001b[34m(self, sock, server_side, do_handshake_on_connect, suppress_ragged_eofs, server_hostname, session)\u001b[39m\n\u001b[32m    511\u001b[39m \u001b[38;5;28;01mdef\u001b[39;00m\u001b[38;5;250m \u001b[39m\u001b[34mwrap_socket\u001b[39m(\u001b[38;5;28mself\u001b[39m, sock, server_side=\u001b[38;5;28;01mFalse\u001b[39;00m,\n\u001b[32m    512\u001b[39m                 do_handshake_on_connect=\u001b[38;5;28;01mTrue\u001b[39;00m,\n\u001b[32m    513\u001b[39m                 suppress_ragged_eofs=\u001b[38;5;28;01mTrue\u001b[39;00m,\n\u001b[32m    514\u001b[39m                 server_hostname=\u001b[38;5;28;01mNone\u001b[39;00m, session=\u001b[38;5;28;01mNone\u001b[39;00m):\n\u001b[32m    515\u001b[39m     \u001b[38;5;66;03m# SSLSocket class handles server_hostname encoding before it calls\u001b[39;00m\n\u001b[32m    516\u001b[39m     \u001b[38;5;66;03m# ctx._wrap_socket()\u001b[39;00m\n\u001b[32m--> \u001b[39m\u001b[32m517\u001b[39m     \u001b[38;5;28;01mreturn\u001b[39;00m \u001b[38;5;28;43mself\u001b[39;49m\u001b[43m.\u001b[49m\u001b[43msslsocket_class\u001b[49m\u001b[43m.\u001b[49m\u001b[43m_create\u001b[49m\u001b[43m(\u001b[49m\n\u001b[32m    518\u001b[39m \u001b[43m        \u001b[49m\u001b[43msock\u001b[49m\u001b[43m=\u001b[49m\u001b[43msock\u001b[49m\u001b[43m,\u001b[49m\n\u001b[32m    519\u001b[39m \u001b[43m        \u001b[49m\u001b[43mserver_side\u001b[49m\u001b[43m=\u001b[49m\u001b[43mserver_side\u001b[49m\u001b[43m,\u001b[49m\n\u001b[32m    520\u001b[39m \u001b[43m        \u001b[49m\u001b[43mdo_handshake_on_connect\u001b[49m\u001b[43m=\u001b[49m\u001b[43mdo_handshake_on_connect\u001b[49m\u001b[43m,\u001b[49m\n\u001b[32m    521\u001b[39m \u001b[43m        \u001b[49m\u001b[43msuppress_ragged_eofs\u001b[49m\u001b[43m=\u001b[49m\u001b[43msuppress_ragged_eofs\u001b[49m\u001b[43m,\u001b[49m\n\u001b[32m    522\u001b[39m \u001b[43m        \u001b[49m\u001b[43mserver_hostname\u001b[49m\u001b[43m=\u001b[49m\u001b[43mserver_hostname\u001b[49m\u001b[43m,\u001b[49m\n\u001b[32m    523\u001b[39m \u001b[43m        \u001b[49m\u001b[43mcontext\u001b[49m\u001b[43m=\u001b[49m\u001b[38;5;28;43mself\u001b[39;49m\u001b[43m,\u001b[49m\n\u001b[32m    524\u001b[39m \u001b[43m        \u001b[49m\u001b[43msession\u001b[49m\u001b[43m=\u001b[49m\u001b[43msession\u001b[49m\n\u001b[32m    525\u001b[39m \u001b[43m    \u001b[49m\u001b[43m)\u001b[49m\n",
      "\u001b[36mFile \u001b[39m\u001b[32m/Library/Frameworks/Python.framework/Versions/3.11/lib/python3.11/ssl.py:1075\u001b[39m, in \u001b[36mSSLSocket._create\u001b[39m\u001b[34m(cls, sock, server_side, do_handshake_on_connect, suppress_ragged_eofs, server_hostname, context, session)\u001b[39m\n\u001b[32m   1074\u001b[39m             \u001b[38;5;28;01mraise\u001b[39;00m \u001b[38;5;167;01mValueError\u001b[39;00m(\u001b[33m\"\u001b[39m\u001b[33mdo_handshake_on_connect should not be specified for non-blocking sockets\u001b[39m\u001b[33m\"\u001b[39m)\n\u001b[32m-> \u001b[39m\u001b[32m1075\u001b[39m         \u001b[38;5;28;43mself\u001b[39;49m\u001b[43m.\u001b[49m\u001b[43mdo_handshake\u001b[49m\u001b[43m(\u001b[49m\u001b[43m)\u001b[49m\n\u001b[32m   1076\u001b[39m \u001b[38;5;28;01mexcept\u001b[39;00m (\u001b[38;5;167;01mOSError\u001b[39;00m, \u001b[38;5;167;01mValueError\u001b[39;00m):\n",
      "\u001b[36mFile \u001b[39m\u001b[32m/Library/Frameworks/Python.framework/Versions/3.11/lib/python3.11/ssl.py:1346\u001b[39m, in \u001b[36mSSLSocket.do_handshake\u001b[39m\u001b[34m(self, block)\u001b[39m\n\u001b[32m   1345\u001b[39m         \u001b[38;5;28mself\u001b[39m.settimeout(\u001b[38;5;28;01mNone\u001b[39;00m)\n\u001b[32m-> \u001b[39m\u001b[32m1346\u001b[39m     \u001b[38;5;28;43mself\u001b[39;49m\u001b[43m.\u001b[49m\u001b[43m_sslobj\u001b[49m\u001b[43m.\u001b[49m\u001b[43mdo_handshake\u001b[49m\u001b[43m(\u001b[49m\u001b[43m)\u001b[49m\n\u001b[32m   1347\u001b[39m \u001b[38;5;28;01mfinally\u001b[39;00m:\n",
      "\u001b[31mSSLCertVerificationError\u001b[39m: [SSL: CERTIFICATE_VERIFY_FAILED] certificate verify failed: unable to get local issuer certificate (_ssl.c:992)",
      "\nDuring handling of the above exception, another exception occurred:\n",
      "\u001b[31mURLError\u001b[39m                                  Traceback (most recent call last)",
      "\u001b[36mFile \u001b[39m\u001b[32m/Library/Frameworks/Python.framework/Versions/3.11/lib/python3.11/site-packages/langchain_community/utilities/arxiv.py:220\u001b[39m, in \u001b[36mArxivAPIWrapper.lazy_load\u001b[39m\u001b[34m(self, query)\u001b[39m\n\u001b[32m    219\u001b[39m \u001b[38;5;28;01mtry\u001b[39;00m:\n\u001b[32m--> \u001b[39m\u001b[32m220\u001b[39m     doc_file_name: \u001b[38;5;28mstr\u001b[39m = \u001b[43mresult\u001b[49m\u001b[43m.\u001b[49m\u001b[43mdownload_pdf\u001b[49m\u001b[43m(\u001b[49m\u001b[43m)\u001b[49m\n\u001b[32m    221\u001b[39m     \u001b[38;5;28;01mwith\u001b[39;00m fitz.open(doc_file_name) \u001b[38;5;28;01mas\u001b[39;00m doc_file:\n",
      "\u001b[36mFile \u001b[39m\u001b[32m/Library/Frameworks/Python.framework/Versions/3.11/lib/python3.11/site-packages/arxiv/__init__.py:219\u001b[39m, in \u001b[36mResult.download_pdf\u001b[39m\u001b[34m(self, dirpath, filename, download_domain)\u001b[39m\n\u001b[32m    218\u001b[39m pdf_url = Result._substitute_domain(\u001b[38;5;28mself\u001b[39m.pdf_url, download_domain)\n\u001b[32m--> \u001b[39m\u001b[32m219\u001b[39m written_path, _ = \u001b[43murlretrieve\u001b[49m\u001b[43m(\u001b[49m\u001b[43mpdf_url\u001b[49m\u001b[43m,\u001b[49m\u001b[43m \u001b[49m\u001b[43mpath\u001b[49m\u001b[43m)\u001b[49m\n\u001b[32m    220\u001b[39m \u001b[38;5;28;01mreturn\u001b[39;00m written_path\n",
      "\u001b[36mFile \u001b[39m\u001b[32m/Library/Frameworks/Python.framework/Versions/3.11/lib/python3.11/urllib/request.py:241\u001b[39m, in \u001b[36murlretrieve\u001b[39m\u001b[34m(url, filename, reporthook, data)\u001b[39m\n\u001b[32m    239\u001b[39m url_type, path = _splittype(url)\n\u001b[32m--> \u001b[39m\u001b[32m241\u001b[39m \u001b[38;5;28;01mwith\u001b[39;00m contextlib.closing(\u001b[43murlopen\u001b[49m\u001b[43m(\u001b[49m\u001b[43murl\u001b[49m\u001b[43m,\u001b[49m\u001b[43m \u001b[49m\u001b[43mdata\u001b[49m\u001b[43m)\u001b[49m) \u001b[38;5;28;01mas\u001b[39;00m fp:\n\u001b[32m    242\u001b[39m     headers = fp.info()\n",
      "\u001b[36mFile \u001b[39m\u001b[32m/Library/Frameworks/Python.framework/Versions/3.11/lib/python3.11/urllib/request.py:216\u001b[39m, in \u001b[36murlopen\u001b[39m\u001b[34m(url, data, timeout, cafile, capath, cadefault, context)\u001b[39m\n\u001b[32m    215\u001b[39m     opener = _opener\n\u001b[32m--> \u001b[39m\u001b[32m216\u001b[39m \u001b[38;5;28;01mreturn\u001b[39;00m \u001b[43mopener\u001b[49m\u001b[43m.\u001b[49m\u001b[43mopen\u001b[49m\u001b[43m(\u001b[49m\u001b[43murl\u001b[49m\u001b[43m,\u001b[49m\u001b[43m \u001b[49m\u001b[43mdata\u001b[49m\u001b[43m,\u001b[49m\u001b[43m \u001b[49m\u001b[43mtimeout\u001b[49m\u001b[43m)\u001b[49m\n",
      "\u001b[36mFile \u001b[39m\u001b[32m/Library/Frameworks/Python.framework/Versions/3.11/lib/python3.11/urllib/request.py:525\u001b[39m, in \u001b[36mOpenerDirector.open\u001b[39m\u001b[34m(self, fullurl, data, timeout)\u001b[39m\n\u001b[32m    524\u001b[39m     meth = \u001b[38;5;28mgetattr\u001b[39m(processor, meth_name)\n\u001b[32m--> \u001b[39m\u001b[32m525\u001b[39m     response = \u001b[43mmeth\u001b[49m\u001b[43m(\u001b[49m\u001b[43mreq\u001b[49m\u001b[43m,\u001b[49m\u001b[43m \u001b[49m\u001b[43mresponse\u001b[49m\u001b[43m)\u001b[49m\n\u001b[32m    527\u001b[39m \u001b[38;5;28;01mreturn\u001b[39;00m response\n",
      "\u001b[36mFile \u001b[39m\u001b[32m/Library/Frameworks/Python.framework/Versions/3.11/lib/python3.11/urllib/request.py:634\u001b[39m, in \u001b[36mHTTPErrorProcessor.http_response\u001b[39m\u001b[34m(self, request, response)\u001b[39m\n\u001b[32m    633\u001b[39m \u001b[38;5;28;01mif\u001b[39;00m \u001b[38;5;129;01mnot\u001b[39;00m (\u001b[32m200\u001b[39m <= code < \u001b[32m300\u001b[39m):\n\u001b[32m--> \u001b[39m\u001b[32m634\u001b[39m     response = \u001b[38;5;28;43mself\u001b[39;49m\u001b[43m.\u001b[49m\u001b[43mparent\u001b[49m\u001b[43m.\u001b[49m\u001b[43merror\u001b[49m\u001b[43m(\u001b[49m\n\u001b[32m    635\u001b[39m \u001b[43m        \u001b[49m\u001b[33;43m'\u001b[39;49m\u001b[33;43mhttp\u001b[39;49m\u001b[33;43m'\u001b[39;49m\u001b[43m,\u001b[49m\u001b[43m \u001b[49m\u001b[43mrequest\u001b[49m\u001b[43m,\u001b[49m\u001b[43m \u001b[49m\u001b[43mresponse\u001b[49m\u001b[43m,\u001b[49m\u001b[43m \u001b[49m\u001b[43mcode\u001b[49m\u001b[43m,\u001b[49m\u001b[43m \u001b[49m\u001b[43mmsg\u001b[49m\u001b[43m,\u001b[49m\u001b[43m \u001b[49m\u001b[43mhdrs\u001b[49m\u001b[43m)\u001b[49m\n\u001b[32m    637\u001b[39m \u001b[38;5;28;01mreturn\u001b[39;00m response\n",
      "\u001b[36mFile \u001b[39m\u001b[32m/Library/Frameworks/Python.framework/Versions/3.11/lib/python3.11/urllib/request.py:557\u001b[39m, in \u001b[36mOpenerDirector.error\u001b[39m\u001b[34m(self, proto, *args)\u001b[39m\n\u001b[32m    556\u001b[39m args = (\u001b[38;5;28mdict\u001b[39m, proto, meth_name) + args\n\u001b[32m--> \u001b[39m\u001b[32m557\u001b[39m result = \u001b[38;5;28;43mself\u001b[39;49m\u001b[43m.\u001b[49m\u001b[43m_call_chain\u001b[49m\u001b[43m(\u001b[49m\u001b[43m*\u001b[49m\u001b[43margs\u001b[49m\u001b[43m)\u001b[49m\n\u001b[32m    558\u001b[39m \u001b[38;5;28;01mif\u001b[39;00m result:\n",
      "\u001b[36mFile \u001b[39m\u001b[32m/Library/Frameworks/Python.framework/Versions/3.11/lib/python3.11/urllib/request.py:496\u001b[39m, in \u001b[36mOpenerDirector._call_chain\u001b[39m\u001b[34m(self, chain, kind, meth_name, *args)\u001b[39m\n\u001b[32m    495\u001b[39m func = \u001b[38;5;28mgetattr\u001b[39m(handler, meth_name)\n\u001b[32m--> \u001b[39m\u001b[32m496\u001b[39m result = \u001b[43mfunc\u001b[49m\u001b[43m(\u001b[49m\u001b[43m*\u001b[49m\u001b[43margs\u001b[49m\u001b[43m)\u001b[49m\n\u001b[32m    497\u001b[39m \u001b[38;5;28;01mif\u001b[39;00m result \u001b[38;5;129;01mis\u001b[39;00m \u001b[38;5;129;01mnot\u001b[39;00m \u001b[38;5;28;01mNone\u001b[39;00m:\n",
      "\u001b[36mFile \u001b[39m\u001b[32m/Library/Frameworks/Python.framework/Versions/3.11/lib/python3.11/urllib/request.py:749\u001b[39m, in \u001b[36mHTTPRedirectHandler.http_error_302\u001b[39m\u001b[34m(self, req, fp, code, msg, headers)\u001b[39m\n\u001b[32m    747\u001b[39m fp.close()\n\u001b[32m--> \u001b[39m\u001b[32m749\u001b[39m \u001b[38;5;28;01mreturn\u001b[39;00m \u001b[38;5;28;43mself\u001b[39;49m\u001b[43m.\u001b[49m\u001b[43mparent\u001b[49m\u001b[43m.\u001b[49m\u001b[43mopen\u001b[49m\u001b[43m(\u001b[49m\u001b[43mnew\u001b[49m\u001b[43m,\u001b[49m\u001b[43m \u001b[49m\u001b[43mtimeout\u001b[49m\u001b[43m=\u001b[49m\u001b[43mreq\u001b[49m\u001b[43m.\u001b[49m\u001b[43mtimeout\u001b[49m\u001b[43m)\u001b[49m\n",
      "\u001b[36mFile \u001b[39m\u001b[32m/Library/Frameworks/Python.framework/Versions/3.11/lib/python3.11/urllib/request.py:519\u001b[39m, in \u001b[36mOpenerDirector.open\u001b[39m\u001b[34m(self, fullurl, data, timeout)\u001b[39m\n\u001b[32m    518\u001b[39m sys.audit(\u001b[33m'\u001b[39m\u001b[33murllib.Request\u001b[39m\u001b[33m'\u001b[39m, req.full_url, req.data, req.headers, req.get_method())\n\u001b[32m--> \u001b[39m\u001b[32m519\u001b[39m response = \u001b[38;5;28;43mself\u001b[39;49m\u001b[43m.\u001b[49m\u001b[43m_open\u001b[49m\u001b[43m(\u001b[49m\u001b[43mreq\u001b[49m\u001b[43m,\u001b[49m\u001b[43m \u001b[49m\u001b[43mdata\u001b[49m\u001b[43m)\u001b[49m\n\u001b[32m    521\u001b[39m \u001b[38;5;66;03m# post-process response\u001b[39;00m\n",
      "\u001b[36mFile \u001b[39m\u001b[32m/Library/Frameworks/Python.framework/Versions/3.11/lib/python3.11/urllib/request.py:536\u001b[39m, in \u001b[36mOpenerDirector._open\u001b[39m\u001b[34m(self, req, data)\u001b[39m\n\u001b[32m    535\u001b[39m protocol = req.type\n\u001b[32m--> \u001b[39m\u001b[32m536\u001b[39m result = \u001b[38;5;28;43mself\u001b[39;49m\u001b[43m.\u001b[49m\u001b[43m_call_chain\u001b[49m\u001b[43m(\u001b[49m\u001b[38;5;28;43mself\u001b[39;49m\u001b[43m.\u001b[49m\u001b[43mhandle_open\u001b[49m\u001b[43m,\u001b[49m\u001b[43m \u001b[49m\u001b[43mprotocol\u001b[49m\u001b[43m,\u001b[49m\u001b[43m \u001b[49m\u001b[43mprotocol\u001b[49m\u001b[43m \u001b[49m\u001b[43m+\u001b[49m\n\u001b[32m    537\u001b[39m \u001b[43m                          \u001b[49m\u001b[33;43m'\u001b[39;49m\u001b[33;43m_open\u001b[39;49m\u001b[33;43m'\u001b[39;49m\u001b[43m,\u001b[49m\u001b[43m \u001b[49m\u001b[43mreq\u001b[49m\u001b[43m)\u001b[49m\n\u001b[32m    538\u001b[39m \u001b[38;5;28;01mif\u001b[39;00m result:\n",
      "\u001b[36mFile \u001b[39m\u001b[32m/Library/Frameworks/Python.framework/Versions/3.11/lib/python3.11/urllib/request.py:496\u001b[39m, in \u001b[36mOpenerDirector._call_chain\u001b[39m\u001b[34m(self, chain, kind, meth_name, *args)\u001b[39m\n\u001b[32m    495\u001b[39m func = \u001b[38;5;28mgetattr\u001b[39m(handler, meth_name)\n\u001b[32m--> \u001b[39m\u001b[32m496\u001b[39m result = \u001b[43mfunc\u001b[49m\u001b[43m(\u001b[49m\u001b[43m*\u001b[49m\u001b[43margs\u001b[49m\u001b[43m)\u001b[49m\n\u001b[32m    497\u001b[39m \u001b[38;5;28;01mif\u001b[39;00m result \u001b[38;5;129;01mis\u001b[39;00m \u001b[38;5;129;01mnot\u001b[39;00m \u001b[38;5;28;01mNone\u001b[39;00m:\n",
      "\u001b[36mFile \u001b[39m\u001b[32m/Library/Frameworks/Python.framework/Versions/3.11/lib/python3.11/urllib/request.py:1391\u001b[39m, in \u001b[36mHTTPSHandler.https_open\u001b[39m\u001b[34m(self, req)\u001b[39m\n\u001b[32m   1390\u001b[39m \u001b[38;5;28;01mdef\u001b[39;00m\u001b[38;5;250m \u001b[39m\u001b[34mhttps_open\u001b[39m(\u001b[38;5;28mself\u001b[39m, req):\n\u001b[32m-> \u001b[39m\u001b[32m1391\u001b[39m     \u001b[38;5;28;01mreturn\u001b[39;00m \u001b[38;5;28;43mself\u001b[39;49m\u001b[43m.\u001b[49m\u001b[43mdo_open\u001b[49m\u001b[43m(\u001b[49m\u001b[43mhttp\u001b[49m\u001b[43m.\u001b[49m\u001b[43mclient\u001b[49m\u001b[43m.\u001b[49m\u001b[43mHTTPSConnection\u001b[49m\u001b[43m,\u001b[49m\u001b[43m \u001b[49m\u001b[43mreq\u001b[49m\u001b[43m,\u001b[49m\n\u001b[32m   1392\u001b[39m \u001b[43m        \u001b[49m\u001b[43mcontext\u001b[49m\u001b[43m=\u001b[49m\u001b[38;5;28;43mself\u001b[39;49m\u001b[43m.\u001b[49m\u001b[43m_context\u001b[49m\u001b[43m,\u001b[49m\u001b[43m \u001b[49m\u001b[43mcheck_hostname\u001b[49m\u001b[43m=\u001b[49m\u001b[38;5;28;43mself\u001b[39;49m\u001b[43m.\u001b[49m\u001b[43m_check_hostname\u001b[49m\u001b[43m)\u001b[49m\n",
      "\u001b[36mFile \u001b[39m\u001b[32m/Library/Frameworks/Python.framework/Versions/3.11/lib/python3.11/urllib/request.py:1351\u001b[39m, in \u001b[36mAbstractHTTPHandler.do_open\u001b[39m\u001b[34m(self, http_class, req, **http_conn_args)\u001b[39m\n\u001b[32m   1350\u001b[39m \u001b[38;5;28;01mexcept\u001b[39;00m \u001b[38;5;167;01mOSError\u001b[39;00m \u001b[38;5;28;01mas\u001b[39;00m err: \u001b[38;5;66;03m# timeout error\u001b[39;00m\n\u001b[32m-> \u001b[39m\u001b[32m1351\u001b[39m     \u001b[38;5;28;01mraise\u001b[39;00m URLError(err)\n\u001b[32m   1352\u001b[39m r = h.getresponse()\n",
      "\u001b[31mURLError\u001b[39m: <urlopen error [SSL: CERTIFICATE_VERIFY_FAILED] certificate verify failed: unable to get local issuer certificate (_ssl.c:992)>",
      "\nDuring handling of the above exception, another exception occurred:\n",
      "\u001b[31mAttributeError\u001b[39m                            Traceback (most recent call last)",
      "\u001b[36mCell\u001b[39m\u001b[36m \u001b[39m\u001b[32mIn[7]\u001b[39m\u001b[32m, line 1\u001b[39m\n\u001b[32m----> \u001b[39m\u001b[32m1\u001b[39m \u001b[43mtest4\u001b[49m\u001b[43m.\u001b[49m\u001b[43mload\u001b[49m\u001b[43m(\u001b[49m\u001b[43m)\u001b[49m\n",
      "\u001b[36mFile \u001b[39m\u001b[32m/Library/Frameworks/Python.framework/Versions/3.11/lib/python3.11/site-packages/langchain_core/document_loaders/base.py:43\u001b[39m, in \u001b[36mBaseLoader.load\u001b[39m\u001b[34m(self)\u001b[39m\n\u001b[32m     37\u001b[39m \u001b[38;5;28;01mdef\u001b[39;00m\u001b[38;5;250m \u001b[39m\u001b[34mload\u001b[39m(\u001b[38;5;28mself\u001b[39m) -> \u001b[38;5;28mlist\u001b[39m[Document]:\n\u001b[32m     38\u001b[39m \u001b[38;5;250m    \u001b[39m\u001b[33;03m\"\"\"Load data into Document objects.\u001b[39;00m\n\u001b[32m     39\u001b[39m \n\u001b[32m     40\u001b[39m \u001b[33;03m    Returns:\u001b[39;00m\n\u001b[32m     41\u001b[39m \u001b[33;03m        the documents.\u001b[39;00m\n\u001b[32m     42\u001b[39m \u001b[33;03m    \"\"\"\u001b[39;00m\n\u001b[32m---> \u001b[39m\u001b[32m43\u001b[39m     \u001b[38;5;28;01mreturn\u001b[39;00m \u001b[38;5;28;43mlist\u001b[39;49m\u001b[43m(\u001b[49m\u001b[38;5;28;43mself\u001b[39;49m\u001b[43m.\u001b[49m\u001b[43mlazy_load\u001b[49m\u001b[43m(\u001b[49m\u001b[43m)\u001b[49m\u001b[43m)\u001b[49m\n",
      "\u001b[36mFile \u001b[39m\u001b[32m/Library/Frameworks/Python.framework/Versions/3.11/lib/python3.11/site-packages/langchain_community/document_loaders/arxiv.py:149\u001b[39m, in \u001b[36mArxivLoader.lazy_load\u001b[39m\u001b[34m(self)\u001b[39m\n\u001b[32m    147\u001b[39m \u001b[38;5;28;01mdef\u001b[39;00m\u001b[38;5;250m \u001b[39m\u001b[34mlazy_load\u001b[39m(\u001b[38;5;28mself\u001b[39m) -> Iterator[Document]:\n\u001b[32m    148\u001b[39m \u001b[38;5;250m    \u001b[39m\u001b[33;03m\"\"\"Lazy load Arvix documents\"\"\"\u001b[39;00m\n\u001b[32m--> \u001b[39m\u001b[32m149\u001b[39m     \u001b[38;5;28;01myield from\u001b[39;00m \u001b[38;5;28mself\u001b[39m.client.lazy_load(\u001b[38;5;28mself\u001b[39m.query)\n",
      "\u001b[36mFile \u001b[39m\u001b[32m/Library/Frameworks/Python.framework/Versions/3.11/lib/python3.11/site-packages/langchain_community/utilities/arxiv.py:223\u001b[39m, in \u001b[36mArxivAPIWrapper.lazy_load\u001b[39m\u001b[34m(self, query)\u001b[39m\n\u001b[32m    221\u001b[39m     \u001b[38;5;28;01mwith\u001b[39;00m fitz.open(doc_file_name) \u001b[38;5;28;01mas\u001b[39;00m doc_file:\n\u001b[32m    222\u001b[39m         text: \u001b[38;5;28mstr\u001b[39m = \u001b[33m\"\u001b[39m\u001b[33m\"\u001b[39m.join(page.get_text() \u001b[38;5;28;01mfor\u001b[39;00m page \u001b[38;5;129;01min\u001b[39;00m doc_file)\n\u001b[32m--> \u001b[39m\u001b[32m223\u001b[39m \u001b[38;5;28;01mexcept\u001b[39;00m (\u001b[38;5;167;01mFileNotFoundError\u001b[39;00m, \u001b[43mfitz\u001b[49m\u001b[43m.\u001b[49m\u001b[43mfitz\u001b[49m.FileDataError) \u001b[38;5;28;01mas\u001b[39;00m f_ex:\n\u001b[32m    224\u001b[39m     logger.debug(f_ex)\n\u001b[32m    225\u001b[39m     \u001b[38;5;28;01mcontinue\u001b[39;00m\n",
      "\u001b[31mAttributeError\u001b[39m: module 'fitz' has no attribute 'fitz'"
     ]
    }
   ],
   "source": [
    "test4.load()"
   ]
  },
  {
   "cell_type": "code",
   "execution_count": 31,
   "id": "3f2c1313",
   "metadata": {},
   "outputs": [
    {
     "name": "stderr",
     "output_type": "stream",
     "text": [
      "45671.59s - pydevd: Sending message related to process being replaced timed-out after 5 seconds\n"
     ]
    },
    {
     "name": "stdout",
     "output_type": "stream",
     "text": [
      "Requirement already satisfied: PyMuPDF in /Library/Frameworks/Python.framework/Versions/3.11/lib/python3.11/site-packages (1.26.4)\n",
      "\n",
      "\u001b[1m[\u001b[0m\u001b[34;49mnotice\u001b[0m\u001b[1;39;49m]\u001b[0m\u001b[39;49m A new release of pip is available: \u001b[0m\u001b[31;49m23.2.1\u001b[0m\u001b[39;49m -> \u001b[0m\u001b[32;49m25.2\u001b[0m\n",
      "\u001b[1m[\u001b[0m\u001b[34;49mnotice\u001b[0m\u001b[1;39;49m]\u001b[0m\u001b[39;49m To update, run: \u001b[0m\u001b[32;49mpip3 install --upgrade pip\u001b[0m\n",
      "Note: you may need to restart the kernel to use updated packages.\n"
     ]
    }
   ],
   "source": [
    "pip install --upgrade PyMuPDF"
   ]
  },
  {
   "cell_type": "code",
   "execution_count": 8,
   "id": "7a5a0044",
   "metadata": {},
   "outputs": [
    {
     "name": "stdout",
     "output_type": "stream",
     "text": [
      "Requirement already satisfied: certifi in /Library/Frameworks/Python.framework/Versions/3.11/lib/python3.11/site-packages (2023.7.22)\n",
      "Collecting certifi\n",
      "  Obtaining dependency information for certifi from https://files.pythonhosted.org/packages/e5/48/1549795ba7742c948d2ad169c1c8cdbae65bc450d6cd753d124b17c8cd32/certifi-2025.8.3-py3-none-any.whl.metadata\n",
      "  Downloading certifi-2025.8.3-py3-none-any.whl.metadata (2.4 kB)\n",
      "Using cached certifi-2025.8.3-py3-none-any.whl (161 kB)\n",
      "Installing collected packages: certifi\n",
      "  Attempting uninstall: certifi\n",
      "    Found existing installation: certifi 2023.7.22\n",
      "    Uninstalling certifi-2023.7.22:\n",
      "      Successfully uninstalled certifi-2023.7.22\n",
      "Successfully installed certifi-2025.8.3\n",
      "\n",
      "\u001b[1m[\u001b[0m\u001b[34;49mnotice\u001b[0m\u001b[1;39;49m]\u001b[0m\u001b[39;49m A new release of pip is available: \u001b[0m\u001b[31;49m23.2.1\u001b[0m\u001b[39;49m -> \u001b[0m\u001b[32;49m25.2\u001b[0m\n",
      "\u001b[1m[\u001b[0m\u001b[34;49mnotice\u001b[0m\u001b[1;39;49m]\u001b[0m\u001b[39;49m To update, run: \u001b[0m\u001b[32;49mpip3 install --upgrade pip\u001b[0m\n",
      "Note: you may need to restart the kernel to use updated packages.\n"
     ]
    }
   ],
   "source": [
    "pip install --upgrade certifi"
   ]
  },
  {
   "cell_type": "code",
   "execution_count": null,
   "id": "635f48d5",
   "metadata": {},
   "outputs": [
    {
     "name": "stdout",
     "output_type": "stream",
     "text": [
      "Requirement already satisfied: arxiv in /Library/Frameworks/Python.framework/Versions/3.11/lib/python3.11/site-packages (2.2.0)\n",
      "Requirement already satisfied: feedparser~=6.0.10 in /Library/Frameworks/Python.framework/Versions/3.11/lib/python3.11/site-packages (from arxiv) (6.0.12)\n",
      "Requirement already satisfied: requests~=2.32.0 in /Library/Frameworks/Python.framework/Versions/3.11/lib/python3.11/site-packages (from arxiv) (2.32.5)\n",
      "Requirement already satisfied: sgmllib3k in /Library/Frameworks/Python.framework/Versions/3.11/lib/python3.11/site-packages (from feedparser~=6.0.10->arxiv) (1.0.0)\n",
      "Requirement already satisfied: charset_normalizer<4,>=2 in /Library/Frameworks/Python.framework/Versions/3.11/lib/python3.11/site-packages (from requests~=2.32.0->arxiv) (3.2.0)\n",
      "Requirement already satisfied: idna<4,>=2.5 in /Library/Frameworks/Python.framework/Versions/3.11/lib/python3.11/site-packages (from requests~=2.32.0->arxiv) (3.4)\n",
      "Requirement already satisfied: urllib3<3,>=1.21.1 in /Library/Frameworks/Python.framework/Versions/3.11/lib/python3.11/site-packages (from requests~=2.32.0->arxiv) (2.0.5)\n",
      "Requirement already satisfied: certifi>=2017.4.17 in /Library/Frameworks/Python.framework/Versions/3.11/lib/python3.11/site-packages (from requests~=2.32.0->arxiv) (2025.8.3)\n",
      "\n",
      "\u001b[1m[\u001b[0m\u001b[34;49mnotice\u001b[0m\u001b[1;39;49m]\u001b[0m\u001b[39;49m A new release of pip is available: \u001b[0m\u001b[31;49m23.2.1\u001b[0m\u001b[39;49m -> \u001b[0m\u001b[32;49m25.2\u001b[0m\n",
      "\u001b[1m[\u001b[0m\u001b[34;49mnotice\u001b[0m\u001b[1;39;49m]\u001b[0m\u001b[39;49m To update, run: \u001b[0m\u001b[32;49mpip3 install --upgrade pip\u001b[0m\n",
      "Note: you may need to restart the kernel to use updated packages.\n"
     ]
    }
   ],
   "source": [
    "pip install arxiv"
   ]
  },
  {
   "cell_type": "code",
   "execution_count": 11,
   "id": "c2ec26da",
   "metadata": {},
   "outputs": [
    {
     "name": "stdout",
     "output_type": "stream",
     "text": [
      "Provided proper attribution is provided, Google hereby grants permission to\n",
      "reproduce the tables and figures in this paper solely for use in journalistic or\n",
      "scholarly works.\n",
      "Attention Is All You Need\n",
      "Ashish Vaswani∗\n",
      "Google Brain\n",
      "avaswani@google.com\n",
      "Noam Shazeer∗\n",
      "Google Brain\n",
      "noam@google.com\n",
      "Niki Parmar∗\n",
      "Google Research\n",
      "nikip@google.com\n",
      "Jakob Uszkoreit∗\n",
      "Google Research\n",
      "usz@google.com\n",
      "Llion Jones∗\n",
      "Google Research\n",
      "llion@google.com\n",
      "Aidan N. Gomez∗†\n",
      "University of Toronto\n",
      "aidan@cs.toronto.edu\n",
      "Łukasz K\n"
     ]
    }
   ],
   "source": [
    "import ssl\n",
    "import fitz  # instead of fitz.fitz\n",
    "from langchain_community.document_loaders import ArxivLoader\n",
    "\n",
    "# Ignore SSL verification (temporary workaround)\n",
    "ssl._create_default_https_context = ssl._create_unverified_context\n",
    "\n",
    "# Load arXiv paper\n",
    "loader = ArxivLoader(query=\"1706.03762\")\n",
    "docs = loader.load()\n",
    "\n",
    "print(docs[0].page_content[:500])  # print first 500 chars\n"
   ]
  },
  {
   "cell_type": "code",
   "execution_count": 12,
   "id": "0dac2cb5",
   "metadata": {},
   "outputs": [],
   "source": [
    "test4 = ArxivLoader(query = \"1706.03762\")"
   ]
  },
  {
   "cell_type": "code",
   "execution_count": 13,
   "id": "12855aa8",
   "metadata": {},
   "outputs": [
    {
     "data": {
      "text/plain": [
       "[Document(metadata={'Published': '2023-08-02', 'Title': 'Attention Is All You Need', 'Authors': 'Ashish Vaswani, Noam Shazeer, Niki Parmar, Jakob Uszkoreit, Llion Jones, Aidan N. Gomez, Lukasz Kaiser, Illia Polosukhin', 'Summary': 'The dominant sequence transduction models are based on complex recurrent or\\nconvolutional neural networks in an encoder-decoder configuration. The best\\nperforming models also connect the encoder and decoder through an attention\\nmechanism. We propose a new simple network architecture, the Transformer, based\\nsolely on attention mechanisms, dispensing with recurrence and convolutions\\nentirely. Experiments on two machine translation tasks show these models to be\\nsuperior in quality while being more parallelizable and requiring significantly\\nless time to train. Our model achieves 28.4 BLEU on the WMT 2014\\nEnglish-to-German translation task, improving over the existing best results,\\nincluding ensembles by over 2 BLEU. On the WMT 2014 English-to-French\\ntranslation task, our model establishes a new single-model state-of-the-art\\nBLEU score of 41.8 after training for 3.5 days on eight GPUs, a small fraction\\nof the training costs of the best models from the literature. We show that the\\nTransformer generalizes well to other tasks by applying it successfully to\\nEnglish constituency parsing both with large and limited training data.'}, page_content='Provided proper attribution is provided, Google hereby grants permission to\\nreproduce the tables and figures in this paper solely for use in journalistic or\\nscholarly works.\\nAttention Is All You Need\\nAshish Vaswani∗\\nGoogle Brain\\navaswani@google.com\\nNoam Shazeer∗\\nGoogle Brain\\nnoam@google.com\\nNiki Parmar∗\\nGoogle Research\\nnikip@google.com\\nJakob Uszkoreit∗\\nGoogle Research\\nusz@google.com\\nLlion Jones∗\\nGoogle Research\\nllion@google.com\\nAidan N. Gomez∗†\\nUniversity of Toronto\\naidan@cs.toronto.edu\\nŁukasz Kaiser∗\\nGoogle Brain\\nlukaszkaiser@google.com\\nIllia Polosukhin∗‡\\nillia.polosukhin@gmail.com\\nAbstract\\nThe dominant sequence transduction models are based on complex recurrent or\\nconvolutional neural networks that include an encoder and a decoder. The best\\nperforming models also connect the encoder and decoder through an attention\\nmechanism. We propose a new simple network architecture, the Transformer,\\nbased solely on attention mechanisms, dispensing with recurrence and convolutions\\nentirely. Experiments on two machine translation tasks show these models to\\nbe superior in quality while being more parallelizable and requiring significantly\\nless time to train. Our model achieves 28.4 BLEU on the WMT 2014 English-\\nto-German translation task, improving over the existing best results, including\\nensembles, by over 2 BLEU. On the WMT 2014 English-to-French translation task,\\nour model establishes a new single-model state-of-the-art BLEU score of 41.8 after\\ntraining for 3.5 days on eight GPUs, a small fraction of the training costs of the\\nbest models from the literature. We show that the Transformer generalizes well to\\nother tasks by applying it successfully to English constituency parsing both with\\nlarge and limited training data.\\n∗Equal contribution. Listing order is random. Jakob proposed replacing RNNs with self-attention and started\\nthe effort to evaluate this idea. Ashish, with Illia, designed and implemented the first Transformer models and\\nhas been crucially involved in every aspect of this work. Noam proposed scaled dot-product attention, multi-head\\nattention and the parameter-free position representation and became the other person involved in nearly every\\ndetail. Niki designed, implemented, tuned and evaluated countless model variants in our original codebase and\\ntensor2tensor. Llion also experimented with novel model variants, was responsible for our initial codebase, and\\nefficient inference and visualizations. Lukasz and Aidan spent countless long days designing various parts of and\\nimplementing tensor2tensor, replacing our earlier codebase, greatly improving results and massively accelerating\\nour research.\\n†Work performed while at Google Brain.\\n‡Work performed while at Google Research.\\n31st Conference on Neural Information Processing Systems (NIPS 2017), Long Beach, CA, USA.\\narXiv:1706.03762v7  [cs.CL]  2 Aug 2023\\n1\\nIntroduction\\nRecurrent neural networks, long short-term memory [13] and gated recurrent [7] neural networks\\nin particular, have been firmly established as state of the art approaches in sequence modeling and\\ntransduction problems such as language modeling and machine translation [35, 2, 5]. Numerous\\nefforts have since continued to push the boundaries of recurrent language models and encoder-decoder\\narchitectures [38, 24, 15].\\nRecurrent models typically factor computation along the symbol positions of the input and output\\nsequences. Aligning the positions to steps in computation time, they generate a sequence of hidden\\nstates ht, as a function of the previous hidden state ht−1 and the input for position t. This inherently\\nsequential nature precludes parallelization within training examples, which becomes critical at longer\\nsequence lengths, as memory constraints limit batching across examples. Recent work has achieved\\nsignificant improvements in computational efficiency through factorization tricks [21] and conditional\\ncomputation [32], while also improving model performance in case of the latter. The fundamental\\nconstraint of sequential computation, however, remains.\\nAttention mechanisms have become an integral part of compelling sequence modeling and transduc-\\ntion models in various tasks, allowing modeling of dependencies without regard to their distance in\\nthe input or output sequences [2, 19]. In all but a few cases [27], however, such attention mechanisms\\nare used in conjunction with a recurrent network.\\nIn this work we propose the Transformer, a model architecture eschewing recurrence and instead\\nrelying entirely on an attention mechanism to draw global dependencies between input and output.\\nThe Transformer allows for significantly more parallelization and can reach a new state of the art in\\ntranslation quality after being trained for as little as twelve hours on eight P100 GPUs.\\n2\\nBackground\\nThe goal of reducing sequential computation also forms the foundation of the Extended Neural GPU\\n[16], ByteNet [18] and ConvS2S [9], all of which use convolutional neural networks as basic building\\nblock, computing hidden representations in parallel for all input and output positions. In these models,\\nthe number of operations required to relate signals from two arbitrary input or output positions grows\\nin the distance between positions, linearly for ConvS2S and logarithmically for ByteNet. This makes\\nit more difficult to learn dependencies between distant positions [12]. In the Transformer this is\\nreduced to a constant number of operations, albeit at the cost of reduced effective resolution due\\nto averaging attention-weighted positions, an effect we counteract with Multi-Head Attention as\\ndescribed in section 3.2.\\nSelf-attention, sometimes called intra-attention is an attention mechanism relating different positions\\nof a single sequence in order to compute a representation of the sequence. Self-attention has been\\nused successfully in a variety of tasks including reading comprehension, abstractive summarization,\\ntextual entailment and learning task-independent sentence representations [4, 27, 28, 22].\\nEnd-to-end memory networks are based on a recurrent attention mechanism instead of sequence-\\naligned recurrence and have been shown to perform well on simple-language question answering and\\nlanguage modeling tasks [34].\\nTo the best of our knowledge, however, the Transformer is the first transduction model relying\\nentirely on self-attention to compute representations of its input and output without using sequence-\\naligned RNNs or convolution. In the following sections, we will describe the Transformer, motivate\\nself-attention and discuss its advantages over models such as [17, 18] and [9].\\n3\\nModel Architecture\\nMost competitive neural sequence transduction models have an encoder-decoder structure [5, 2, 35].\\nHere, the encoder maps an input sequence of symbol representations (x1, ..., xn) to a sequence\\nof continuous representations z = (z1, ..., zn). Given z, the decoder then generates an output\\nsequence (y1, ..., ym) of symbols one element at a time. At each step the model is auto-regressive\\n[10], consuming the previously generated symbols as additional input when generating the next.\\n2\\nFigure 1: The Transformer - model architecture.\\nThe Transformer follows this overall architecture using stacked self-attention and point-wise, fully\\nconnected layers for both the encoder and decoder, shown in the left and right halves of Figure 1,\\nrespectively.\\n3.1\\nEncoder and Decoder Stacks\\nEncoder:\\nThe encoder is composed of a stack of N = 6 identical layers. Each layer has two\\nsub-layers. The first is a multi-head self-attention mechanism, and the second is a simple, position-\\nwise fully connected feed-forward network. We employ a residual connection [11] around each of\\nthe two sub-layers, followed by layer normalization [1]. That is, the output of each sub-layer is\\nLayerNorm(x + Sublayer(x)), where Sublayer(x) is the function implemented by the sub-layer\\nitself. To facilitate these residual connections, all sub-layers in the model, as well as the embedding\\nlayers, produce outputs of dimension dmodel = 512.\\nDecoder:\\nThe decoder is also composed of a stack of N = 6 identical layers. In addition to the two\\nsub-layers in each encoder layer, the decoder inserts a third sub-layer, which performs multi-head\\nattention over the output of the encoder stack. Similar to the encoder, we employ residual connections\\naround each of the sub-layers, followed by layer normalization. We also modify the self-attention\\nsub-layer in the decoder stack to prevent positions from attending to subsequent positions. This\\nmasking, combined with fact that the output embeddings are offset by one position, ensures that the\\npredictions for position i can depend only on the known outputs at positions less than i.\\n3.2\\nAttention\\nAn attention function can be described as mapping a query and a set of key-value pairs to an output,\\nwhere the query, keys, values, and output are all vectors. The output is computed as a weighted sum\\n3\\nScaled Dot-Product Attention\\nMulti-Head Attention\\nFigure 2: (left) Scaled Dot-Product Attention. (right) Multi-Head Attention consists of several\\nattention layers running in parallel.\\nof the values, where the weight assigned to each value is computed by a compatibility function of the\\nquery with the corresponding key.\\n3.2.1\\nScaled Dot-Product Attention\\nWe call our particular attention \"Scaled Dot-Product Attention\" (Figure 2). The input consists of\\nqueries and keys of dimension dk, and values of dimension dv. We compute the dot products of the\\nquery with all keys, divide each by √dk, and apply a softmax function to obtain the weights on the\\nvalues.\\nIn practice, we compute the attention function on a set of queries simultaneously, packed together\\ninto a matrix Q. The keys and values are also packed together into matrices K and V . We compute\\nthe matrix of outputs as:\\nAttention(Q, K, V ) = softmax(QKT\\n√dk\\n)V\\n(1)\\nThe two most commonly used attention functions are additive attention [2], and dot-product (multi-\\nplicative) attention. Dot-product attention is identical to our algorithm, except for the scaling factor\\nof\\n1\\n√dk . Additive attention computes the compatibility function using a feed-forward network with\\na single hidden layer. While the two are similar in theoretical complexity, dot-product attention is\\nmuch faster and more space-efficient in practice, since it can be implemented using highly optimized\\nmatrix multiplication code.\\nWhile for small values of dk the two mechanisms perform similarly, additive attention outperforms\\ndot product attention without scaling for larger values of dk [3]. We suspect that for large values of\\ndk, the dot products grow large in magnitude, pushing the softmax function into regions where it has\\nextremely small gradients 4. To counteract this effect, we scale the dot products by\\n1\\n√dk .\\n3.2.2\\nMulti-Head Attention\\nInstead of performing a single attention function with dmodel-dimensional keys, values and queries,\\nwe found it beneficial to linearly project the queries, keys and values h times with different, learned\\nlinear projections to dk, dk and dv dimensions, respectively. On each of these projected versions of\\nqueries, keys and values we then perform the attention function in parallel, yielding dv-dimensional\\n4To illustrate why the dot products get large, assume that the components of q and k are independent random\\nvariables with mean 0 and variance 1. Then their dot product, q · k = Pdk\\ni=1 qiki, has mean 0 and variance dk.\\n4\\noutput values. These are concatenated and once again projected, resulting in the final values, as\\ndepicted in Figure 2.\\nMulti-head attention allows the model to jointly attend to information from different representation\\nsubspaces at different positions. With a single attention head, averaging inhibits this.\\nMultiHead(Q, K, V ) = Concat(head1, ..., headh)W O\\nwhere headi = Attention(QW Q\\ni , KW K\\ni , V W V\\ni )\\nWhere the projections are parameter matrices W Q\\ni\\n∈Rdmodel×dk, W K\\ni\\n∈Rdmodel×dk, W V\\ni\\n∈Rdmodel×dv\\nand W O ∈Rhdv×dmodel.\\nIn this work we employ h = 8 parallel attention layers, or heads. For each of these we use\\ndk = dv = dmodel/h = 64. Due to the reduced dimension of each head, the total computational cost\\nis similar to that of single-head attention with full dimensionality.\\n3.2.3\\nApplications of Attention in our Model\\nThe Transformer uses multi-head attention in three different ways:\\n• In \"encoder-decoder attention\" layers, the queries come from the previous decoder layer,\\nand the memory keys and values come from the output of the encoder. This allows every\\nposition in the decoder to attend over all positions in the input sequence. This mimics the\\ntypical encoder-decoder attention mechanisms in sequence-to-sequence models such as\\n[38, 2, 9].\\n• The encoder contains self-attention layers. In a self-attention layer all of the keys, values\\nand queries come from the same place, in this case, the output of the previous layer in the\\nencoder. Each position in the encoder can attend to all positions in the previous layer of the\\nencoder.\\n• Similarly, self-attention layers in the decoder allow each position in the decoder to attend to\\nall positions in the decoder up to and including that position. We need to prevent leftward\\ninformation flow in the decoder to preserve the auto-regressive property. We implement this\\ninside of scaled dot-product attention by masking out (setting to −∞) all values in the input\\nof the softmax which correspond to illegal connections. See Figure 2.\\n3.3\\nPosition-wise Feed-Forward Networks\\nIn addition to attention sub-layers, each of the layers in our encoder and decoder contains a fully\\nconnected feed-forward network, which is applied to each position separately and identically. This\\nconsists of two linear transformations with a ReLU activation in between.\\nFFN(x) = max(0, xW1 + b1)W2 + b2\\n(2)\\nWhile the linear transformations are the same across different positions, they use different parameters\\nfrom layer to layer. Another way of describing this is as two convolutions with kernel size 1.\\nThe dimensionality of input and output is dmodel = 512, and the inner-layer has dimensionality\\ndff = 2048.\\n3.4\\nEmbeddings and Softmax\\nSimilarly to other sequence transduction models, we use learned embeddings to convert the input\\ntokens and output tokens to vectors of dimension dmodel. We also use the usual learned linear transfor-\\nmation and softmax function to convert the decoder output to predicted next-token probabilities. In\\nour model, we share the same weight matrix between the two embedding layers and the pre-softmax\\nlinear transformation, similar to [30]. In the embedding layers, we multiply those weights by √dmodel.\\n5\\nTable 1: Maximum path lengths, per-layer complexity and minimum number of sequential operations\\nfor different layer types. n is the sequence length, d is the representation dimension, k is the kernel\\nsize of convolutions and r the size of the neighborhood in restricted self-attention.\\nLayer Type\\nComplexity per Layer\\nSequential\\nMaximum Path Length\\nOperations\\nSelf-Attention\\nO(n2 · d)\\nO(1)\\nO(1)\\nRecurrent\\nO(n · d2)\\nO(n)\\nO(n)\\nConvolutional\\nO(k · n · d2)\\nO(1)\\nO(logk(n))\\nSelf-Attention (restricted)\\nO(r · n · d)\\nO(1)\\nO(n/r)\\n3.5\\nPositional Encoding\\nSince our model contains no recurrence and no convolution, in order for the model to make use of the\\norder of the sequence, we must inject some information about the relative or absolute position of the\\ntokens in the sequence. To this end, we add \"positional encodings\" to the input embeddings at the\\nbottoms of the encoder and decoder stacks. The positional encodings have the same dimension dmodel\\nas the embeddings, so that the two can be summed. There are many choices of positional encodings,\\nlearned and fixed [9].\\nIn this work, we use sine and cosine functions of different frequencies:\\nPE(pos,2i) = sin(pos/100002i/dmodel)\\nPE(pos,2i+1) = cos(pos/100002i/dmodel)\\nwhere pos is the position and i is the dimension. That is, each dimension of the positional encoding\\ncorresponds to a sinusoid. The wavelengths form a geometric progression from 2π to 10000 · 2π. We\\nchose this function because we hypothesized it would allow the model to easily learn to attend by\\nrelative positions, since for any fixed offset k, PEpos+k can be represented as a linear function of\\nPEpos.\\nWe also experimented with using learned positional embeddings [9] instead, and found that the two\\nversions produced nearly identical results (see Table 3 row (E)). We chose the sinusoidal version\\nbecause it may allow the model to extrapolate to sequence lengths longer than the ones encountered\\nduring training.\\n4\\nWhy Self-Attention\\nIn this section we compare various aspects of self-attention layers to the recurrent and convolu-\\ntional layers commonly used for mapping one variable-length sequence of symbol representations\\n(x1, ..., xn) to another sequence of equal length (z1, ..., zn), with xi, zi ∈Rd, such as a hidden\\nlayer in a typical sequence transduction encoder or decoder. Motivating our use of self-attention we\\nconsider three desiderata.\\nOne is the total computational complexity per layer. Another is the amount of computation that can\\nbe parallelized, as measured by the minimum number of sequential operations required.\\nThe third is the path length between long-range dependencies in the network. Learning long-range\\ndependencies is a key challenge in many sequence transduction tasks. One key factor affecting the\\nability to learn such dependencies is the length of the paths forward and backward signals have to\\ntraverse in the network. The shorter these paths between any combination of positions in the input\\nand output sequences, the easier it is to learn long-range dependencies [12]. Hence we also compare\\nthe maximum path length between any two input and output positions in networks composed of the\\ndifferent layer types.\\nAs noted in Table 1, a self-attention layer connects all positions with a constant number of sequentially\\nexecuted operations, whereas a recurrent layer requires O(n) sequential operations. In terms of\\ncomputational complexity, self-attention layers are faster than recurrent layers when the sequence\\n6\\nlength n is smaller than the representation dimensionality d, which is most often the case with\\nsentence representations used by state-of-the-art models in machine translations, such as word-piece\\n[38] and byte-pair [31] representations. To improve computational performance for tasks involving\\nvery long sequences, self-attention could be restricted to considering only a neighborhood of size r in\\nthe input sequence centered around the respective output position. This would increase the maximum\\npath length to O(n/r). We plan to investigate this approach further in future work.\\nA single convolutional layer with kernel width k < n does not connect all pairs of input and output\\npositions. Doing so requires a stack of O(n/k) convolutional layers in the case of contiguous kernels,\\nor O(logk(n)) in the case of dilated convolutions [18], increasing the length of the longest paths\\nbetween any two positions in the network. Convolutional layers are generally more expensive than\\nrecurrent layers, by a factor of k. Separable convolutions [6], however, decrease the complexity\\nconsiderably, to O(k · n · d + n · d2). Even with k = n, however, the complexity of a separable\\nconvolution is equal to the combination of a self-attention layer and a point-wise feed-forward layer,\\nthe approach we take in our model.\\nAs side benefit, self-attention could yield more interpretable models. We inspect attention distributions\\nfrom our models and present and discuss examples in the appendix. Not only do individual attention\\nheads clearly learn to perform different tasks, many appear to exhibit behavior related to the syntactic\\nand semantic structure of the sentences.\\n5\\nTraining\\nThis section describes the training regime for our models.\\n5.1\\nTraining Data and Batching\\nWe trained on the standard WMT 2014 English-German dataset consisting of about 4.5 million\\nsentence pairs. Sentences were encoded using byte-pair encoding [3], which has a shared source-\\ntarget vocabulary of about 37000 tokens. For English-French, we used the significantly larger WMT\\n2014 English-French dataset consisting of 36M sentences and split tokens into a 32000 word-piece\\nvocabulary [38]. Sentence pairs were batched together by approximate sequence length. Each training\\nbatch contained a set of sentence pairs containing approximately 25000 source tokens and 25000\\ntarget tokens.\\n5.2\\nHardware and Schedule\\nWe trained our models on one machine with 8 NVIDIA P100 GPUs. For our base models using\\nthe hyperparameters described throughout the paper, each training step took about 0.4 seconds. We\\ntrained the base models for a total of 100,000 steps or 12 hours. For our big models,(described on the\\nbottom line of table 3), step time was 1.0 seconds. The big models were trained for 300,000 steps\\n(3.5 days).\\n5.3\\nOptimizer\\nWe used the Adam optimizer [20] with β1 = 0.9, β2 = 0.98 and ϵ = 10−9. We varied the learning\\nrate over the course of training, according to the formula:\\nlrate = d−0.5\\nmodel · min(step_num−0.5, step_num · warmup_steps−1.5)\\n(3)\\nThis corresponds to increasing the learning rate linearly for the first warmup_steps training steps,\\nand decreasing it thereafter proportionally to the inverse square root of the step number. We used\\nwarmup_steps = 4000.\\n5.4\\nRegularization\\nWe employ three types of regularization during training:\\n7\\nTable 2: The Transformer achieves better BLEU scores than previous state-of-the-art models on the\\nEnglish-to-German and English-to-French newstest2014 tests at a fraction of the training cost.\\nModel\\nBLEU\\nTraining Cost (FLOPs)\\nEN-DE\\nEN-FR\\nEN-DE\\nEN-FR\\nByteNet [18]\\n23.75\\nDeep-Att + PosUnk [39]\\n39.2\\n1.0 · 1020\\nGNMT + RL [38]\\n24.6\\n39.92\\n2.3 · 1019\\n1.4 · 1020\\nConvS2S [9]\\n25.16\\n40.46\\n9.6 · 1018\\n1.5 · 1020\\nMoE [32]\\n26.03\\n40.56\\n2.0 · 1019\\n1.2 · 1020\\nDeep-Att + PosUnk Ensemble [39]\\n40.4\\n8.0 · 1020\\nGNMT + RL Ensemble [38]\\n26.30\\n41.16\\n1.8 · 1020\\n1.1 · 1021\\nConvS2S Ensemble [9]\\n26.36\\n41.29\\n7.7 · 1019\\n1.2 · 1021\\nTransformer (base model)\\n27.3\\n38.1\\n3.3 · 1018\\nTransformer (big)\\n28.4\\n41.8\\n2.3 · 1019\\nResidual Dropout\\nWe apply dropout [33] to the output of each sub-layer, before it is added to the\\nsub-layer input and normalized. In addition, we apply dropout to the sums of the embeddings and the\\npositional encodings in both the encoder and decoder stacks. For the base model, we use a rate of\\nPdrop = 0.1.\\nLabel Smoothing\\nDuring training, we employed label smoothing of value ϵls = 0.1 [36]. This\\nhurts perplexity, as the model learns to be more unsure, but improves accuracy and BLEU score.\\n6\\nResults\\n6.1\\nMachine Translation\\nOn the WMT 2014 English-to-German translation task, the big transformer model (Transformer (big)\\nin Table 2) outperforms the best previously reported models (including ensembles) by more than 2.0\\nBLEU, establishing a new state-of-the-art BLEU score of 28.4. The configuration of this model is\\nlisted in the bottom line of Table 3. Training took 3.5 days on 8 P100 GPUs. Even our base model\\nsurpasses all previously published models and ensembles, at a fraction of the training cost of any of\\nthe competitive models.\\nOn the WMT 2014 English-to-French translation task, our big model achieves a BLEU score of 41.0,\\noutperforming all of the previously published single models, at less than 1/4 the training cost of the\\nprevious state-of-the-art model. The Transformer (big) model trained for English-to-French used\\ndropout rate Pdrop = 0.1, instead of 0.3.\\nFor the base models, we used a single model obtained by averaging the last 5 checkpoints, which\\nwere written at 10-minute intervals. For the big models, we averaged the last 20 checkpoints. We\\nused beam search with a beam size of 4 and length penalty α = 0.6 [38]. These hyperparameters\\nwere chosen after experimentation on the development set. We set the maximum output length during\\ninference to input length + 50, but terminate early when possible [38].\\nTable 2 summarizes our results and compares our translation quality and training costs to other model\\narchitectures from the literature. We estimate the number of floating point operations used to train a\\nmodel by multiplying the training time, the number of GPUs used, and an estimate of the sustained\\nsingle-precision floating-point capacity of each GPU 5.\\n6.2\\nModel Variations\\nTo evaluate the importance of different components of the Transformer, we varied our base model\\nin different ways, measuring the change in performance on English-to-German translation on the\\n5We used values of 2.8, 3.7, 6.0 and 9.5 TFLOPS for K80, K40, M40 and P100, respectively.\\n8\\nTable 3: Variations on the Transformer architecture. Unlisted values are identical to those of the base\\nmodel. All metrics are on the English-to-German translation development set, newstest2013. Listed\\nperplexities are per-wordpiece, according to our byte-pair encoding, and should not be compared to\\nper-word perplexities.\\nN\\ndmodel\\ndff\\nh\\ndk\\ndv\\nPdrop\\nϵls\\ntrain\\nPPL\\nBLEU\\nparams\\nsteps\\n(dev)\\n(dev)\\n×106\\nbase\\n6\\n512\\n2048\\n8\\n64\\n64\\n0.1\\n0.1\\n100K\\n4.92\\n25.8\\n65\\n(A)\\n1\\n512\\n512\\n5.29\\n24.9\\n4\\n128\\n128\\n5.00\\n25.5\\n16\\n32\\n32\\n4.91\\n25.8\\n32\\n16\\n16\\n5.01\\n25.4\\n(B)\\n16\\n5.16\\n25.1\\n58\\n32\\n5.01\\n25.4\\n60\\n(C)\\n2\\n6.11\\n23.7\\n36\\n4\\n5.19\\n25.3\\n50\\n8\\n4.88\\n25.5\\n80\\n256\\n32\\n32\\n5.75\\n24.5\\n28\\n1024\\n128\\n128\\n4.66\\n26.0\\n168\\n1024\\n5.12\\n25.4\\n53\\n4096\\n4.75\\n26.2\\n90\\n(D)\\n0.0\\n5.77\\n24.6\\n0.2\\n4.95\\n25.5\\n0.0\\n4.67\\n25.3\\n0.2\\n5.47\\n25.7\\n(E)\\npositional embedding instead of sinusoids\\n4.92\\n25.7\\nbig\\n6\\n1024\\n4096\\n16\\n0.3\\n300K\\n4.33\\n26.4\\n213\\ndevelopment set, newstest2013. We used beam search as described in the previous section, but no\\ncheckpoint averaging. We present these results in Table 3.\\nIn Table 3 rows (A), we vary the number of attention heads and the attention key and value dimensions,\\nkeeping the amount of computation constant, as described in Section 3.2.2. While single-head\\nattention is 0.9 BLEU worse than the best setting, quality also drops off with too many heads.\\nIn Table 3 rows (B), we observe that reducing the attention key size dk hurts model quality. This\\nsuggests that determining compatibility is not easy and that a more sophisticated compatibility\\nfunction than dot product may be beneficial. We further observe in rows (C) and (D) that, as expected,\\nbigger models are better, and dropout is very helpful in avoiding over-fitting. In row (E) we replace our\\nsinusoidal positional encoding with learned positional embeddings [9], and observe nearly identical\\nresults to the base model.\\n6.3\\nEnglish Constituency Parsing\\nTo evaluate if the Transformer can generalize to other tasks we performed experiments on English\\nconstituency parsing. This task presents specific challenges: the output is subject to strong structural\\nconstraints and is significantly longer than the input. Furthermore, RNN sequence-to-sequence\\nmodels have not been able to attain state-of-the-art results in small-data regimes [37].\\nWe trained a 4-layer transformer with dmodel = 1024 on the Wall Street Journal (WSJ) portion of the\\nPenn Treebank [25], about 40K training sentences. We also trained it in a semi-supervised setting,\\nusing the larger high-confidence and BerkleyParser corpora from with approximately 17M sentences\\n[37]. We used a vocabulary of 16K tokens for the WSJ only setting and a vocabulary of 32K tokens\\nfor the semi-supervised setting.\\nWe performed only a small number of experiments to select the dropout, both attention and residual\\n(section 5.4), learning rates and beam size on the Section 22 development set, all other parameters\\nremained unchanged from the English-to-German base translation model. During inference, we\\n9\\nTable 4: The Transformer generalizes well to English constituency parsing (Results are on Section 23\\nof WSJ)\\nParser\\nTraining\\nWSJ 23 F1\\nVinyals & Kaiser el al. (2014) [37]\\nWSJ only, discriminative\\n88.3\\nPetrov et al. (2006) [29]\\nWSJ only, discriminative\\n90.4\\nZhu et al. (2013) [40]\\nWSJ only, discriminative\\n90.4\\nDyer et al. (2016) [8]\\nWSJ only, discriminative\\n91.7\\nTransformer (4 layers)\\nWSJ only, discriminative\\n91.3\\nZhu et al. (2013) [40]\\nsemi-supervised\\n91.3\\nHuang & Harper (2009) [14]\\nsemi-supervised\\n91.3\\nMcClosky et al. (2006) [26]\\nsemi-supervised\\n92.1\\nVinyals & Kaiser el al. (2014) [37]\\nsemi-supervised\\n92.1\\nTransformer (4 layers)\\nsemi-supervised\\n92.7\\nLuong et al. (2015) [23]\\nmulti-task\\n93.0\\nDyer et al. (2016) [8]\\ngenerative\\n93.3\\nincreased the maximum output length to input length + 300. We used a beam size of 21 and α = 0.3\\nfor both WSJ only and the semi-supervised setting.\\nOur results in Table 4 show that despite the lack of task-specific tuning our model performs sur-\\nprisingly well, yielding better results than all previously reported models with the exception of the\\nRecurrent Neural Network Grammar [8].\\nIn contrast to RNN sequence-to-sequence models [37], the Transformer outperforms the Berkeley-\\nParser [29] even when training only on the WSJ training set of 40K sentences.\\n7\\nConclusion\\nIn this work, we presented the Transformer, the first sequence transduction model based entirely on\\nattention, replacing the recurrent layers most commonly used in encoder-decoder architectures with\\nmulti-headed self-attention.\\nFor translation tasks, the Transformer can be trained significantly faster than architectures based\\non recurrent or convolutional layers. On both WMT 2014 English-to-German and WMT 2014\\nEnglish-to-French translation tasks, we achieve a new state of the art. In the former task our best\\nmodel outperforms even all previously reported ensembles.\\nWe are excited about the future of attention-based models and plan to apply them to other tasks. We\\nplan to extend the Transformer to problems involving input and output modalities other than text and\\nto investigate local, restricted attention mechanisms to efficiently handle large inputs and outputs\\nsuch as images, audio and video. Making generation less sequential is another research goals of ours.\\nThe code we used to train and evaluate our models is available at https://github.com/\\ntensorflow/tensor2tensor.\\nAcknowledgements\\nWe are grateful to Nal Kalchbrenner and Stephan Gouws for their fruitful\\ncomments, corrections and inspiration.\\nReferences\\n[1] Jimmy Lei Ba, Jamie Ryan Kiros, and Geoffrey E Hinton. Layer normalization. arXiv preprint\\narXiv:1607.06450, 2016.\\n[2] Dzmitry Bahdanau, Kyunghyun Cho, and Yoshua Bengio. Neural machine translation by jointly\\nlearning to align and translate. CoRR, abs/1409.0473, 2014.\\n[3] Denny Britz, Anna Goldie, Minh-Thang Luong, and Quoc V. Le. Massive exploration of neural\\nmachine translation architectures. CoRR, abs/1703.03906, 2017.\\n[4] Jianpeng Cheng, Li Dong, and Mirella Lapata. Long short-term memory-networks for machine\\nreading. arXiv preprint arXiv:1601.06733, 2016.\\n10\\n[5] Kyunghyun Cho, Bart van Merrienboer, Caglar Gulcehre, Fethi Bougares, Holger Schwenk,\\nand Yoshua Bengio. Learning phrase representations using rnn encoder-decoder for statistical\\nmachine translation. CoRR, abs/1406.1078, 2014.\\n[6] Francois Chollet. Xception: Deep learning with depthwise separable convolutions. arXiv\\npreprint arXiv:1610.02357, 2016.\\n[7] Junyoung Chung, Çaglar Gülçehre, Kyunghyun Cho, and Yoshua Bengio. Empirical evaluation\\nof gated recurrent neural networks on sequence modeling. CoRR, abs/1412.3555, 2014.\\n[8] Chris Dyer, Adhiguna Kuncoro, Miguel Ballesteros, and Noah A. Smith. Recurrent neural\\nnetwork grammars. In Proc. of NAACL, 2016.\\n[9] Jonas Gehring, Michael Auli, David Grangier, Denis Yarats, and Yann N. Dauphin. Convolu-\\ntional sequence to sequence learning. arXiv preprint arXiv:1705.03122v2, 2017.\\n[10] Alex Graves.\\nGenerating sequences with recurrent neural networks.\\narXiv preprint\\narXiv:1308.0850, 2013.\\n[11] Kaiming He, Xiangyu Zhang, Shaoqing Ren, and Jian Sun. Deep residual learning for im-\\nage recognition. In Proceedings of the IEEE Conference on Computer Vision and Pattern\\nRecognition, pages 770–778, 2016.\\n[12] Sepp Hochreiter, Yoshua Bengio, Paolo Frasconi, and Jürgen Schmidhuber. Gradient flow in\\nrecurrent nets: the difficulty of learning long-term dependencies, 2001.\\n[13] Sepp Hochreiter and Jürgen Schmidhuber. Long short-term memory. Neural computation,\\n9(8):1735–1780, 1997.\\n[14] Zhongqiang Huang and Mary Harper. Self-training PCFG grammars with latent annotations\\nacross languages. In Proceedings of the 2009 Conference on Empirical Methods in Natural\\nLanguage Processing, pages 832–841. ACL, August 2009.\\n[15] Rafal Jozefowicz, Oriol Vinyals, Mike Schuster, Noam Shazeer, and Yonghui Wu. Exploring\\nthe limits of language modeling. arXiv preprint arXiv:1602.02410, 2016.\\n[16] Łukasz Kaiser and Samy Bengio. Can active memory replace attention? In Advances in Neural\\nInformation Processing Systems, (NIPS), 2016.\\n[17] Łukasz Kaiser and Ilya Sutskever. Neural GPUs learn algorithms. In International Conference\\non Learning Representations (ICLR), 2016.\\n[18] Nal Kalchbrenner, Lasse Espeholt, Karen Simonyan, Aaron van den Oord, Alex Graves, and Ko-\\nray Kavukcuoglu. Neural machine translation in linear time. arXiv preprint arXiv:1610.10099v2,\\n2017.\\n[19] Yoon Kim, Carl Denton, Luong Hoang, and Alexander M. Rush. Structured attention networks.\\nIn International Conference on Learning Representations, 2017.\\n[20] Diederik Kingma and Jimmy Ba. Adam: A method for stochastic optimization. In ICLR, 2015.\\n[21] Oleksii Kuchaiev and Boris Ginsburg. Factorization tricks for LSTM networks. arXiv preprint\\narXiv:1703.10722, 2017.\\n[22] Zhouhan Lin, Minwei Feng, Cicero Nogueira dos Santos, Mo Yu, Bing Xiang, Bowen\\nZhou, and Yoshua Bengio. A structured self-attentive sentence embedding. arXiv preprint\\narXiv:1703.03130, 2017.\\n[23] Minh-Thang Luong, Quoc V. Le, Ilya Sutskever, Oriol Vinyals, and Lukasz Kaiser. Multi-task\\nsequence to sequence learning. arXiv preprint arXiv:1511.06114, 2015.\\n[24] Minh-Thang Luong, Hieu Pham, and Christopher D Manning. Effective approaches to attention-\\nbased neural machine translation. arXiv preprint arXiv:1508.04025, 2015.\\n11\\n[25] Mitchell P Marcus, Mary Ann Marcinkiewicz, and Beatrice Santorini. Building a large annotated\\ncorpus of english: The penn treebank. Computational linguistics, 19(2):313–330, 1993.\\n[26] David McClosky, Eugene Charniak, and Mark Johnson. Effective self-training for parsing. In\\nProceedings of the Human Language Technology Conference of the NAACL, Main Conference,\\npages 152–159. ACL, June 2006.\\n[27] Ankur Parikh, Oscar Täckström, Dipanjan Das, and Jakob Uszkoreit. A decomposable attention\\nmodel. In Empirical Methods in Natural Language Processing, 2016.\\n[28] Romain Paulus, Caiming Xiong, and Richard Socher. A deep reinforced model for abstractive\\nsummarization. arXiv preprint arXiv:1705.04304, 2017.\\n[29] Slav Petrov, Leon Barrett, Romain Thibaux, and Dan Klein. Learning accurate, compact,\\nand interpretable tree annotation. In Proceedings of the 21st International Conference on\\nComputational Linguistics and 44th Annual Meeting of the ACL, pages 433–440. ACL, July\\n2006.\\n[30] Ofir Press and Lior Wolf. Using the output embedding to improve language models. arXiv\\npreprint arXiv:1608.05859, 2016.\\n[31] Rico Sennrich, Barry Haddow, and Alexandra Birch. Neural machine translation of rare words\\nwith subword units. arXiv preprint arXiv:1508.07909, 2015.\\n[32] Noam Shazeer, Azalia Mirhoseini, Krzysztof Maziarz, Andy Davis, Quoc Le, Geoffrey Hinton,\\nand Jeff Dean. Outrageously large neural networks: The sparsely-gated mixture-of-experts\\nlayer. arXiv preprint arXiv:1701.06538, 2017.\\n[33] Nitish Srivastava, Geoffrey E Hinton, Alex Krizhevsky, Ilya Sutskever, and Ruslan Salakhutdi-\\nnov. Dropout: a simple way to prevent neural networks from overfitting. Journal of Machine\\nLearning Research, 15(1):1929–1958, 2014.\\n[34] Sainbayar Sukhbaatar, Arthur Szlam, Jason Weston, and Rob Fergus. End-to-end memory\\nnetworks. In C. Cortes, N. D. Lawrence, D. D. Lee, M. Sugiyama, and R. Garnett, editors,\\nAdvances in Neural Information Processing Systems 28, pages 2440–2448. Curran Associates,\\nInc., 2015.\\n[35] Ilya Sutskever, Oriol Vinyals, and Quoc VV Le. Sequence to sequence learning with neural\\nnetworks. In Advances in Neural Information Processing Systems, pages 3104–3112, 2014.\\n[36] Christian Szegedy, Vincent Vanhoucke, Sergey Ioffe, Jonathon Shlens, and Zbigniew Wojna.\\nRethinking the inception architecture for computer vision. CoRR, abs/1512.00567, 2015.\\n[37] Vinyals & Kaiser, Koo, Petrov, Sutskever, and Hinton. Grammar as a foreign language. In\\nAdvances in Neural Information Processing Systems, 2015.\\n[38] Yonghui Wu, Mike Schuster, Zhifeng Chen, Quoc V Le, Mohammad Norouzi, Wolfgang\\nMacherey, Maxim Krikun, Yuan Cao, Qin Gao, Klaus Macherey, et al. Google’s neural machine\\ntranslation system: Bridging the gap between human and machine translation. arXiv preprint\\narXiv:1609.08144, 2016.\\n[39] Jie Zhou, Ying Cao, Xuguang Wang, Peng Li, and Wei Xu. Deep recurrent models with\\nfast-forward connections for neural machine translation. CoRR, abs/1606.04199, 2016.\\n[40] Muhua Zhu, Yue Zhang, Wenliang Chen, Min Zhang, and Jingbo Zhu. Fast and accurate\\nshift-reduce constituent parsing. In Proceedings of the 51st Annual Meeting of the ACL (Volume\\n1: Long Papers), pages 434–443. ACL, August 2013.\\n12\\nAttention Visualizations\\nIt\\nis\\nin\\nthis\\nspirit\\nthat\\na\\nmajority\\nof\\nAmerican\\ngovernments\\nhave\\npassed\\nnew\\nlaws\\nsince\\n2009\\nmaking\\nthe\\nregistration\\nor\\nvoting\\nprocess\\nmore\\ndifficult\\n.\\n<EOS>\\n<pad>\\n<pad>\\n<pad>\\n<pad>\\n<pad>\\n<pad>\\nIt\\nis\\nin\\nthis\\nspirit\\nthat\\na\\nmajority\\nof\\nAmerican\\ngovernments\\nhave\\npassed\\nnew\\nlaws\\nsince\\n2009\\nmaking\\nthe\\nregistration\\nor\\nvoting\\nprocess\\nmore\\ndifficult\\n.\\n<EOS>\\n<pad>\\n<pad>\\n<pad>\\n<pad>\\n<pad>\\n<pad>\\nFigure 3: An example of the attention mechanism following long-distance dependencies in the\\nencoder self-attention in layer 5 of 6. Many of the attention heads attend to a distant dependency of\\nthe verb ‘making’, completing the phrase ‘making...more difficult’. Attentions here shown only for\\nthe word ‘making’. Different colors represent different heads. Best viewed in color.\\n13\\nThe\\nLaw\\nwill\\nnever\\nbe\\nperfect\\n,\\nbut\\nits\\napplication\\nshould\\nbe\\njust\\n-\\nthis\\nis\\nwhat\\nwe\\nare\\nmissing\\n,\\nin\\nmy\\nopinion\\n.\\n<EOS>\\n<pad>\\nThe\\nLaw\\nwill\\nnever\\nbe\\nperfect\\n,\\nbut\\nits\\napplication\\nshould\\nbe\\njust\\n-\\nthis\\nis\\nwhat\\nwe\\nare\\nmissing\\n,\\nin\\nmy\\nopinion\\n.\\n<EOS>\\n<pad>\\nThe\\nLaw\\nwill\\nnever\\nbe\\nperfect\\n,\\nbut\\nits\\napplication\\nshould\\nbe\\njust\\n-\\nthis\\nis\\nwhat\\nwe\\nare\\nmissing\\n,\\nin\\nmy\\nopinion\\n.\\n<EOS>\\n<pad>\\nThe\\nLaw\\nwill\\nnever\\nbe\\nperfect\\n,\\nbut\\nits\\napplication\\nshould\\nbe\\njust\\n-\\nthis\\nis\\nwhat\\nwe\\nare\\nmissing\\n,\\nin\\nmy\\nopinion\\n.\\n<EOS>\\n<pad>\\nFigure 4: Two attention heads, also in layer 5 of 6, apparently involved in anaphora resolution. Top:\\nFull attentions for head 5. Bottom: Isolated attentions from just the word ‘its’ for attention heads 5\\nand 6. Note that the attentions are very sharp for this word.\\n14\\nThe\\nLaw\\nwill\\nnever\\nbe\\nperfect\\n,\\nbut\\nits\\napplication\\nshould\\nbe\\njust\\n-\\nthis\\nis\\nwhat\\nwe\\nare\\nmissing\\n,\\nin\\nmy\\nopinion\\n.\\n<EOS>\\n<pad>\\nThe\\nLaw\\nwill\\nnever\\nbe\\nperfect\\n,\\nbut\\nits\\napplication\\nshould\\nbe\\njust\\n-\\nthis\\nis\\nwhat\\nwe\\nare\\nmissing\\n,\\nin\\nmy\\nopinion\\n.\\n<EOS>\\n<pad>\\nThe\\nLaw\\nwill\\nnever\\nbe\\nperfect\\n,\\nbut\\nits\\napplication\\nshould\\nbe\\njust\\n-\\nthis\\nis\\nwhat\\nwe\\nare\\nmissing\\n,\\nin\\nmy\\nopinion\\n.\\n<EOS>\\n<pad>\\nThe\\nLaw\\nwill\\nnever\\nbe\\nperfect\\n,\\nbut\\nits\\napplication\\nshould\\nbe\\njust\\n-\\nthis\\nis\\nwhat\\nwe\\nare\\nmissing\\n,\\nin\\nmy\\nopinion\\n.\\n<EOS>\\n<pad>\\nFigure 5: Many of the attention heads exhibit behaviour that seems related to the structure of the\\nsentence. We give two such examples above, from two different heads from the encoder self-attention\\nat layer 5 of 6. The heads clearly learned to perform different tasks.\\n15\\n')]"
      ]
     },
     "execution_count": 13,
     "metadata": {},
     "output_type": "execute_result"
    }
   ],
   "source": [
    "test4.load()"
   ]
  },
  {
   "cell_type": "code",
   "execution_count": 2,
   "id": "a77bc99b",
   "metadata": {},
   "outputs": [],
   "source": [
    "from langchain_community.document_loaders import WikipediaLoader"
   ]
  },
  {
   "cell_type": "code",
   "execution_count": 3,
   "id": "a1e6e776",
   "metadata": {},
   "outputs": [],
   "source": [
    "test5 = WikipediaLoader(query=\"AI Agents\", load_max_docs=2)"
   ]
  },
  {
   "cell_type": "code",
   "execution_count": 4,
   "id": "55315c0d",
   "metadata": {},
   "outputs": [
    {
     "data": {
      "text/plain": [
       "[Document(metadata={'title': 'Agentic AI', 'summary': 'Agentic AI is a class of artificial intelligence that focuses on autonomous systems that can make decisions and perform tasks with or without human intervention. The independent systems automatically respond to conditions, with procedural, algorithmic, and human-like creative steps, to produce process results. The field is closely linked to agentic automation, also known as agent-based process management systems, when applied to process automation. Applications include software development, customer support, cybersecurity and business intelligence. \\n\\n', 'source': 'https://en.wikipedia.org/wiki/Agentic_AI'}, page_content='Agentic AI is a class of artificial intelligence that focuses on autonomous systems that can make decisions and perform tasks with or without human intervention. The independent systems automatically respond to conditions, with procedural, algorithmic, and human-like creative steps, to produce process results. The field is closely linked to agentic automation, also known as agent-based process management systems, when applied to process automation. Applications include software development, customer support, cybersecurity and business intelligence. \\n\\n\\n== Overview ==\\nThe core concept of agentic AI is the use of AI agents to perform automated tasks with or without human intervention. While robotic process automation (RPA) systems automate rule-based, repetitive tasks with fixed logic, agentic AI adapts and learns from data inputs.  Agentic AI refers to autonomous systems capable of pursuing complex goals with minimal human intervention, often making decisions based on continuous learning and external data.  Functioning agents can require various AI techniques, such as natural language processing, machine learning (ML), and computer vision, depending on the environment.\\nParticularly, reinforcement learning (RL) is essential in assisting agentic AI in making self-directed choices by supporting agents in learning best actions through the trial-and-error method. Agents using RL continuously to explore their surroundings will be given rewards or punishment for their actions, which refines their decision-making capability over time. All the while deep learning, as opposed to rule-based methods, supports agentic AI through multi-layered neural networks to learn features from extensive and complex sets of data. Further, multimodal learning enable AI agents to integrate various types of information, such as text, images, audio and video. As a result, agentic AI systems are capable of making independent decisions, interacting with their environment and optimising processes without a human directly intervening. \\n\\n\\n== History ==\\n\\nThe term \\'agent-based process management system\\' was first used in 1998 to describe autonomous agents for business process management.\\n\\n\\n== Applications ==\\n\\n\\n=== Web browsing ===\\nAI agents can be used to perform small tedious tasks during web browsing and potentially even perform browser actions on behalf of the user. Products like OpenAI Operator and Perplexity Comet integrate a spectrum of AI capabilities including the ability to browse the web, interact with websites and perform actions on behalf of the user. In 2025, Microsoft launched NLWeb, a agentic web search replacement that would allow websites to use agents to query content from websites by using RSS-like interfaces that allow for the lookup and semantic retrieval of content. Products integrating agentic web capabilities have been criticised for exfiltrating information about their users to third-party servers and exposing security issues since the way the agents communicate often occur through non-standard protocols.\\n\\n\\n=== MIT\\'s study on AI business ===\\nIn 2025, MIT\\'s study revealed that about 95% of enterprise generative-AI pilots fail to deliver measurable P&L impact. The report titled \"The GenAI Divide: State of AI in Business 2025,\" based on 150 executive interviews, a survey of 350 employees, and analysis of 300 deployments, and it attributes the failures largely to integration issues.\\n\\n\\n== See also ==\\nIntelligent agent\\nModel Context Protocol\\nRational agent\\nRobotic process automation\\nSoftware agent\\nAgentic Web\\n\\n\\n== References =='),\n",
       " Document(metadata={'title': 'Intelligent agent', 'summary': 'In artificial intelligence, an intelligent agent is an entity that perceives its environment, takes actions autonomously to achieve goals, and may improve its performance through machine learning or by acquiring knowledge. AI textbooks define artificial intelligence as the \"study and design of intelligent agents,\" emphasizing that goal-directed behavior is central to intelligence.\\nA specialized subset of intelligent agents, agentic AI (also known as an AI agent or simply agent), expands this concept by proactively pursuing goals, making decisions, and taking actions over extended periods.\\nIntelligent agents can range from simple to highly complex. A basic thermostat or control system is considered an intelligent agent, as is a human being, or any other system that meets the same criteria—such as a firm, a state, or a biome.\\nIntelligent agents operate based on an objective function, which encapsulates their goals. They are designed to create and execute plans that maximize the expected value of this function upon completion. For example, a reinforcement learning agent has a reward function, which allows programmers to shape its desired behavior. Similarly, an evolutionary algorithm\\'s behavior is guided by a fitness function.\\nIntelligent agents in artificial intelligence are closely related to agents in economics, and versions of the intelligent agent paradigm are studied in cognitive science, ethics, and the philosophy of practical reason, as well as in many interdisciplinary socio-cognitive modeling and computer social simulations.\\nIntelligent agents are often described schematically as abstract functional systems similar to computer programs. To distinguish theoretical models from real-world implementations, abstract descriptions of intelligent agents are called abstract intelligent agents. Intelligent agents are also closely related to software agents—autonomous computer programs that carry out tasks on behalf of users. They are also referred to using a term borrowed from economics: a \"rational agent\".', 'source': 'https://en.wikipedia.org/wiki/Intelligent_agent'}, page_content='In artificial intelligence, an intelligent agent is an entity that perceives its environment, takes actions autonomously to achieve goals, and may improve its performance through machine learning or by acquiring knowledge. AI textbooks define artificial intelligence as the \"study and design of intelligent agents,\" emphasizing that goal-directed behavior is central to intelligence.\\nA specialized subset of intelligent agents, agentic AI (also known as an AI agent or simply agent), expands this concept by proactively pursuing goals, making decisions, and taking actions over extended periods.\\nIntelligent agents can range from simple to highly complex. A basic thermostat or control system is considered an intelligent agent, as is a human being, or any other system that meets the same criteria—such as a firm, a state, or a biome.\\nIntelligent agents operate based on an objective function, which encapsulates their goals. They are designed to create and execute plans that maximize the expected value of this function upon completion. For example, a reinforcement learning agent has a reward function, which allows programmers to shape its desired behavior. Similarly, an evolutionary algorithm\\'s behavior is guided by a fitness function.\\nIntelligent agents in artificial intelligence are closely related to agents in economics, and versions of the intelligent agent paradigm are studied in cognitive science, ethics, and the philosophy of practical reason, as well as in many interdisciplinary socio-cognitive modeling and computer social simulations.\\nIntelligent agents are often described schematically as abstract functional systems similar to computer programs. To distinguish theoretical models from real-world implementations, abstract descriptions of intelligent agents are called abstract intelligent agents. Intelligent agents are also closely related to software agents—autonomous computer programs that carry out tasks on behalf of users. They are also referred to using a term borrowed from economics: a \"rational agent\".\\n\\n\\n== Intelligent agents as the foundation of AI ==\\n\\nThe concept of intelligent agents provides a foundational lens through which to define and understand artificial intelligence. For instance, the influential textbook Artificial Intelligence: A Modern Approach (Russell & Norvig) describes:\\n\\nAgent: Anything that perceives its environment (using sensors) and acts upon it (using actuators). E.g., a robot with cameras and wheels, or a software program that reads data and makes recommendations.\\nRational Agent: An agent that strives to achieve the *best possible outcome* based on its knowledge and past experiences. \"Best\" is defined by a performance measure – a way of evaluating how well the agent is doing.\\nArtificial Intelligence (as a field): The study and creation of these rational agents.\\nOther researchers and definitions build upon this foundation. Padgham & Winikoff emphasize that intelligent agents should react to changes in their environment in a timely way, proactively pursue goals, and be flexible and robust (able to handle unexpected situations). Some also suggest that ideal agents should be \"rational\" in the economic sense (making optimal choices) and capable of complex reasoning, like having beliefs, desires, and intentions (BDI model). Kaplan and Haenlein offer a similar definition, focusing on a system\\'s ability to understand external data, learn from that data, and use what is learned to achieve goals through flexible adaptation.\\nDefining AI in terms of intelligent agents offers several key advantages:\\n\\nAvoids Philosophical Debates: It sidesteps arguments about whether AI is \"truly\" intelligent or conscious, like those raised by the Turing test or Searle\\'s Chinese Room. It focuses on behavior and goal achievement, not on replicating human thought.\\nObjective Testing: It provides a clear, scientific way to evaluate AI systems. Researchers can compare different approaches by measuring how well they maximize a specific \"')]"
      ]
     },
     "execution_count": 4,
     "metadata": {},
     "output_type": "execute_result"
    }
   ],
   "source": [
    "test5.load()"
   ]
  },
  {
   "cell_type": "code",
   "execution_count": 2,
   "id": "0a0df426",
   "metadata": {},
   "outputs": [],
   "source": [
    "from langchain_community.document_loaders import PyPDFLoader"
   ]
  },
  {
   "cell_type": "code",
   "execution_count": 3,
   "id": "d0214dc3",
   "metadata": {},
   "outputs": [],
   "source": [
    "splitText = PyPDFLoader(\"LLM.pdf\")"
   ]
  },
  {
   "cell_type": "code",
   "execution_count": 4,
   "id": "edcb9c01",
   "metadata": {},
   "outputs": [
    {
     "name": "stderr",
     "output_type": "stream",
     "text": [
      "Ignoring wrong pointing object 7 0 (offset 0)\n",
      "Ignoring wrong pointing object 9 0 (offset 0)\n",
      "Ignoring wrong pointing object 16 0 (offset 0)\n",
      "Ignoring wrong pointing object 18 0 (offset 0)\n",
      "Ignoring wrong pointing object 20 0 (offset 0)\n",
      "Ignoring wrong pointing object 22 0 (offset 0)\n",
      "Ignoring wrong pointing object 24 0 (offset 0)\n",
      "Ignoring wrong pointing object 26 0 (offset 0)\n",
      "Ignoring wrong pointing object 32 0 (offset 0)\n",
      "Ignoring wrong pointing object 34 0 (offset 0)\n",
      "Ignoring wrong pointing object 43 0 (offset 0)\n",
      "Ignoring wrong pointing object 47 0 (offset 0)\n",
      "Ignoring wrong pointing object 49 0 (offset 0)\n",
      "Ignoring wrong pointing object 58 0 (offset 0)\n",
      "Ignoring wrong pointing object 84 0 (offset 0)\n",
      "Ignoring wrong pointing object 100 0 (offset 0)\n",
      "Ignoring wrong pointing object 104 0 (offset 0)\n",
      "Ignoring wrong pointing object 106 0 (offset 0)\n",
      "Ignoring wrong pointing object 134 0 (offset 0)\n",
      "Ignoring wrong pointing object 136 0 (offset 0)\n",
      "Ignoring wrong pointing object 138 0 (offset 0)\n",
      "Ignoring wrong pointing object 140 0 (offset 0)\n",
      "Ignoring wrong pointing object 142 0 (offset 0)\n",
      "Ignoring wrong pointing object 144 0 (offset 0)\n",
      "Ignoring wrong pointing object 146 0 (offset 0)\n",
      "Ignoring wrong pointing object 157 0 (offset 0)\n",
      "Ignoring wrong pointing object 159 0 (offset 0)\n",
      "Ignoring wrong pointing object 161 0 (offset 0)\n",
      "Ignoring wrong pointing object 163 0 (offset 0)\n",
      "Ignoring wrong pointing object 174 0 (offset 0)\n",
      "Ignoring wrong pointing object 176 0 (offset 0)\n",
      "Ignoring wrong pointing object 178 0 (offset 0)\n",
      "Ignoring wrong pointing object 180 0 (offset 0)\n",
      "Ignoring wrong pointing object 184 0 (offset 0)\n",
      "Ignoring wrong pointing object 189 0 (offset 0)\n",
      "Ignoring wrong pointing object 191 0 (offset 0)\n",
      "Ignoring wrong pointing object 200 0 (offset 0)\n",
      "Ignoring wrong pointing object 215 0 (offset 0)\n",
      "Ignoring wrong pointing object 225 0 (offset 0)\n",
      "Ignoring wrong pointing object 255 0 (offset 0)\n",
      "Ignoring wrong pointing object 294 0 (offset 0)\n",
      "Ignoring wrong pointing object 300 0 (offset 0)\n",
      "Ignoring wrong pointing object 306 0 (offset 0)\n",
      "Ignoring wrong pointing object 354 0 (offset 0)\n",
      "Ignoring wrong pointing object 356 0 (offset 0)\n",
      "Ignoring wrong pointing object 358 0 (offset 0)\n",
      "Ignoring wrong pointing object 360 0 (offset 0)\n",
      "Ignoring wrong pointing object 363 0 (offset 0)\n",
      "Ignoring wrong pointing object 365 0 (offset 0)\n",
      "Ignoring wrong pointing object 367 0 (offset 0)\n",
      "Ignoring wrong pointing object 369 0 (offset 0)\n",
      "Ignoring wrong pointing object 372 0 (offset 0)\n",
      "Ignoring wrong pointing object 374 0 (offset 0)\n",
      "Ignoring wrong pointing object 376 0 (offset 0)\n",
      "Ignoring wrong pointing object 378 0 (offset 0)\n",
      "Ignoring wrong pointing object 385 0 (offset 0)\n",
      "Ignoring wrong pointing object 387 0 (offset 0)\n",
      "Ignoring wrong pointing object 389 0 (offset 0)\n",
      "Ignoring wrong pointing object 391 0 (offset 0)\n",
      "Ignoring wrong pointing object 436 0 (offset 0)\n",
      "Ignoring wrong pointing object 438 0 (offset 0)\n",
      "Ignoring wrong pointing object 440 0 (offset 0)\n",
      "Ignoring wrong pointing object 442 0 (offset 0)\n",
      "Ignoring wrong pointing object 449 0 (offset 0)\n",
      "Ignoring wrong pointing object 451 0 (offset 0)\n",
      "Ignoring wrong pointing object 453 0 (offset 0)\n",
      "Ignoring wrong pointing object 455 0 (offset 0)\n",
      "Ignoring wrong pointing object 528 0 (offset 0)\n",
      "Ignoring wrong pointing object 539 0 (offset 0)\n"
     ]
    }
   ],
   "source": [
    "textex = splitText.load()"
   ]
  },
  {
   "cell_type": "code",
   "execution_count": 5,
   "id": "325111dc",
   "metadata": {},
   "outputs": [],
   "source": [
    "fullText = \"\\n\".join([doc.page_content for doc in textex])"
   ]
  },
  {
   "cell_type": "code",
   "execution_count": 6,
   "id": "7b33192f",
   "metadata": {},
   "outputs": [],
   "source": [
    "from langchain_text_splitters import CharacterTextSplitter"
   ]
  },
  {
   "cell_type": "code",
   "execution_count": 8,
   "id": "70a0545e",
   "metadata": {},
   "outputs": [
    {
     "name": "stdout",
     "output_type": "stream",
     "text": [
      "Collecting tiktoken\n",
      "  Obtaining dependency information for tiktoken from https://files.pythonhosted.org/packages/8c/e9/6faa6870489ce64f5f75dcf91512bf35af5864583aee8fcb0dcb593121f5/tiktoken-0.11.0-cp311-cp311-macosx_11_0_arm64.whl.metadata\n",
      "  Downloading tiktoken-0.11.0-cp311-cp311-macosx_11_0_arm64.whl.metadata (6.7 kB)\n",
      "Collecting regex>=2022.1.18 (from tiktoken)\n",
      "  Obtaining dependency information for regex>=2022.1.18 from https://files.pythonhosted.org/packages/eb/7d/7dc0c6efc8bc93cd6e9b947581f5fde8a5dbaa0af7c4ec818c5729fdc807/regex-2025.9.1-cp311-cp311-macosx_11_0_arm64.whl.metadata\n",
      "  Downloading regex-2025.9.1-cp311-cp311-macosx_11_0_arm64.whl.metadata (40 kB)\n",
      "\u001b[2K     \u001b[90m━━━━━━━━━━━━━━━━━━━━━━━━━━━━━━━━━━━━━━━━\u001b[0m \u001b[32m40.5/40.5 kB\u001b[0m \u001b[31m1.3 MB/s\u001b[0m eta \u001b[36m0:00:00\u001b[0m\n",
      "\u001b[?25hRequirement already satisfied: requests>=2.26.0 in /Library/Frameworks/Python.framework/Versions/3.11/lib/python3.11/site-packages (from tiktoken) (2.32.5)\n",
      "Requirement already satisfied: charset_normalizer<4,>=2 in /Library/Frameworks/Python.framework/Versions/3.11/lib/python3.11/site-packages (from requests>=2.26.0->tiktoken) (3.2.0)\n",
      "Requirement already satisfied: idna<4,>=2.5 in /Library/Frameworks/Python.framework/Versions/3.11/lib/python3.11/site-packages (from requests>=2.26.0->tiktoken) (3.4)\n",
      "Requirement already satisfied: urllib3<3,>=1.21.1 in /Library/Frameworks/Python.framework/Versions/3.11/lib/python3.11/site-packages (from requests>=2.26.0->tiktoken) (2.0.5)\n",
      "Requirement already satisfied: certifi>=2017.4.17 in /Library/Frameworks/Python.framework/Versions/3.11/lib/python3.11/site-packages (from requests>=2.26.0->tiktoken) (2025.8.3)\n",
      "Using cached tiktoken-0.11.0-cp311-cp311-macosx_11_0_arm64.whl (999 kB)\n",
      "Using cached regex-2025.9.1-cp311-cp311-macosx_11_0_arm64.whl (286 kB)\n",
      "Installing collected packages: regex, tiktoken\n",
      "Successfully installed regex-2025.9.1 tiktoken-0.11.0\n",
      "\n",
      "\u001b[1m[\u001b[0m\u001b[34;49mnotice\u001b[0m\u001b[1;39;49m]\u001b[0m\u001b[39;49m A new release of pip is available: \u001b[0m\u001b[31;49m23.2.1\u001b[0m\u001b[39;49m -> \u001b[0m\u001b[32;49m25.2\u001b[0m\n",
      "\u001b[1m[\u001b[0m\u001b[34;49mnotice\u001b[0m\u001b[1;39;49m]\u001b[0m\u001b[39;49m To update, run: \u001b[0m\u001b[32;49mpip3 install --upgrade pip\u001b[0m\n",
      "Note: you may need to restart the kernel to use updated packages.\n"
     ]
    }
   ],
   "source": [
    "pip install tiktoken"
   ]
  },
  {
   "cell_type": "code",
   "execution_count": 9,
   "id": "d2ae616e",
   "metadata": {},
   "outputs": [],
   "source": [
    "text_splitter = CharacterTextSplitter.from_tiktoken_encoder(chunk_size=100, chunk_overlap=0)"
   ]
  },
  {
   "cell_type": "code",
   "execution_count": 10,
   "id": "175f4180",
   "metadata": {},
   "outputs": [],
   "source": [
    "texts = text_splitter.split_text(fullText)"
   ]
  },
  {
   "cell_type": "code",
   "execution_count": 11,
   "id": "d19ebafd",
   "metadata": {},
   "outputs": [
    {
     "data": {
      "text/plain": [
       "['Transformers and Large Language ModelsIntroduction to Large Language Models\\nLanguage models•Remember the simple n-gram language model•Assigns probabilities to sequences of words•Generate text by sampling possible next words•Is trained on counts computed from lots of text•Large language models are similar and different:•Assigns probabilities to sequences of words•Generate text by sampling possible next words•Are trained by learning to guess the next word\\nNeural Large Language Models (LLMs)•Self-supervised learners•Take a text, remove a word•Use your neural model to guess what the word was•If the model is wrong, use stochastic gradient descent to make the model guess better next time•Advantages (?):•All we need is a lot of text (GPT3: 500 billion tokens)•(And a lot of compute)\\nLLMs are built out of transformersTransformer: a specific kind of network architecture, like a fancier feedforward network, but based on attentionProvided proper attribution is provided, Google hereby grants permission to\\nreproduce the tables and ﬁgures in this paper solely for use in journalistic or\\nscholarly works.\\nAttention Is All You Need\\nAshish Vaswani ⇤\\nGoogle Brain\\navaswani@google.com\\nNoam Shazeer ⇤\\nGoogle Brain\\nnoam@google.com\\nNiki Parmar ⇤\\nGoogle Research\\nnikip@google.com\\nJakob Uszkoreit ⇤\\nGoogle Research\\nusz@google.com\\nLlion Jones ⇤\\nGoogle Research\\nllion@google.com\\nAidan N. Gomez ⇤ †\\nUniversity of Toronto\\naidan@cs.toronto.edu\\nŁ ukasz Kaiser ⇤\\nGoogle Brain\\nlukaszkaiser@google.com\\nIllia Polosukhin ⇤ ‡\\nillia.polosukhin@gmail.com\\nAbstract\\nThe dominant sequence transduction models are based on complex recurrent or\\nconvolutional neural networks that include an encoder and a decoder. The best\\nperforming models also connect the encoder and decoder through an attention\\nmechanism. We propose a new simple network architecture, the Transformer,\\nbased solely on attention mechanisms, dispensing with recurrence and convolutions\\nentirely. Experiments on two machine translation tasks show these models to\\nbe superior in quality while being more parallelizable and requiring signiﬁcantly\\nless time to train. Our model achieves 28.4 BLEU on the WMT 2014 English-\\nto-German translation task, improving over the existing best results, including\\nensembles, by over 2 BLEU. On the WMT 2014 English-to-French translation task,\\nour model establishes a new single-model state-of-the-art BLEU score of 41.8 after\\ntraining for 3.5 days on eight GPUs, a small fraction of the training costs of the\\nbest models from the literature. We show that the Transformer generalizes well to\\nother tasks by applying it successfully to English constituency parsing both with\\nlarge and limited training data.\\n⇤\\nEqual contribution. Listing order is random. Jakob proposed replacing RNNs with self-attention and started\\nthe effort to evaluate this idea. Ashish, with Illia, designed and implemented the ﬁrst Transformer models and\\nhas been crucially involved in every aspect of this work. Noam proposed scaled dot-product attention, multi-head\\nattention and the parameter-free position representation and became the other person involved in nearly every\\ndetail. Niki designed, implemented, tuned and evaluated countless model variants in our original codebase and\\ntensor2tensor. Llion also experimented with novel model variants, was responsible for our initial codebase, and\\nefﬁcient inference and visualizations. Lukasz and Aidan spent countless long days designing various parts of and\\nimplementing tensor2tensor, replacing our earlier codebase, greatly improving results and massively accelerating\\nour research.\\n†\\nWork performed while at Google Brain.\\n‡\\nWork performed while at Google Research.\\n31st Conference on Neural Information Processing Systems (NIPS 2017), Long Beach, CA, USA.\\narXiv:1706.03762v7  [cs.CL]  2 Aug 2023\\nA very approximate timeline1990 Static Word Embeddings2003 Neural Language Model2008 Multi-Task Learning2015 Attention2017 Transformer2018 Contextual Word Embeddings and Pretraining2019 Prompting\\nA picture of a transformer language model\\nInput\\nEmbeddings\\nLayers of\\nTransformer\\nBlocks\\nSoftmax over\\nVocabulary\\nSo long and thanks for\\nlong and thanks forOutput all\\n…\\n…\\n…\\nLinear Layer\\nTransformers and Large Language ModelsIntroduction to Large Language Models\\nTransformers and Large Language ModelsAttention\\nInstead of starting with the big picture\\nInput\\nEmbeddings\\nLayers of\\nTransformer\\nBlocks\\nSoftmax over\\nVocabulary\\nSo long and thanks for\\nlong and thanks forOutput all\\n…\\n…\\n…\\nLinear Layer\\nInput\\nEmbeddings\\nLayers of\\nTransformer\\nBlocks\\nSoftmax over\\nVocabulary\\nSo long and thanks for\\nlong and thanks forOutput all\\n…\\n…\\n…\\nLinear Layer\\nLet\\'s consider the embeddings for an individual word from a particular layer\\nProblem with static embeddings (word2vec)They are static!  The embedding for a word doesn\\'t reflect how its meaning changes in context.The chicken didn\\'t cross the street because it was too tired\\nWhat is the meaning represented in the static embedding for \"it\"?\\nContextual Embeddings•Intuition: a representation of meaning of a word should be different in different contexts!•Contextual Embedding: each word has a different vector that expresses different meanings depending on the surrounding words•How to compute contextual embeddings?•Attention\\nContextual EmbeddingsThe chicken didn\\'t cross the street because itWhat should be the properties of \"it\"?The chicken didn\\'t cross the street because it was too tiredThe chicken didn\\'t cross the street because it was too trafficy\\nAt this point in the sentence, it\\'s probably referring to either the chicken or the street\\nIntuition of attentionBuild up the contextual embedding from a word by selectively integrating information from all the neighboring wordsWe say that a word \"attends to\" some neighboring words more than others\\nIntuition of attention: test\\nThe\\nanimal\\ndidn’t\\ncross\\nthe\\nstreet\\nbecause\\nit\\nwas\\ntoo\\ntired\\nThe\\nanimal\\ndidn’t\\ncross\\nthe\\nstreet\\nbecause\\nit\\nwas\\ntoo\\ntired\\nLayer 6\\nLayer 5\\nself-attention distribution\\nAttention definitionA mechanism for helping compute the embedding for a token by selectively attending to and integrating information from surrounding tokens (at the previous layer).More formally: a method for doing a weighted sum of vectors.\\nAttention is left-to-right\\nSelf-Attention\\nLayer\\nx 1\\na 1\\nx 2\\na 2 a 3 a 4 a 5\\nx 3 x 4 x 5\\nSimplified version of attention: a sum of prior words weighted by their similarity with the current wordGiven a sequence of token embeddings: x1 x2   x3   x4   x5   xiProduce: ai = a weighted sum of x1 through x5Weighted by their similarity to xi\\n10.1 • T HE T RANSFORMER :AS ELF -A TTENTION N ETWORK 5\\nSelf-Attention\\nLayer\\nx\\n1\\na\\n1\\nx\\n2\\na\\n2\\na\\n3\\na\\n4\\na\\n5\\nx\\n3\\nx\\n4\\nx\\n5\\nFigure 10.2 Information ﬂow in a causal (or masked) self-attention model. In processing\\neach element of the sequence, the model attends to all the inputs up to, and including, the\\ncurrent one. Unlike RNNs, the computations at each time step are independent of all the\\nother steps and therefore can be performed in parallel.\\n10.1.3 Self-attention more formally\\nWe’ve given the intuition of self-attention (as a way to compute representations of a\\nword at a given layer by integrating information from words at the previous layer)\\nand we’ve deﬁned context as all the prior words in the input. Let’s now introduce\\nthe self-attention computation itself.\\nThe core intuition of attention is the idea of comparing an item of interest to a\\ncollection of other items in a way that reveals their relevance in the current context.\\nIn the case of self-attention for language, the set of comparisons are to other words\\n(or tokens) within a given sequence. The result of these comparisons is then used to\\ncompute an output sequence for the current input sequence. For example, returning\\nto Fig. 10.2 , the computation of a 3\\nis based on a set of comparisons between the\\ninput x 3\\nand its preceding elements x 1\\nand x 2\\n, and to x 3\\nitself.\\nHow shall we compare words to other words? Since our representations for\\nwords are vectors, we’ll make use of our old friend the dot product that we used\\nfor computing word similarity in Chapter 6, and also played a role in attention in\\nChapter 9. Let’s refer to the result of this comparison between words i and j as a\\nscore (we’ll be updating this equation to add attention to the computation of this\\nscore):\\nV erson 1: score ( x i\\n, x j\\n)= x i\\n· x j\\n(10.4)\\nThe result of a dot product is a scalar value ranging from \\x00 • to • , the larger\\nthe value the more similar the vectors that are being compared. Continuing with our\\nexample, the ﬁrst step in computing y 3\\nwould be to compute three scores: x 3\\n· x 1\\n,\\nx 3\\n· x 2\\nand x 3\\n· x 3\\n. Then to make effective use of these scores, we’ll normalize them\\nwith a softmax to create a vector of weights, a ij\\n, that indicates the proportional\\nrelevance of each input to the input element i that is the current focus of attention.\\na ij\\n= softmax ( score ( x i\\n, x j\\n)) 8 j \\uf8ff i (10.5)\\n=\\nexp ( score ( x i\\n, x j\\n))\\nP\\ni\\nk = 1\\nexp ( score ( x i\\n, x\\nk\\n))\\n8 j \\uf8ff i (10.6)\\nOf course, the softmax weight will likely be highest for the current focus element\\ni , since vecx i\\nis very similar to itself, resulting in a high dot product. But other\\ncontext words may also be similar to i , and the softmax will also assign some weight\\nto those words.\\nGiven the proportional scores in a , we generate an output value a i\\nby summing\\n10.1 • T HE T RANSFORMER :AS ELF -A TTENTION N ETWORK 5\\nSelf-Attention\\nLayer\\nx 1\\na 1\\nx 2\\na 2 a 3 a 4 a 5\\nx 3 x 4 x 5\\nFigure 10.2 Information ﬂow in a causal (or masked) self-attention model. In processing\\neach element of the sequence, the model attends to all the inputs up to, and including, the\\ncurrent one. Unlike RNNs, the computations at each time step are independent of all the\\nother steps and therefore can be performed in parallel.\\n10.1.3 Self-attention more formally\\nWe’ve given the intuition of self-attention (as a way to compute representations of a\\nword at a given layer by integrating information from words at the previous layer)\\nand we’ve deﬁned context as all the prior words in the input. Let’s now introduce\\nthe self-attention computation itself.\\nThe core intuition of attention is the idea of comparing an item of interest to a\\ncollection of other items in a way that reveals their relevance in the current context.\\nIn the case of self-attention for language, the set of comparisons are to other words\\n(or tokens) within a given sequence. The result of these comparisons is then used to\\ncompute an output sequence for the current input sequence. For example, returning\\nto Fig. 10.2 , the computation of a 3\\nis based on a set of comparisons between the\\ninput x 3\\nand its preceding elements x 1\\nand x 2\\n, and to x 3\\nitself.\\nHow shall we compare words to other words? Since our representations for\\nwords are vectors, we’ll make use of our old friend the dot product that we used\\nfor computing word similarity in Chapter 6, and also played a role in attention in\\nChapter 9. Let’s refer to the result of this comparison between words i and j as a\\nscore (we’ll be updating this equation to add attention to the computation of this\\nscore):\\nV erson 1: score ( x i\\n, x j\\n)= x i\\n· x j\\n(10.4)\\nThe result of a dot product is a scalar value ranging from \\x00 • to • , the larger\\nthe value the more similar the vectors that are being compared. Continuing with our\\nexample, the ﬁrst step in computing y 3\\nwould be to compute three scores: x 3\\n· x 1\\n,\\nx 3\\n· x 2\\nand x 3\\n· x 3\\n. Then to make effective use of these scores, we’ll normalize them\\nwith a softmax to create a vector of weights, a ij\\n, that indicates the proportional\\nrelevance of each input to the input element i that is the current focus of attention.\\na ij\\n= softmax ( score ( x i\\n, x j\\n)) 8 j \\uf8ff i (10.5)\\n=\\nexp ( score ( x i\\n, x j\\n))\\nP\\ni\\nk = 1\\nexp ( score ( x i\\n, x k\\n))\\n8 j \\uf8ff i (10.6)\\nOf course, the softmax weight will likely be highest for the current focus element\\ni , since vecx i\\nis very similar to itself, resulting in a high dot product. But other\\ncontext words may also be similar to i , and the softmax will also assign some weight\\nto those words.\\nGiven the proportional scores in a , we generate an output value a i\\nby summing\\n6 C HAPTER 10 • T RANSFORMERS AND L ARGE L ANGUAGE M ODELS\\nthe inputs seen so far, each weighted by its a value.\\na i\\n=\\nX\\nj \\uf8ff i\\na ij\\nx j\\n(10.7)\\nThe steps embodied in Equations 10.4 through 10.7 represent the core of an\\nattention-based approach: a set of comparisons to relevant items in some context,\\na normalization of those scores to provide a probability distribution, followed by a\\nweighted sum using this distribution. The output a is the result of this straightfor-\\nward computation over the inputs.\\nThis kind of simple attention can be useful, and indeed we saw in Chapter 9\\nhow to use this simple idea of attention for LSTM-based encoder-decoder models\\nfor machine translation. But transformers allow us to create a more sophisticated\\nway of representing how words can contribute to the representation of longer inputs.\\nConsider the three different roles that each input embedding plays during the course\\nof the attention process.\\n• As the current focus of attention when being compared to all of the other\\npreceding inputs. We’ll refer to this role as a query .query\\n• In its role as a preceding input being compared to the current focus of atten-\\ntion. We’ll refer to this role as a key .key\\n• And ﬁnally, as a value used to compute the output for the current focus ofvalue\\nattention.\\nTo capture these three different roles, transformers introduce weight matrices\\nW\\nQ\\n, W\\nK\\n, and W\\nV\\n. These weights will be used to project each input vector x i\\ninto\\na representation of its role as a key, query, or value.\\nq i\\n= x i\\nW\\nQ\\n; k i\\n= x i\\nW\\nK\\n; v i\\n= x i\\nW\\nV\\n(10.8)\\nThe inputs x and outputs y of transformers, as well as the intermediate vectors after\\nthe various layers like the attention output vector a , all have the same dimensionality\\n1 ⇥ d . We’ll have a dimension d k\\nfor the key and query vectors, and a separate\\ndimension d v\\nfor the value vectors. In the original transformer work ( Vaswani et al. ,\\n2017 ), d was 512, d k\\nand d v\\nwere both 64. The shapes of the transform matrices are\\nthen W\\nQ\\n2 R\\nd ⇥ d\\nk\\n, W\\nK\\n2 R\\nd ⇥ d\\nk\\n, and W\\nV\\n2 R\\nd ⇥ d v\\n.\\nGiven these projections, the score between a current focus of attention, x i\\n, and\\nan element in the preceding context, x j\\n, consists of a dot product between its query\\nvector q i\\nand the preceding element’s key vectors k j\\n. This dot product has the right\\nshape since both the query and the key are of dimensionality 1 ⇥ d k\\n. Let’s update\\nour previous comparison calculation to reﬂect this, replacing Eq. 10.4 with Eq. 10.9 :\\nV erson 2: score ( x i\\n, x j\\n)= q i\\n· k j\\n(10.9)\\nThe ensuing softmax calculation resulting in a i , j\\nremains the same, but the output\\ncalculation for a i\\nis now based on a weighted sum over the value vectors v .\\na i\\n=\\nX\\nj \\uf8ff i\\na ij\\nv j\\n(10.10)\\nAgain, the softmax weight a ij\\nwill likely be highest for the current focus element\\ni , and so the value for y i\\nwill be most inﬂuenced by v i\\n. But the model will also pay\\nattention to other contextual words if they are similar to i , allowing their values to\\nIntuition of attention: test\\nThe\\nanimal\\ndidn’t\\ncross\\nthe\\nstreet\\nbecause\\nit\\nwas\\ntoo\\ntired\\nThe\\nanimal\\ndidn’t\\ncross\\nthe\\nstreet\\nbecause\\nit\\nwas\\ntoo\\ntired\\nLayer 6\\nLayer 5\\nself-attention distribution\\nx1  x2  x3  x4  x5  x6  x7   xi\\nIntuition of attention: test\\nThe\\nanimal\\ndidn’t\\ncross\\nthe\\nstreet\\nbecause\\nit\\nwas\\ntoo\\ntired\\nThe\\nanimal\\ndidn’t\\ncross\\nthe\\nstreet\\nbecause\\nit\\nwas\\ntoo\\ntired\\nLayer 6\\nLayer 5\\nself-attention distribution\\nx1  x2  x3  x4  x5  x6  x7   xi\\nquery\\nvalues\\nAttentionActually it\\'s slightly more complicated, but I won\\'t get into thatHigh-level idea: instead of just having a query and a set of values, each embedding actually also has a key\\nIntuition of attention: test\\nThe\\nanimal\\ndidn’t\\ncross\\nthe\\nstreet\\nbecause\\nit\\nwas\\ntoo\\ntired\\nThe\\nanimal\\ndidn’t\\ncross\\nthe\\nstreet\\nbecause\\nit\\nwas\\ntoo\\ntired\\nLayer 6\\nLayer 5\\nself-attention distribution\\nx1  x2  x3  x4  x5  x6  x7   xi\\nquery\\nvalueskv kv kv kv kv kv kvkeys\\nSummaryAttention is a method for enriching the representation of a token by incorporating contextual informationThe result: the embedding for each word will be different in different contexts!Contextual embeddings: a representation of word meaning in its context.\\nTransformers and Large Language ModelsAttention\\nTransformers and Large Language ModelsThe rest of the transformer applied to language modeling\\nThe transformerAttention is just part of computing embeddings in a transformer.Let\\'s see more of the mechanism\\nReminder: transformer language model\\nInput\\nEmbeddings\\nLayers of\\nTransformer\\nBlocks\\nSoftmax over\\nVocabulary\\nSo long and thanks for\\nlong and thanks forOutput all\\n…\\n…\\n…\\nLinear Layer\\nThe residual stream: each token gets passed up and modified\\nLayer Norm\\nxi\\n+\\nhi-1\\nLayer Norm\\nMultiHead\\nAttention\\nFeedforward\\nxi-1 xi+1\\nhi hi+1\\n+ ……\\nWe\\'ll need nonlinearities, so a feedforward layer\\nLayer Norm\\nxi\\n+\\nhi-1\\nLayer Norm\\nMultiHead\\nAttention\\nFeedforward\\nxi-1 xi+1\\nhi hi+1\\n+ ……\\nA transformer is a stack of these blocks\\nLayer Norm\\nxi\\n+\\nhi-1\\nLayer Norm\\nMultiHeadAttention\\nFeedforward\\nxi-1 xi+1\\nhi hi+1\\n+ ……\\nLayer Norm\\nxi\\n+\\nhi-1\\nLayer Norm\\nMultiHeadAttention\\nFeedforward\\nxi-1 xi+1\\nhi hi+1\\n+ ……\\nBlock 1\\nBlock 2\\nInputs\\nX = Composite\\nEmbeddings\\n(word + position)\\nTransformer Block\\nJanet\\n1\\nwill\\n2\\nback\\n3\\nJanet will back the bill\\nthe\\n4\\nbill\\n5\\n+\\n+\\n+\\n+\\n+\\nPosition\\nEmbeddings\\nWord\\nEmbeddings\\nLanguage modeling head\\nLayer L\\nTransformer\\nBlock\\nSoftmax over vocabulary V\\nUnembedding layer\\n…\\n1 x |V|\\nLogits \\nWord probabilities\\n1 x |V|\\nhL\\n1\\nw1 w2 wN\\nhL\\n2 hL\\nN\\nd x |V|\\n1 x d\\n   Unembedding\\n    layer = ET\\ny1 y2 y|V|…\\nu1 u2 u|V|…\\nLanguage Model Head\\ntakes hL\\nN and outputs a\\ndistribution over vocabulary V\\nThe final transformermodel\\nX x1 x2      …      xN\\nMultihead Self-Attention\\nLayer Norm\\nFeedforward\\nLayer Norm\\nLayer 1\\nh1 h2      …     hN\\nMultihead Self-Attention\\nLayer Norm\\nFeedforward\\nLayer Norm\\nLayer 2\\nh1 h2      …     hN\\nMultihead Self-Attention\\nLayer Norm\\nFeedforward\\nLayer Norm\\nLayer  L\\nh1 h2      …     hN\\n…\\nSample token to generateat position N+1 wN+1\\nw1 w2      …      wNInput tokens\\nP1       P2     …    PN        Add token + position embeddings +\\nLanguage ModelHead\\nToken probabilitiesy1 y2 y|V|…\\nE[w1] E[w2]  … E[wN]\\nTransformers and Large Language ModelsThe rest of the transformer applied to language modeling\\nLarge Language ModelsPretraining (and how to train transformers for language modeling)\\nPretrainingThe big idea that underlies all the amazing performance of language modelsFirst pretrain a transformer model on enormous amounts of textThen apply it to new tasks.\\nIntuition of language model trainingWe just train them to predict the next word!1.Take a corpus of text 2.At each time step t i.ask the model to predict the next word ii.train the model using gradient descent to minimize the error in this prediction\\nIntuition of language model training: loss•Same loss function: cross-entropy loss•We want the model to assign a high probability to true word w•= want loss to be high if the model assigns too low a probability to w•CE Loss: The negative log probability that the model assigns to the true next word w•If the model assigns too low a probability to w•We move the model weights in the direction that assigns a higher probability to w\\nTraining a transformer language model\\nInput\\nEmbeddings\\nTransformer\\nBlock\\nSoftmax over\\nVocabulary\\nSo long and thanks for\\nlong and thanks forNext word all\\n…\\nLoss …\\n…\\n=\\nLinear Layer\\nPretraining Data: mostly from the web (Common Crawl)The Pile:\\nFigure 1: Treemap of Pile components by effective size.\\ntroduce a new ﬁltered subset of Common Crawl,\\nPile-CC, with improved extraction quality.\\nThrough our analyses, we conﬁrm that the Pile is\\nsigniﬁcantly distinct from pure Common Crawl\\ndata. Additionally, our evaluations show that the\\nexisting GPT-2 and GPT-3 models perform poorly\\non many components of the Pile, and that models\\ntrained on the Pile signiﬁcantly outperform both\\nraw and ﬁltered Common Crawl models. To com-\\nplement the performance evaluations, we also per-\\nform an exploratory analysis of the text within the\\nPile to provide a detailed picture of the data. We\\nhope that our extensive documentation of the con-\\nstruction and characteristics of the Pile will help\\nresearchers make informed decisions about poten-\\ntial downstream applications.\\nFinally, we make publicly available the preprocess-\\ning code for the constituent datasets of the Pile and\\nthe code for constructing alternative versions 2\\n. In\\nthe interest of reproducibility, we also document\\nall processing performed on each dataset (and the\\nPile as a whole) in as much detail as possible. For\\nfurther details about the processing of each dataset,\\nsee Section 2 and Appendix C .\\n2\\nhttps://github.com/EleutherAI/\\nthe-pile\\n1.1 Contributions\\nThe core contributions of this paper are:\\n1. The introduction of a 825 . 18 GiB english-\\nlanguage dataset for language modeling com-\\nbining 22 diverse sources.\\n2. The introduction of 14 new language model-\\ning datasets, which we expect to be of inde-\\npendent interest to researchers.\\n3. Evaluations demonstrating signiﬁcant im-\\nprovements across many domains by GPT-2-\\nsized models trained on this new dataset, com-\\npared to training on CC-100 and raw Common\\nCrawl.\\n4. The investigation and documentation of this\\ndataset, which we hope will better inform re-\\nsearchers about how to use it as well as moti-\\nvate them to undertake similar investigations\\nof their own data.\\n2 The Pile Datasets\\nThe Pile is composed of 22 constituent sub-datasets,\\nas shown in Table 1 . Following Brown et al. ( 2020 ),\\nwe increase the weights of higher quality compo-\\nnents, with certain high-quality datasets such as\\nWikipedia being seen up to 3 times (“epochs”) for\\n2\\nWhat does a model learn from pretraining?•There are canines everywhere! One dog in the front room, and two dogs•It wasn\\'t just big it was enormous•The author of \"A Room of One\\'s Own\" is Virginia Woolf•The doctor told me that he•The square root of 4 is 2\\nBig ideaText contains enormous amounts of knowledgePretraining on lots of text with all that knowledge is what gives language models their ability to do so much\\nLarge Language ModelsPretraining (and how to train transformers for language modeling)\\nLarge Language ModelsLarge Language Models: Applying pretrained models to new tasks\\nBig ideaMany tasks can be turned into tasks of predicting words!\\nThree architectures for large language models\\nDecoders   Encoders     Encoder-decodersGPT, Claude,  BERT family,  Flan-T5, WhisperLlama 2   HuBERTMixtral\\nPretraining for three types of architecturesThe neural architecture influences the type of pretraining, and natural use cases.\\n32\\nDecoders• Language models! What we’ve seen so far.• Nice to generate from; can’t condition on future words\\nEncoders• Gets bidirectional context – can condition on future!• How do we train them to build strong representations?\\nEncoder-Decoders• Good parts of decoders and encoders?• What’s the best way to pretrain them?\\nPretraining for three types of architecturesThe neural architecture influences the type of pretraining, and natural use cases.\\n32\\nDecoders• Language models! What we’ve seen so far.• Nice to generate from; can’t condition on future words\\nEncoders• Gets bidirectional context – can condition on future!• How do we train them to build strong representations?\\nEncoder-Decoders• Good parts of decoders and encoders?• What’s the best way to pretrain them?\\nPretraining for three types of architecturesThe neural architecture influences the type of pretraining, and natural use cases.\\n32\\nDecoders• Language models! What we’ve seen so far.• Nice to generate from; can’t condition on future words\\nEncoders• Gets bidirectional context – can condition on future!• How do we train them to build strong representations?\\nEncoder-Decoders• Good parts of decoders and encoders?• What’s the best way to pretrain them?\\nDecodersAlso called:•Causal LLMs•Autoregressive LLMs•Left-to-right LLMs•Predict words left to right\\nPretraining for three types of architecturesThe neural architecture influences the type of pretraining, and natural use cases.\\n32\\nDecoders• Language models! What we’ve seen so far.• Nice to generate from; can’t condition on future words\\nEncoders• Gets bidirectional context – can condition on future!• How do we train them to build strong representations?\\nEncoder-Decoders• Good parts of decoders and encoders?• What’s the best way to pretrain them?\\nConditional Generation: Generating text conditioned on previous text!\\nPreﬁx Text\\nCompletion Text\\nInput\\nEmbeddings\\nTransformer\\nBlocks\\nSample from Softmax\\nSo long\\nall\\nand thanks for all\\nthe\\nthe\\n…\\nlinear layer\\nFraming lots of tasks as conditional generationSentiment analysis: “I like Jackie Chan”1.We give the language model this string:The sentiment of the sentence \"I like Jackie Chan\" is: 2.And see what word it thinks comes next:\\n20 C HAPTER 10 • T RANSFORMERS AND L ARGE L ANGUAGE M ODELS\\nPreﬁx Text\\nCompletion Text\\nInput\\nEmbeddings\\nTransformer\\nBlocks\\nSample from Softmax\\nSo long\\nall\\nand thanks for all\\nthe\\nthe\\n…\\nlinear layer\\nFigure 10.15 Autoregressive text completion with transformer-based large language models.\\nword “negative” to see which is higher:\\nP ( positive | The sentiment of the sentence “I like Jackie Chan” is: )\\nP ( negative | The sentiment of the sentence “I like Jackie Chan” is: )\\nIf the word “positive” is more probable, we say the sentiment of the sentence is\\npositive, otherwise we say the sentiment is negative.\\nWe can also cast more complex tasks as word prediction. Consider the task\\nof answering simple questions, a task we return to in Chapter 14. In this task the\\nsystem is given some question and must give a textual answer. We can cast the task\\nof question answering as word prediction by giving a language model a question and\\na token like A: suggesting that an answer should come next:\\nQ: Who wrote the book ‘‘The Origin of Species\"? A:\\nIf we ask a language model to compute\\nP ( w | Q: Who wrote the book “The Origin of Species”? A: )\\nand look at which words w have high probabilities, we might expect to see that\\nCharles is very likely, and then if we choose Charles and continue and ask\\nP ( w | Q: Who wrote the book “The Origin of Species”? A: Charles )\\nwe might now see that Darwin is the most probable word, and select it.\\nConditional generation can even be used to accomplish tasks that must generate\\nlonger responses. Consider the task of text summarization , which is to take a long\\ntext\\nsummarization\\ntext, such as a full-length article, and produce an effective shorter summary of it.\\nWe can cast summarization as language modeling by giving a large language model\\na text, and follow the text by a token like tl;dr ; this token is short for something\\nlike ‘too long; don’t read’ and in recent years people often use this token, especially\\nin informal work emails, when they are going to give a short summary. We can\\nthen do conditional generation: give the language model this preﬁx, and then ask\\nFraming lots of tasks as conditional generationQA: “Who wrote The Origin of Species”1.We give the language model this string:\\n2.And see what word it thinks comes next:\\n20 C HAPTER 10 • T RANSFORMERS AND L ARGE L ANGUAGE M ODELS\\nPreﬁx Text\\nCompletion Text\\nInput\\nEmbeddings\\nTransformer\\nBlocks\\nSample from Softmax\\nSo long\\nall\\nand thanks for all\\nthe\\nthe\\n…\\nlinear layer\\nFigure 10.15 Autoregressive text completion with transformer-based large language models.\\nword “negative” to see which is higher:\\nP ( positive | The sentiment of the sentence “I like Jackie Chan” is: )\\nP ( negative | The sentiment of the sentence “I like Jackie Chan” is: )\\nIf the word “positive” is more probable, we say the sentiment of the sentence is\\npositive, otherwise we say the sentiment is negative.\\nWe can also cast more complex tasks as word prediction. Consider the task\\nof answering simple questions, a task we return to in Chapter 14. In this task the\\nsystem is given some question and must give a textual answer. We can cast the task\\nof question answering as word prediction by giving a language model a question and\\na token like A: suggesting that an answer should come next:\\nQ: Who wrote the book ‘‘The Origin of Species\"? A:\\nIf we ask a language model to compute\\nP ( w | Q: Who wrote the book “The Origin of Species”? A: )\\nand look at which words w have high probabilities, we might expect to see that\\nCharles is very likely, and then if we choose Charles and continue and ask\\nP ( w | Q: Who wrote the book “The Origin of Species”? A: Charles )\\nwe might now see that Darwin is the most probable word, and select it.\\nConditional generation can even be used to accomplish tasks that must generate\\nlonger responses. Consider the task of text summarization , which is to take a long\\ntext\\nsummarization\\ntext, such as a full-length article, and produce an effective shorter summary of it.\\nWe can cast summarization as language modeling by giving a large language model\\na text, and follow the text by a token like tl;dr ; this token is short for something\\nlike ‘too long; don’t read’ and in recent years people often use this token, especially\\nin informal work emails, when they are going to give a short summary. We can\\nthen do conditional generation: give the language model this preﬁx, and then ask\\n20 C HAPTER 10 • T RANSFORMERS AND L ARGE L ANGUAGE M ODELS\\nPreﬁx Text\\nCompletion Text\\nInput\\nEmbeddings\\nTransformer\\nBlocks\\nSample from Softmax\\nSo long\\nall\\nand thanks for all\\nthe\\nthe\\n…\\nlinear layer\\nFigure 10.15 Autoregressive text completion with transformer-based large language models.\\nword “negative” to see which is higher:\\nP ( positive | The sentiment of the sentence “I like Jackie Chan” is: )\\nP ( negative | The sentiment of the sentence “I like Jackie Chan” is: )\\nIf the word “positive” is more probable, we say the sentiment of the sentence is\\npositive, otherwise we say the sentiment is negative.\\nWe can also cast more complex tasks as word prediction. Consider the task\\nof answering simple questions, a task we return to in Chapter 14. In this task the\\nsystem is given some question and must give a textual answer. We can cast the task\\nof question answering as word prediction by giving a language model a question and\\na token like A: suggesting that an answer should come next:\\nQ: Who wrote the book ‘‘The Origin of Species\"? A:\\nIf we ask a language model to compute\\nP ( w | Q: Who wrote the book “The Origin of Species”? A: )\\nand look at which words w have high probabilities, we might expect to see that\\nCharles is very likely, and then if we choose Charles and continue and ask\\nP ( w | Q: Who wrote the book “The Origin of Species”? A: Charles )\\nwe might now see that Darwin is the most probable word, and select it.\\nConditional generation can even be used to accomplish tasks that must generate\\nlonger responses. Consider the task of text summarization , which is to take a long\\ntext\\nsummarization\\ntext, such as a full-length article, and produce an effective shorter summary of it.\\nWe can cast summarization as language modeling by giving a large language model\\na text, and follow the text by a token like tl;dr ; this token is short for something\\nlike ‘too long; don’t read’ and in recent years people often use this token, especially\\nin informal work emails, when they are going to give a short summary. We can\\nthen do conditional generation: give the language model this preﬁx, and then ask\\nEncodersMany varieties!•Popular: Masked Language Models (MLMs)•BERT family•Trained by predicting words from surrounding words on both sides•Are usually fine-tuned (trained on supervised data) for classification tasks.\\nPretraining for three types of architecturesThe neural architecture influences the type of pretraining, and natural use cases.\\n32\\nDecoders• Language models! What we’ve seen so far.• Nice to generate from; can’t condition on future words\\nEncoders• Gets bidirectional context – can condition on future!• How do we train them to build strong representations?\\nEncoder-Decoders• Good parts of decoders and encoders?• What’s the best way to pretrain them?\\nEncoder-Decoders\\n•Trained to map from one sequence to another•Very popular for:•machine translation (map from one language to another)•speech recognition (map from acoustics to words)\\nPretraining for three types of architecturesThe neural architecture influences the type of pretraining, and natural use cases.\\n32\\nDecoders• Language models! What we’ve seen so far.• Nice to generate from; can’t condition on future words\\nEncoders• Gets bidirectional context – can condition on future!• How do we train them to build strong representations?\\nEncoder-Decoders• Good parts of decoders and encoders?• What’s the best way to pretrain them?\\nMany more things I didn\\'t talk aboutInstruction Fine-tuning Preference Alignment Prompt EngineeringWhere to learn these?  CS224N!\\nLarge Language ModelsLarge Language Models: Applying pretrained models to new tasks\\nLarge Language ModelsHarms of Large Language Models\\nHallucination\\nCurrent research direction to address hallucinationRetrieval-Augmented Generation (RAG)Use information retrieval to retrieve some passages from a high-quality sourceThen use a language model to generate an answer from those passages\\nCopyright\\nPrivacy\\nToxicity and Abuse\\nMisinformation\\nVast growth in interest in Ethics of LLMs and AI\\nHAI: AI Index 2023\\nLarge Language ModelsHarms of Large Language Models\\nLarge Language ModelsOur last class together!\\nLearning goalsWrite regular expressions for text tasksApply the edit distance algorithmBuild a supervised classifierBuild a search engineWork with neural word embeddingsTrain a neural networkBuild a recommendation engineBuild a chatbotPrompt a large language model\\nWhat\\'s next? Spring 2024 NLP adjacent coursesCS224N: Natural Language Processing with Deep Learning (Chris Manning)Algorithmic internals: transformers, GPT, parsing, machine translation and other applications. More of the gory details! More math, more machine learningCS224C: NLP for Computational Social Science (Diyi Yang)…machine learning and theories from social science to study human behaviors and important societal questions at scale. NLP , social networks, causal inference, application to social topics like hate speech, misinformation, and social movements.CS 224S: Spoken Language Processing: (Andrew Maas)Introduction to spoken language technology with an emphasis on dialogue and conversational systems.CS 336: Language Modeling from Scratch (Tatsu Hashimoto and Percy Liang)every aspect of language model creation, including data collection and cleansing for pre-training, transformer model construction, model training, and evaluation before deployment. Application required.CS 246: Mining Massive Data Sets (Jure Leskovec)\\n65\\nNext year courses!CS 224V:Conversational Virtual Assistants with Deep Learning (Monica Lam)Topics include: (1) growing LLMs\\' knowledge, (2) stopping LLMs from hallucination (3) experimentation and evaluation of conversational assistants based on LLMs, (5) controlling LLMs to achieve tasks, (6) persuasive LLMs, (7) multilingual assistants, and (8) combining voice and graphical interfaces. CS329X Human Centered NLP)  (Diyi Yang)human-centered design thinking in NLP , human-in-the-loop algorithms, fairness, and accessibility. CS329R Race and NLP (Dan Jurafsky and Jennifer Eberhardt)Integrate methods from natural language processing with social psychological perspectives on race to build practical systems that address significant societal issues66\\nFun courses outside of CSSpring:Linguist 173:  Invented LanguagesLinguist 134A: The Structure of DiscourseLinguist 156: Language, Gender, and SexualityCOMM 154:The Politics of AlgorithmsNext year:Linguistics 150: Language and SocietyLinguistics 130a: Introduction to semantics & pragmatics67']"
      ]
     },
     "execution_count": 11,
     "metadata": {},
     "output_type": "execute_result"
    }
   ],
   "source": [
    "texts"
   ]
  },
  {
   "cell_type": "code",
   "execution_count": 12,
   "id": "462a3aef",
   "metadata": {},
   "outputs": [],
   "source": [
    "from langchain_text_splitters import RecursiveCharacterTextSplitter"
   ]
  },
  {
   "cell_type": "code",
   "execution_count": 13,
   "id": "376b4a68",
   "metadata": {},
   "outputs": [],
   "source": [
    "text_splitter = RecursiveCharacterTextSplitter(chunk_size=100, chunk_overlap=0)"
   ]
  },
  {
   "cell_type": "code",
   "execution_count": 14,
   "id": "ba9c92d8",
   "metadata": {},
   "outputs": [],
   "source": [
    "texts2 = text_splitter.split_text(fullText)"
   ]
  },
  {
   "cell_type": "code",
   "execution_count": 15,
   "id": "973eb0ea",
   "metadata": {},
   "outputs": [
    {
     "data": {
      "text/plain": [
       "['Transformers and Large Language ModelsIntroduction to Large Language Models',\n",
       " 'Language models•Remember the simple n-gram language model•Assigns probabilities to sequences of',\n",
       " 'words•Generate text by sampling possible next words•Is trained on counts computed from lots of',\n",
       " 'text•Large language models are similar and different:•Assigns probabilities to sequences of',\n",
       " 'words•Generate text by sampling possible next words•Are trained by learning to guess the next word',\n",
       " 'Neural Large Language Models (LLMs)•Self-supervised learners•Take a text, remove a word•Use your',\n",
       " 'neural model to guess what the word was•If the model is wrong, use stochastic gradient descent to',\n",
       " 'make the model guess better next time•Advantages (?):•All we need is a lot of text (GPT3: 500',\n",
       " 'billion tokens)•(And a lot of compute)',\n",
       " 'LLMs are built out of transformersTransformer: a specific kind of network architecture, like a',\n",
       " 'fancier feedforward network, but based on attentionProvided proper attribution is provided, Google',\n",
       " 'hereby grants permission to',\n",
       " 'reproduce the tables and ﬁgures in this paper solely for use in journalistic or\\nscholarly works.',\n",
       " 'Attention Is All You Need\\nAshish Vaswani ⇤\\nGoogle Brain\\navaswani@google.com\\nNoam Shazeer ⇤',\n",
       " 'Google Brain\\nnoam@google.com\\nNiki Parmar ⇤\\nGoogle Research\\nnikip@google.com\\nJakob Uszkoreit ⇤',\n",
       " 'Google Research\\nusz@google.com\\nLlion Jones ⇤\\nGoogle Research\\nllion@google.com\\nAidan N. Gomez ⇤ †',\n",
       " 'University of Toronto\\naidan@cs.toronto.edu\\nŁ ukasz Kaiser ⇤\\nGoogle Brain\\nlukaszkaiser@google.com',\n",
       " 'Illia Polosukhin ⇤ ‡\\nillia.polosukhin@gmail.com\\nAbstract',\n",
       " 'The dominant sequence transduction models are based on complex recurrent or',\n",
       " 'convolutional neural networks that include an encoder and a decoder. The best',\n",
       " 'performing models also connect the encoder and decoder through an attention',\n",
       " 'mechanism. We propose a new simple network architecture, the Transformer,',\n",
       " 'based solely on attention mechanisms, dispensing with recurrence and convolutions',\n",
       " 'entirely. Experiments on two machine translation tasks show these models to',\n",
       " 'be superior in quality while being more parallelizable and requiring signiﬁcantly',\n",
       " 'less time to train. Our model achieves 28.4 BLEU on the WMT 2014 English-',\n",
       " 'to-German translation task, improving over the existing best results, including',\n",
       " 'ensembles, by over 2 BLEU. On the WMT 2014 English-to-French translation task,',\n",
       " 'our model establishes a new single-model state-of-the-art BLEU score of 41.8 after',\n",
       " 'training for 3.5 days on eight GPUs, a small fraction of the training costs of the',\n",
       " 'best models from the literature. We show that the Transformer generalizes well to',\n",
       " 'other tasks by applying it successfully to English constituency parsing both with',\n",
       " 'large and limited training data.\\n⇤',\n",
       " 'Equal contribution. Listing order is random. Jakob proposed replacing RNNs with self-attention and',\n",
       " 'started',\n",
       " 'the effort to evaluate this idea. Ashish, with Illia, designed and implemented the ﬁrst Transformer',\n",
       " 'models and',\n",
       " 'has been crucially involved in every aspect of this work. Noam proposed scaled dot-product',\n",
       " 'attention, multi-head',\n",
       " 'attention and the parameter-free position representation and became the other person involved in',\n",
       " 'nearly every',\n",
       " 'detail. Niki designed, implemented, tuned and evaluated countless model variants in our original',\n",
       " 'codebase and',\n",
       " 'tensor2tensor. Llion also experimented with novel model variants, was responsible for our initial',\n",
       " 'codebase, and',\n",
       " 'efﬁcient inference and visualizations. Lukasz and Aidan spent countless long days designing various',\n",
       " 'parts of and',\n",
       " 'implementing tensor2tensor, replacing our earlier codebase, greatly improving results and massively',\n",
       " 'accelerating',\n",
       " 'our research.\\n†\\nWork performed while at Google Brain.\\n‡\\nWork performed while at Google Research.',\n",
       " '31st Conference on Neural Information Processing Systems (NIPS 2017), Long Beach, CA, USA.',\n",
       " 'arXiv:1706.03762v7  [cs.CL]  2 Aug 2023',\n",
       " 'A very approximate timeline1990 Static Word Embeddings2003 Neural Language Model2008 Multi-Task',\n",
       " 'Learning2015 Attention2017 Transformer2018 Contextual Word Embeddings and Pretraining2019 Prompting',\n",
       " 'A picture of a transformer language model\\nInput\\nEmbeddings\\nLayers of\\nTransformer\\nBlocks',\n",
       " 'Softmax over\\nVocabulary\\nSo long and thanks for\\nlong and thanks forOutput all\\n…\\n…\\n…\\nLinear Layer',\n",
       " 'Transformers and Large Language ModelsIntroduction to Large Language Models',\n",
       " 'Transformers and Large Language ModelsAttention\\nInstead of starting with the big picture\\nInput',\n",
       " 'Embeddings\\nLayers of\\nTransformer\\nBlocks\\nSoftmax over\\nVocabulary\\nSo long and thanks for',\n",
       " 'long and thanks forOutput all\\n…\\n…\\n…\\nLinear Layer\\nInput\\nEmbeddings\\nLayers of\\nTransformer\\nBlocks',\n",
       " 'Softmax over\\nVocabulary\\nSo long and thanks for\\nlong and thanks forOutput all\\n…\\n…\\n…\\nLinear Layer',\n",
       " \"Let's consider the embeddings for an individual word from a particular layer\",\n",
       " \"Problem with static embeddings (word2vec)They are static!  The embedding for a word doesn't reflect\",\n",
       " \"how its meaning changes in context.The chicken didn't cross the street because it was too tired\",\n",
       " 'What is the meaning represented in the static embedding for \"it\"?',\n",
       " 'Contextual Embeddings•Intuition: a representation of meaning of a word should be different in',\n",
       " 'different contexts!•Contextual Embedding: each word has a different vector that expresses different',\n",
       " 'meanings depending on the surrounding words•How to compute contextual embeddings?•Attention',\n",
       " \"Contextual EmbeddingsThe chicken didn't cross the street because itWhat should be the properties of\",\n",
       " '\"it\"?The chicken didn\\'t cross the street because it was too tiredThe chicken didn\\'t cross the',\n",
       " 'street because it was too trafficy',\n",
       " \"At this point in the sentence, it's probably referring to either the chicken or the street\",\n",
       " 'Intuition of attentionBuild up the contextual embedding from a word by selectively integrating',\n",
       " 'information from all the neighboring wordsWe say that a word \"attends to\" some neighboring words',\n",
       " 'more than others',\n",
       " 'Intuition of attention: test\\nThe\\nanimal\\ndidn’t\\ncross\\nthe\\nstreet\\nbecause\\nit\\nwas\\ntoo\\ntired\\nThe\\nanimal',\n",
       " 'didn’t\\ncross\\nthe\\nstreet\\nbecause\\nit\\nwas\\ntoo\\ntired\\nLayer 6\\nLayer 5\\nself-attention distribution',\n",
       " 'Attention definitionA mechanism for helping compute the embedding for a token by selectively',\n",
       " 'attending to and integrating information from surrounding tokens (at the previous layer).More',\n",
       " 'formally: a method for doing a weighted sum of vectors.',\n",
       " 'Attention is left-to-right\\nSelf-Attention\\nLayer\\nx 1\\na 1\\nx 2\\na 2 a 3 a 4 a 5\\nx 3 x 4 x 5',\n",
       " 'Simplified version of attention: a sum of prior words weighted by their similarity with the current',\n",
       " 'wordGiven a sequence of token embeddings: x1 x2   x3   x4   x5   xiProduce: ai = a weighted sum of',\n",
       " 'x1 through x5Weighted by their similarity to xi',\n",
       " '10.1 • T HE T RANSFORMER :AS ELF -A TTENTION N ETWORK 5\\nSelf-Attention\\nLayer\\nx\\n1\\na\\n1\\nx\\n2\\na\\n2\\na\\n3\\na',\n",
       " '4\\na\\n5\\nx\\n3\\nx\\n4\\nx\\n5',\n",
       " 'Figure 10.2 Information ﬂow in a causal (or masked) self-attention model. In processing',\n",
       " 'each element of the sequence, the model attends to all the inputs up to, and including, the',\n",
       " 'current one. Unlike RNNs, the computations at each time step are independent of all the',\n",
       " 'other steps and therefore can be performed in parallel.\\n10.1.3 Self-attention more formally',\n",
       " 'We’ve given the intuition of self-attention (as a way to compute representations of a',\n",
       " 'word at a given layer by integrating information from words at the previous layer)',\n",
       " 'and we’ve deﬁned context as all the prior words in the input. Let’s now introduce',\n",
       " 'the self-attention computation itself.',\n",
       " 'The core intuition of attention is the idea of comparing an item of interest to a',\n",
       " 'collection of other items in a way that reveals their relevance in the current context.',\n",
       " 'In the case of self-attention for language, the set of comparisons are to other words',\n",
       " '(or tokens) within a given sequence. The result of these comparisons is then used to',\n",
       " 'compute an output sequence for the current input sequence. For example, returning',\n",
       " 'to Fig. 10.2 , the computation of a 3\\nis based on a set of comparisons between the\\ninput x 3',\n",
       " 'and its preceding elements x 1\\nand x 2\\n, and to x 3\\nitself.',\n",
       " 'How shall we compare words to other words? Since our representations for',\n",
       " 'words are vectors, we’ll make use of our old friend the dot product that we used',\n",
       " 'for computing word similarity in Chapter 6, and also played a role in attention in',\n",
       " 'Chapter 9. Let’s refer to the result of this comparison between words i and j as a',\n",
       " 'score (we’ll be updating this equation to add attention to the computation of this\\nscore):',\n",
       " 'V erson 1: score ( x i\\n, x j\\n)= x i\\n· x j\\n(10.4)',\n",
       " 'The result of a dot product is a scalar value ranging from \\x00 • to • , the larger',\n",
       " 'the value the more similar the vectors that are being compared. Continuing with our',\n",
       " 'example, the ﬁrst step in computing y 3\\nwould be to compute three scores: x 3\\n· x 1\\n,\\nx 3\\n· x 2',\n",
       " 'and x 3\\n· x 3\\n. Then to make effective use of these scores, we’ll normalize them',\n",
       " 'with a softmax to create a vector of weights, a ij\\n, that indicates the proportional',\n",
       " 'relevance of each input to the input element i that is the current focus of attention.\\na ij',\n",
       " '= softmax ( score ( x i\\n, x j\\n)) 8 j \\uf8ff i (10.5)\\n=\\nexp ( score ( x i\\n, x j\\n))\\nP\\ni\\nk = 1',\n",
       " 'exp ( score ( x i\\n, x\\nk\\n))\\n8 j \\uf8ff i (10.6)',\n",
       " 'Of course, the softmax weight will likely be highest for the current focus element\\ni , since vecx i',\n",
       " 'is very similar to itself, resulting in a high dot product. But other',\n",
       " 'context words may also be similar to i , and the softmax will also assign some weight',\n",
       " 'to those words.\\nGiven the proportional scores in a , we generate an output value a i\\nby summing',\n",
       " '10.1 • T HE T RANSFORMER :AS ELF -A TTENTION N ETWORK 5\\nSelf-Attention\\nLayer\\nx 1\\na 1\\nx 2',\n",
       " 'a 2 a 3 a 4 a 5\\nx 3 x 4 x 5',\n",
       " 'Figure 10.2 Information ﬂow in a causal (or masked) self-attention model. In processing',\n",
       " 'each element of the sequence, the model attends to all the inputs up to, and including, the',\n",
       " 'current one. Unlike RNNs, the computations at each time step are independent of all the',\n",
       " 'other steps and therefore can be performed in parallel.\\n10.1.3 Self-attention more formally',\n",
       " 'We’ve given the intuition of self-attention (as a way to compute representations of a',\n",
       " 'word at a given layer by integrating information from words at the previous layer)',\n",
       " 'and we’ve deﬁned context as all the prior words in the input. Let’s now introduce',\n",
       " 'the self-attention computation itself.',\n",
       " 'The core intuition of attention is the idea of comparing an item of interest to a',\n",
       " 'collection of other items in a way that reveals their relevance in the current context.',\n",
       " 'In the case of self-attention for language, the set of comparisons are to other words',\n",
       " '(or tokens) within a given sequence. The result of these comparisons is then used to',\n",
       " 'compute an output sequence for the current input sequence. For example, returning',\n",
       " 'to Fig. 10.2 , the computation of a 3\\nis based on a set of comparisons between the\\ninput x 3',\n",
       " 'and its preceding elements x 1\\nand x 2\\n, and to x 3\\nitself.',\n",
       " 'How shall we compare words to other words? Since our representations for',\n",
       " 'words are vectors, we’ll make use of our old friend the dot product that we used',\n",
       " 'for computing word similarity in Chapter 6, and also played a role in attention in',\n",
       " 'Chapter 9. Let’s refer to the result of this comparison between words i and j as a',\n",
       " 'score (we’ll be updating this equation to add attention to the computation of this\\nscore):',\n",
       " 'V erson 1: score ( x i\\n, x j\\n)= x i\\n· x j\\n(10.4)',\n",
       " 'The result of a dot product is a scalar value ranging from \\x00 • to • , the larger',\n",
       " 'the value the more similar the vectors that are being compared. Continuing with our',\n",
       " 'example, the ﬁrst step in computing y 3\\nwould be to compute three scores: x 3\\n· x 1\\n,\\nx 3\\n· x 2',\n",
       " 'and x 3\\n· x 3\\n. Then to make effective use of these scores, we’ll normalize them',\n",
       " 'with a softmax to create a vector of weights, a ij\\n, that indicates the proportional',\n",
       " 'relevance of each input to the input element i that is the current focus of attention.\\na ij',\n",
       " '= softmax ( score ( x i\\n, x j\\n)) 8 j \\uf8ff i (10.5)\\n=\\nexp ( score ( x i\\n, x j\\n))\\nP\\ni\\nk = 1',\n",
       " 'exp ( score ( x i\\n, x k\\n))\\n8 j \\uf8ff i (10.6)',\n",
       " 'Of course, the softmax weight will likely be highest for the current focus element\\ni , since vecx i',\n",
       " 'is very similar to itself, resulting in a high dot product. But other',\n",
       " 'context words may also be similar to i , and the softmax will also assign some weight',\n",
       " 'to those words.\\nGiven the proportional scores in a , we generate an output value a i\\nby summing',\n",
       " '6 C HAPTER 10 • T RANSFORMERS AND L ARGE L ANGUAGE M ODELS',\n",
       " 'the inputs seen so far, each weighted by its a value.\\na i\\n=\\nX\\nj \\uf8ff i\\na ij\\nx j\\n(10.7)',\n",
       " 'The steps embodied in Equations 10.4 through 10.7 represent the core of an',\n",
       " 'attention-based approach: a set of comparisons to relevant items in some context,',\n",
       " 'a normalization of those scores to provide a probability distribution, followed by a',\n",
       " 'weighted sum using this distribution. The output a is the result of this straightfor-',\n",
       " 'ward computation over the inputs.',\n",
       " 'This kind of simple attention can be useful, and indeed we saw in Chapter 9',\n",
       " 'how to use this simple idea of attention for LSTM-based encoder-decoder models',\n",
       " 'for machine translation. But transformers allow us to create a more sophisticated',\n",
       " 'way of representing how words can contribute to the representation of longer inputs.',\n",
       " 'Consider the three different roles that each input embedding plays during the course',\n",
       " 'of the attention process.',\n",
       " '• As the current focus of attention when being compared to all of the other',\n",
       " 'preceding inputs. We’ll refer to this role as a query .query',\n",
       " '• In its role as a preceding input being compared to the current focus of atten-',\n",
       " 'tion. We’ll refer to this role as a key .key',\n",
       " '• And ﬁnally, as a value used to compute the output for the current focus ofvalue\\nattention.',\n",
       " 'To capture these three different roles, transformers introduce weight matrices\\nW\\nQ\\n, W\\nK\\n, and W\\nV',\n",
       " '. These weights will be used to project each input vector x i\\ninto',\n",
       " 'a representation of its role as a key, query, or value.\\nq i\\n= x i\\nW\\nQ\\n; k i\\n= x i\\nW\\nK\\n; v i\\n= x i\\nW',\n",
       " 'V\\n(10.8)\\nThe inputs x and outputs y of transformers, as well as the intermediate vectors after',\n",
       " 'the various layers like the attention output vector a , all have the same dimensionality',\n",
       " '1 ⇥ d . We’ll have a dimension d k\\nfor the key and query vectors, and a separate\\ndimension d v',\n",
       " 'for the value vectors. In the original transformer work ( Vaswani et al. ,\\n2017 ), d was 512, d k',\n",
       " 'and d v\\nwere both 64. The shapes of the transform matrices are\\nthen W\\nQ\\n2 R\\nd ⇥ d\\nk\\n, W\\nK\\n2 R\\nd ⇥ d',\n",
       " 'k\\n, and W\\nV\\n2 R\\nd ⇥ d v\\n.',\n",
       " 'Given these projections, the score between a current focus of attention, x i\\n, and',\n",
       " 'an element in the preceding context, x j\\n, consists of a dot product between its query\\nvector q i',\n",
       " 'and the preceding element’s key vectors k j\\n. This dot product has the right',\n",
       " 'shape since both the query and the key are of dimensionality 1 ⇥ d k\\n. Let’s update',\n",
       " 'our previous comparison calculation to reﬂect this, replacing Eq. 10.4 with Eq. 10.9 :',\n",
       " 'V erson 2: score ( x i\\n, x j\\n)= q i\\n· k j\\n(10.9)',\n",
       " 'The ensuing softmax calculation resulting in a i , j\\nremains the same, but the output',\n",
       " 'calculation for a i\\nis now based on a weighted sum over the value vectors v .\\na i\\n=\\nX\\nj \\uf8ff i\\na ij',\n",
       " 'v j\\n(10.10)\\nAgain, the softmax weight a ij\\nwill likely be highest for the current focus element',\n",
       " 'i , and so the value for y i\\nwill be most inﬂuenced by v i\\n. But the model will also pay',\n",
       " 'attention to other contextual words if they are similar to i , allowing their values to',\n",
       " 'Intuition of attention: test\\nThe\\nanimal\\ndidn’t\\ncross\\nthe\\nstreet\\nbecause\\nit\\nwas\\ntoo\\ntired\\nThe\\nanimal',\n",
       " 'didn’t\\ncross\\nthe\\nstreet\\nbecause\\nit\\nwas\\ntoo\\ntired\\nLayer 6\\nLayer 5\\nself-attention distribution',\n",
       " 'x1  x2  x3  x4  x5  x6  x7   xi\\nIntuition of attention: test\\nThe\\nanimal\\ndidn’t\\ncross\\nthe\\nstreet',\n",
       " 'because\\nit\\nwas\\ntoo\\ntired\\nThe\\nanimal\\ndidn’t\\ncross\\nthe\\nstreet\\nbecause\\nit\\nwas\\ntoo\\ntired\\nLayer 6',\n",
       " 'Layer 5\\nself-attention distribution\\nx1  x2  x3  x4  x5  x6  x7   xi\\nquery\\nvalues',\n",
       " \"AttentionActually it's slightly more complicated, but I won't get into thatHigh-level idea: instead\",\n",
       " 'of just having a query and a set of values, each embedding actually also has a key',\n",
       " 'Intuition of attention: test\\nThe\\nanimal\\ndidn’t\\ncross\\nthe\\nstreet\\nbecause\\nit\\nwas\\ntoo\\ntired\\nThe\\nanimal',\n",
       " 'didn’t\\ncross\\nthe\\nstreet\\nbecause\\nit\\nwas\\ntoo\\ntired\\nLayer 6\\nLayer 5\\nself-attention distribution',\n",
       " 'x1  x2  x3  x4  x5  x6  x7   xi\\nquery\\nvalueskv kv kv kv kv kv kvkeys',\n",
       " 'SummaryAttention is a method for enriching the representation of a token by incorporating',\n",
       " 'contextual informationThe result: the embedding for each word will be different in different',\n",
       " 'contexts!Contextual embeddings: a representation of word meaning in its context.',\n",
       " 'Transformers and Large Language ModelsAttention',\n",
       " 'Transformers and Large Language ModelsThe rest of the transformer applied to language modeling',\n",
       " \"The transformerAttention is just part of computing embeddings in a transformer.Let's see more of\",\n",
       " 'the mechanism',\n",
       " 'Reminder: transformer language model\\nInput\\nEmbeddings\\nLayers of\\nTransformer\\nBlocks\\nSoftmax over',\n",
       " 'Vocabulary\\nSo long and thanks for\\nlong and thanks forOutput all\\n…\\n…\\n…\\nLinear Layer',\n",
       " 'The residual stream: each token gets passed up and modified\\nLayer Norm\\nxi\\n+\\nhi-1\\nLayer Norm',\n",
       " 'MultiHead\\nAttention\\nFeedforward\\nxi-1 xi+1\\nhi hi+1\\n+ ……',\n",
       " \"We'll need nonlinearities, so a feedforward layer\\nLayer Norm\\nxi\\n+\\nhi-1\\nLayer Norm\\nMultiHead\",\n",
       " 'Attention\\nFeedforward\\nxi-1 xi+1\\nhi hi+1\\n+ ……\\nA transformer is a stack of these blocks\\nLayer Norm\\nxi',\n",
       " '+\\nhi-1\\nLayer Norm\\nMultiHeadAttention\\nFeedforward\\nxi-1 xi+1\\nhi hi+1\\n+ ……\\nLayer Norm\\nxi\\n+\\nhi-1',\n",
       " 'Layer Norm\\nMultiHeadAttention\\nFeedforward\\nxi-1 xi+1\\nhi hi+1\\n+ ……\\nBlock 1\\nBlock 2\\nInputs',\n",
       " 'X = Composite\\nEmbeddings\\n(word + position)\\nTransformer Block\\nJanet\\n1\\nwill\\n2\\nback\\n3',\n",
       " 'Janet will back the bill\\nthe\\n4\\nbill\\n5\\n+\\n+\\n+\\n+\\n+\\nPosition\\nEmbeddings\\nWord\\nEmbeddings',\n",
       " 'Language modeling head\\nLayer L\\nTransformer\\nBlock\\nSoftmax over vocabulary V\\nUnembedding layer\\n…',\n",
       " '1 x |V|\\nLogits \\nWord probabilities\\n1 x |V|\\nhL\\n1\\nw1 w2 wN\\nhL\\n2 hL\\nN\\nd x |V|\\n1 x d\\n   Unembedding',\n",
       " 'layer = ET\\ny1 y2 y|V|…\\nu1 u2 u|V|…\\nLanguage Model Head\\ntakes hL\\nN and outputs a',\n",
       " 'distribution over vocabulary V\\nThe final transformermodel\\nX x1 x2      …      xN',\n",
       " 'Multihead Self-Attention\\nLayer Norm\\nFeedforward\\nLayer Norm\\nLayer 1\\nh1 h2      …     hN',\n",
       " 'Multihead Self-Attention\\nLayer Norm\\nFeedforward\\nLayer Norm\\nLayer 2\\nh1 h2      …     hN',\n",
       " 'Multihead Self-Attention\\nLayer Norm\\nFeedforward\\nLayer Norm\\nLayer  L\\nh1 h2      …     hN\\n…',\n",
       " 'Sample token to generateat position N+1 wN+1\\nw1 w2      …      wNInput tokens',\n",
       " 'P1       P2     …    PN        Add token + position embeddings +\\nLanguage ModelHead',\n",
       " 'Token probabilitiesy1 y2 y|V|…\\nE[w1] E[w2]  … E[wN]',\n",
       " 'Transformers and Large Language ModelsThe rest of the transformer applied to language modeling',\n",
       " 'Large Language ModelsPretraining (and how to train transformers for language modeling)',\n",
       " 'PretrainingThe big idea that underlies all the amazing performance of language modelsFirst pretrain',\n",
       " 'a transformer model on enormous amounts of textThen apply it to new tasks.',\n",
       " 'Intuition of language model trainingWe just train them to predict the next word!1.Take a corpus of',\n",
       " 'text 2.At each time step t i.ask the model to predict the next word ii.train the model using',\n",
       " 'gradient descent to minimize the error in this prediction',\n",
       " 'Intuition of language model training: loss•Same loss function: cross-entropy loss•We want the model',\n",
       " 'to assign a high probability to true word w•= want loss to be high if the model assigns too low a',\n",
       " 'probability to w•CE Loss: The negative log probability that the model assigns to the true next word',\n",
       " 'w•If the model assigns too low a probability to w•We move the model weights in the direction that',\n",
       " 'assigns a higher probability to w',\n",
       " 'Training a transformer language model\\nInput\\nEmbeddings\\nTransformer\\nBlock\\nSoftmax over\\nVocabulary',\n",
       " 'So long and thanks for\\nlong and thanks forNext word all\\n…\\nLoss …\\n…\\n=\\nLinear Layer',\n",
       " 'Pretraining Data: mostly from the web (Common Crawl)The Pile:',\n",
       " 'Figure 1: Treemap of Pile components by effective size.',\n",
       " 'troduce a new ﬁltered subset of Common Crawl,\\nPile-CC, with improved extraction quality.',\n",
       " 'Through our analyses, we conﬁrm that the Pile is\\nsigniﬁcantly distinct from pure Common Crawl',\n",
       " 'data. Additionally, our evaluations show that the\\nexisting GPT-2 and GPT-3 models perform poorly',\n",
       " 'on many components of the Pile, and that models\\ntrained on the Pile signiﬁcantly outperform both',\n",
       " 'raw and ﬁltered Common Crawl models. To com-\\nplement the performance evaluations, we also per-',\n",
       " 'form an exploratory analysis of the text within the',\n",
       " 'Pile to provide a detailed picture of the data. We',\n",
       " 'hope that our extensive documentation of the con-',\n",
       " 'struction and characteristics of the Pile will help',\n",
       " 'researchers make informed decisions about poten-\\ntial downstream applications.',\n",
       " 'Finally, we make publicly available the preprocess-',\n",
       " 'ing code for the constituent datasets of the Pile and',\n",
       " 'the code for constructing alternative versions 2\\n. In',\n",
       " 'the interest of reproducibility, we also document\\nall processing performed on each dataset (and the',\n",
       " 'Pile as a whole) in as much detail as possible. For',\n",
       " 'further details about the processing of each dataset,\\nsee Section 2 and Appendix C .\\n2',\n",
       " 'https://github.com/EleutherAI/\\nthe-pile\\n1.1 Contributions\\nThe core contributions of this paper are:',\n",
       " '1. The introduction of a 825 . 18 GiB english-\\nlanguage dataset for language modeling com-',\n",
       " 'bining 22 diverse sources.\\n2. The introduction of 14 new language model-',\n",
       " 'ing datasets, which we expect to be of inde-\\npendent interest to researchers.',\n",
       " '3. Evaluations demonstrating signiﬁcant im-\\nprovements across many domains by GPT-2-',\n",
       " 'sized models trained on this new dataset, com-\\npared to training on CC-100 and raw Common\\nCrawl.',\n",
       " '4. The investigation and documentation of this\\ndataset, which we hope will better inform re-',\n",
       " 'searchers about how to use it as well as moti-\\nvate them to undertake similar investigations',\n",
       " 'of their own data.\\n2 The Pile Datasets\\nThe Pile is composed of 22 constituent sub-datasets,',\n",
       " 'as shown in Table 1 . Following Brown et al. ( 2020 ),',\n",
       " 'we increase the weights of higher quality compo-\\nnents, with certain high-quality datasets such as',\n",
       " 'Wikipedia being seen up to 3 times (“epochs”) for\\n2',\n",
       " 'What does a model learn from pretraining?•There are canines everywhere! One dog in the front room,',\n",
       " 'and two dogs•It wasn\\'t just big it was enormous•The author of \"A Room of One\\'s Own\" is Virginia',\n",
       " 'Woolf•The doctor told me that he•The square root of 4 is 2',\n",
       " 'Big ideaText contains enormous amounts of knowledgePretraining on lots of text with all that',\n",
       " 'knowledge is what gives language models their ability to do so much',\n",
       " 'Large Language ModelsPretraining (and how to train transformers for language modeling)',\n",
       " 'Large Language ModelsLarge Language Models: Applying pretrained models to new tasks',\n",
       " 'Big ideaMany tasks can be turned into tasks of predicting words!',\n",
       " 'Three architectures for large language models',\n",
       " 'Decoders   Encoders     Encoder-decodersGPT, Claude,  BERT family,  Flan-T5, WhisperLlama 2',\n",
       " 'HuBERTMixtral',\n",
       " 'Pretraining for three types of architecturesThe neural architecture influences the type of',\n",
       " 'pretraining, and natural use cases.',\n",
       " '32',\n",
       " 'Decoders• Language models! What we’ve seen so far.• Nice to generate from; can’t condition on',\n",
       " 'future words',\n",
       " 'Encoders• Gets bidirectional context – can condition on future!• How do we train them to build',\n",
       " 'strong representations?',\n",
       " 'Encoder-Decoders• Good parts of decoders and encoders?• What’s the best way to pretrain them?',\n",
       " 'Pretraining for three types of architecturesThe neural architecture influences the type of',\n",
       " 'pretraining, and natural use cases.',\n",
       " '32',\n",
       " 'Decoders• Language models! What we’ve seen so far.• Nice to generate from; can’t condition on',\n",
       " 'future words',\n",
       " 'Encoders• Gets bidirectional context – can condition on future!• How do we train them to build',\n",
       " 'strong representations?',\n",
       " 'Encoder-Decoders• Good parts of decoders and encoders?• What’s the best way to pretrain them?',\n",
       " 'Pretraining for three types of architecturesThe neural architecture influences the type of',\n",
       " 'pretraining, and natural use cases.',\n",
       " '32',\n",
       " 'Decoders• Language models! What we’ve seen so far.• Nice to generate from; can’t condition on',\n",
       " 'future words',\n",
       " 'Encoders• Gets bidirectional context – can condition on future!• How do we train them to build',\n",
       " 'strong representations?',\n",
       " 'Encoder-Decoders• Good parts of decoders and encoders?• What’s the best way to pretrain them?',\n",
       " 'DecodersAlso called:•Causal LLMs•Autoregressive LLMs•Left-to-right LLMs•Predict words left to right',\n",
       " 'Pretraining for three types of architecturesThe neural architecture influences the type of',\n",
       " 'pretraining, and natural use cases.',\n",
       " '32',\n",
       " 'Decoders• Language models! What we’ve seen so far.• Nice to generate from; can’t condition on',\n",
       " 'future words',\n",
       " 'Encoders• Gets bidirectional context – can condition on future!• How do we train them to build',\n",
       " 'strong representations?',\n",
       " 'Encoder-Decoders• Good parts of decoders and encoders?• What’s the best way to pretrain them?',\n",
       " 'Conditional Generation: Generating text conditioned on previous text!\\nPreﬁx Text\\nCompletion Text',\n",
       " 'Input\\nEmbeddings\\nTransformer\\nBlocks\\nSample from Softmax\\nSo long\\nall\\nand thanks for all\\nthe\\nthe\\n…',\n",
       " 'linear layer',\n",
       " 'Framing lots of tasks as conditional generationSentiment analysis: “I like Jackie Chan”1.We give',\n",
       " 'the language model this string:The sentiment of the sentence \"I like Jackie Chan\" is: 2.And see',\n",
       " 'what word it thinks comes next:',\n",
       " '20 C HAPTER 10 • T RANSFORMERS AND L ARGE L ANGUAGE M ODELS\\nPreﬁx Text\\nCompletion Text\\nInput',\n",
       " 'Embeddings\\nTransformer\\nBlocks\\nSample from Softmax\\nSo long\\nall\\nand thanks for all\\nthe\\nthe\\n…',\n",
       " 'linear layer',\n",
       " 'Figure 10.15 Autoregressive text completion with transformer-based large language models.',\n",
       " 'word “negative” to see which is higher:',\n",
       " 'P ( positive | The sentiment of the sentence “I like Jackie Chan” is: )',\n",
       " 'P ( negative | The sentiment of the sentence “I like Jackie Chan” is: )',\n",
       " 'If the word “positive” is more probable, we say the sentiment of the sentence is',\n",
       " 'positive, otherwise we say the sentiment is negative.',\n",
       " 'We can also cast more complex tasks as word prediction. Consider the task',\n",
       " 'of answering simple questions, a task we return to in Chapter 14. In this task the',\n",
       " 'system is given some question and must give a textual answer. We can cast the task',\n",
       " 'of question answering as word prediction by giving a language model a question and',\n",
       " 'a token like A: suggesting that an answer should come next:',\n",
       " 'Q: Who wrote the book ‘‘The Origin of Species\"? A:\\nIf we ask a language model to compute',\n",
       " 'P ( w | Q: Who wrote the book “The Origin of Species”? A: )',\n",
       " 'and look at which words w have high probabilities, we might expect to see that',\n",
       " 'Charles is very likely, and then if we choose Charles and continue and ask',\n",
       " 'P ( w | Q: Who wrote the book “The Origin of Species”? A: Charles )',\n",
       " 'we might now see that Darwin is the most probable word, and select it.',\n",
       " 'Conditional generation can even be used to accomplish tasks that must generate',\n",
       " 'longer responses. Consider the task of text summarization , which is to take a long\\ntext',\n",
       " 'summarization\\ntext, such as a full-length article, and produce an effective shorter summary of it.',\n",
       " 'We can cast summarization as language modeling by giving a large language model',\n",
       " 'a text, and follow the text by a token like tl;dr ; this token is short for something',\n",
       " 'like ‘too long; don’t read’ and in recent years people often use this token, especially',\n",
       " 'in informal work emails, when they are going to give a short summary. We can',\n",
       " 'then do conditional generation: give the language model this preﬁx, and then ask',\n",
       " 'Framing lots of tasks as conditional generationQA: “Who wrote The Origin of Species”1.We give the',\n",
       " 'language model this string:',\n",
       " '2.And see what word it thinks comes next:',\n",
       " '20 C HAPTER 10 • T RANSFORMERS AND L ARGE L ANGUAGE M ODELS\\nPreﬁx Text\\nCompletion Text\\nInput',\n",
       " 'Embeddings\\nTransformer\\nBlocks\\nSample from Softmax\\nSo long\\nall\\nand thanks for all\\nthe\\nthe\\n…',\n",
       " 'linear layer',\n",
       " 'Figure 10.15 Autoregressive text completion with transformer-based large language models.',\n",
       " 'word “negative” to see which is higher:',\n",
       " 'P ( positive | The sentiment of the sentence “I like Jackie Chan” is: )',\n",
       " 'P ( negative | The sentiment of the sentence “I like Jackie Chan” is: )',\n",
       " 'If the word “positive” is more probable, we say the sentiment of the sentence is',\n",
       " 'positive, otherwise we say the sentiment is negative.',\n",
       " 'We can also cast more complex tasks as word prediction. Consider the task',\n",
       " 'of answering simple questions, a task we return to in Chapter 14. In this task the',\n",
       " 'system is given some question and must give a textual answer. We can cast the task',\n",
       " 'of question answering as word prediction by giving a language model a question and',\n",
       " 'a token like A: suggesting that an answer should come next:',\n",
       " 'Q: Who wrote the book ‘‘The Origin of Species\"? A:\\nIf we ask a language model to compute',\n",
       " 'P ( w | Q: Who wrote the book “The Origin of Species”? A: )',\n",
       " 'and look at which words w have high probabilities, we might expect to see that',\n",
       " 'Charles is very likely, and then if we choose Charles and continue and ask',\n",
       " 'P ( w | Q: Who wrote the book “The Origin of Species”? A: Charles )',\n",
       " 'we might now see that Darwin is the most probable word, and select it.',\n",
       " 'Conditional generation can even be used to accomplish tasks that must generate',\n",
       " 'longer responses. Consider the task of text summarization , which is to take a long\\ntext',\n",
       " 'summarization\\ntext, such as a full-length article, and produce an effective shorter summary of it.',\n",
       " 'We can cast summarization as language modeling by giving a large language model',\n",
       " 'a text, and follow the text by a token like tl;dr ; this token is short for something',\n",
       " 'like ‘too long; don’t read’ and in recent years people often use this token, especially',\n",
       " 'in informal work emails, when they are going to give a short summary. We can',\n",
       " 'then do conditional generation: give the language model this preﬁx, and then ask',\n",
       " '20 C HAPTER 10 • T RANSFORMERS AND L ARGE L ANGUAGE M ODELS\\nPreﬁx Text\\nCompletion Text\\nInput',\n",
       " 'Embeddings\\nTransformer\\nBlocks\\nSample from Softmax\\nSo long\\nall\\nand thanks for all\\nthe\\nthe\\n…',\n",
       " 'linear layer',\n",
       " 'Figure 10.15 Autoregressive text completion with transformer-based large language models.',\n",
       " 'word “negative” to see which is higher:',\n",
       " 'P ( positive | The sentiment of the sentence “I like Jackie Chan” is: )',\n",
       " 'P ( negative | The sentiment of the sentence “I like Jackie Chan” is: )',\n",
       " 'If the word “positive” is more probable, we say the sentiment of the sentence is',\n",
       " 'positive, otherwise we say the sentiment is negative.',\n",
       " 'We can also cast more complex tasks as word prediction. Consider the task',\n",
       " 'of answering simple questions, a task we return to in Chapter 14. In this task the',\n",
       " 'system is given some question and must give a textual answer. We can cast the task',\n",
       " 'of question answering as word prediction by giving a language model a question and',\n",
       " 'a token like A: suggesting that an answer should come next:',\n",
       " 'Q: Who wrote the book ‘‘The Origin of Species\"? A:\\nIf we ask a language model to compute',\n",
       " 'P ( w | Q: Who wrote the book “The Origin of Species”? A: )',\n",
       " 'and look at which words w have high probabilities, we might expect to see that',\n",
       " 'Charles is very likely, and then if we choose Charles and continue and ask',\n",
       " 'P ( w | Q: Who wrote the book “The Origin of Species”? A: Charles )',\n",
       " 'we might now see that Darwin is the most probable word, and select it.',\n",
       " 'Conditional generation can even be used to accomplish tasks that must generate',\n",
       " 'longer responses. Consider the task of text summarization , which is to take a long\\ntext',\n",
       " 'summarization\\ntext, such as a full-length article, and produce an effective shorter summary of it.',\n",
       " 'We can cast summarization as language modeling by giving a large language model',\n",
       " 'a text, and follow the text by a token like tl;dr ; this token is short for something',\n",
       " 'like ‘too long; don’t read’ and in recent years people often use this token, especially',\n",
       " 'in informal work emails, when they are going to give a short summary. We can',\n",
       " 'then do conditional generation: give the language model this preﬁx, and then ask',\n",
       " 'EncodersMany varieties!•Popular: Masked Language Models (MLMs)•BERT family•Trained by predicting',\n",
       " 'words from surrounding words on both sides•Are usually fine-tuned (trained on supervised data) for',\n",
       " 'classification tasks.',\n",
       " 'Pretraining for three types of architecturesThe neural architecture influences the type of',\n",
       " 'pretraining, and natural use cases.',\n",
       " '32',\n",
       " 'Decoders• Language models! What we’ve seen so far.• Nice to generate from; can’t condition on',\n",
       " 'future words',\n",
       " 'Encoders• Gets bidirectional context – can condition on future!• How do we train them to build',\n",
       " 'strong representations?',\n",
       " 'Encoder-Decoders• Good parts of decoders and encoders?• What’s the best way to pretrain them?',\n",
       " 'Encoder-Decoders',\n",
       " '•Trained to map from one sequence to another•Very popular for:•machine translation (map from one',\n",
       " 'language to another)•speech recognition (map from acoustics to words)',\n",
       " 'Pretraining for three types of architecturesThe neural architecture influences the type of',\n",
       " 'pretraining, and natural use cases.',\n",
       " '32',\n",
       " 'Decoders• Language models! What we’ve seen so far.• Nice to generate from; can’t condition on',\n",
       " 'future words',\n",
       " 'Encoders• Gets bidirectional context – can condition on future!• How do we train them to build',\n",
       " 'strong representations?',\n",
       " 'Encoder-Decoders• Good parts of decoders and encoders?• What’s the best way to pretrain them?',\n",
       " \"Many more things I didn't talk aboutInstruction Fine-tuning Preference Alignment Prompt\",\n",
       " 'EngineeringWhere to learn these?  CS224N!',\n",
       " 'Large Language ModelsLarge Language Models: Applying pretrained models to new tasks',\n",
       " 'Large Language ModelsHarms of Large Language Models\\nHallucination',\n",
       " 'Current research direction to address hallucinationRetrieval-Augmented Generation (RAG)Use',\n",
       " 'information retrieval to retrieve some passages from a high-quality sourceThen use a language model',\n",
       " 'to generate an answer from those passages',\n",
       " 'Copyright\\nPrivacy\\nToxicity and Abuse\\nMisinformation',\n",
       " 'Vast growth in interest in Ethics of LLMs and AI\\nHAI: AI Index 2023',\n",
       " 'Large Language ModelsHarms of Large Language Models\\nLarge Language ModelsOur last class together!',\n",
       " 'Learning goalsWrite regular expressions for text tasksApply the edit distance algorithmBuild a',\n",
       " 'supervised classifierBuild a search engineWork with neural word embeddingsTrain a neural',\n",
       " 'networkBuild a recommendation engineBuild a chatbotPrompt a large language model',\n",
       " \"What's next? Spring 2024 NLP adjacent coursesCS224N: Natural Language Processing with Deep Learning\",\n",
       " '(Chris Manning)Algorithmic internals: transformers, GPT, parsing, machine translation and other',\n",
       " 'applications. More of the gory details! More math, more machine learningCS224C: NLP for',\n",
       " 'Computational Social Science (Diyi Yang)…machine learning and theories from social science to study',\n",
       " 'human behaviors and important societal questions at scale. NLP , social networks, causal inference,',\n",
       " 'application to social topics like hate speech, misinformation, and social movements.CS 224S: Spoken',\n",
       " 'Language Processing: (Andrew Maas)Introduction to spoken language technology with an emphasis on',\n",
       " 'dialogue and conversational systems.CS 336: Language Modeling from Scratch (Tatsu Hashimoto and',\n",
       " 'Percy Liang)every aspect of language model creation, including data collection and cleansing for',\n",
       " 'pre-training, transformer model construction, model training, and evaluation before deployment.',\n",
       " 'Application required.CS 246: Mining Massive Data Sets (Jure Leskovec)',\n",
       " '65',\n",
       " 'Next year courses!CS 224V:Conversational Virtual Assistants with Deep Learning (Monica Lam)Topics',\n",
       " \"include: (1) growing LLMs' knowledge, (2) stopping LLMs from hallucination (3) experimentation and\",\n",
       " 'evaluation of conversational assistants based on LLMs, (5) controlling LLMs to achieve tasks, (6)',\n",
       " 'persuasive LLMs, (7) multilingual assistants, and (8) combining voice and graphical interfaces.',\n",
       " 'CS329X Human Centered NLP)  (Diyi Yang)human-centered design thinking in NLP , human-in-the-loop',\n",
       " 'algorithms, fairness, and accessibility. CS329R Race and NLP (Dan Jurafsky and Jennifer',\n",
       " 'Eberhardt)Integrate methods from natural language processing with social psychological perspectives',\n",
       " 'on race to build practical systems that address significant societal issues66',\n",
       " 'Fun courses outside of CSSpring:Linguist 173:  Invented LanguagesLinguist 134A: The Structure of',\n",
       " 'DiscourseLinguist 156: Language, Gender, and SexualityCOMM 154:The Politics of AlgorithmsNext',\n",
       " 'year:Linguistics 150: Language and SocietyLinguistics 130a: Introduction to semantics &',\n",
       " 'pragmatics67']"
      ]
     },
     "execution_count": 15,
     "metadata": {},
     "output_type": "execute_result"
    }
   ],
   "source": [
    "texts2"
   ]
  },
  {
   "cell_type": "code",
   "execution_count": 16,
   "id": "98cbfc40",
   "metadata": {},
   "outputs": [
    {
     "name": "stdout",
     "output_type": "stream",
     "text": [
      "Requirement already satisfied: langchain in /Library/Frameworks/Python.framework/Versions/3.11/lib/python3.11/site-packages (0.3.27)\n",
      "Collecting openai\n",
      "  Obtaining dependency information for openai from https://files.pythonhosted.org/packages/16/1d/58ad0084451f64a9193de48c0afd63047682ffdedb6ae1d494a203e03fd5/openai-1.107.3-py3-none-any.whl.metadata\n",
      "  Downloading openai-1.107.3-py3-none-any.whl.metadata (29 kB)\n",
      "Collecting sentence-transformers\n",
      "  Obtaining dependency information for sentence-transformers from https://files.pythonhosted.org/packages/6d/70/2b5b76e98191ec3b8b0d1dde52d00ddcc3806799149a9ce987b0d2d31015/sentence_transformers-5.1.0-py3-none-any.whl.metadata\n",
      "  Downloading sentence_transformers-5.1.0-py3-none-any.whl.metadata (16 kB)\n",
      "Requirement already satisfied: langchain-core<1.0.0,>=0.3.72 in /Library/Frameworks/Python.framework/Versions/3.11/lib/python3.11/site-packages (from langchain) (0.3.76)\n",
      "Requirement already satisfied: langchain-text-splitters<1.0.0,>=0.3.9 in /Library/Frameworks/Python.framework/Versions/3.11/lib/python3.11/site-packages (from langchain) (0.3.11)\n",
      "Requirement already satisfied: langsmith>=0.1.17 in /Library/Frameworks/Python.framework/Versions/3.11/lib/python3.11/site-packages (from langchain) (0.4.28)\n",
      "Requirement already satisfied: pydantic<3.0.0,>=2.7.4 in /Library/Frameworks/Python.framework/Versions/3.11/lib/python3.11/site-packages (from langchain) (2.11.9)\n",
      "Requirement already satisfied: SQLAlchemy<3,>=1.4 in /Library/Frameworks/Python.framework/Versions/3.11/lib/python3.11/site-packages (from langchain) (2.0.43)\n",
      "Requirement already satisfied: requests<3,>=2 in /Library/Frameworks/Python.framework/Versions/3.11/lib/python3.11/site-packages (from langchain) (2.32.5)\n",
      "Requirement already satisfied: PyYAML>=5.3 in /Library/Frameworks/Python.framework/Versions/3.11/lib/python3.11/site-packages (from langchain) (6.0.2)\n",
      "Requirement already satisfied: anyio<5,>=3.5.0 in /Library/Frameworks/Python.framework/Versions/3.11/lib/python3.11/site-packages (from openai) (4.10.0)\n",
      "Collecting distro<2,>=1.7.0 (from openai)\n",
      "  Obtaining dependency information for distro<2,>=1.7.0 from https://files.pythonhosted.org/packages/12/b3/231ffd4ab1fc9d679809f356cebee130ac7daa00d6d6f3206dd4fd137e9e/distro-1.9.0-py3-none-any.whl.metadata\n",
      "  Downloading distro-1.9.0-py3-none-any.whl.metadata (6.8 kB)\n",
      "Requirement already satisfied: httpx<1,>=0.23.0 in /Library/Frameworks/Python.framework/Versions/3.11/lib/python3.11/site-packages (from openai) (0.28.1)\n",
      "Collecting jiter<1,>=0.4.0 (from openai)\n",
      "  Obtaining dependency information for jiter<1,>=0.4.0 from https://files.pythonhosted.org/packages/bd/d5/a6aba9e6551f32f9c127184f398208e4eddb96c59ac065c8a92056089d28/jiter-0.11.0-cp311-cp311-macosx_11_0_arm64.whl.metadata\n",
      "  Downloading jiter-0.11.0-cp311-cp311-macosx_11_0_arm64.whl.metadata (5.2 kB)\n",
      "Requirement already satisfied: sniffio in /Library/Frameworks/Python.framework/Versions/3.11/lib/python3.11/site-packages (from openai) (1.3.1)\n",
      "Collecting tqdm>4 (from openai)\n",
      "  Obtaining dependency information for tqdm>4 from https://files.pythonhosted.org/packages/d0/30/dc54f88dd4a2b5dc8a0279bdd7270e735851848b762aeb1c1184ed1f6b14/tqdm-4.67.1-py3-none-any.whl.metadata\n",
      "  Downloading tqdm-4.67.1-py3-none-any.whl.metadata (57 kB)\n",
      "\u001b[2K     \u001b[90m━━━━━━━━━━━━━━━━━━━━━━━━━━━━━━━━━━━━━━━━\u001b[0m \u001b[32m57.7/57.7 kB\u001b[0m \u001b[31m2.0 MB/s\u001b[0m eta \u001b[36m0:00:00\u001b[0m\n",
      "\u001b[?25hRequirement already satisfied: typing-extensions<5,>=4.11 in /Users/rvignesh-19772/Library/Python/3.11/lib/python/site-packages (from openai) (4.15.0)\n",
      "Collecting transformers<5.0.0,>=4.41.0 (from sentence-transformers)\n",
      "  Obtaining dependency information for transformers<5.0.0,>=4.41.0 from https://files.pythonhosted.org/packages/71/7c/283c3dd35e00e22a7803a0b2a65251347b745474a82399be058bde1c9f15/transformers-4.56.1-py3-none-any.whl.metadata\n",
      "  Downloading transformers-4.56.1-py3-none-any.whl.metadata (42 kB)\n",
      "\u001b[2K     \u001b[90m━━━━━━━━━━━━━━━━━━━━━━━━━━━━━━━━━━━━━━━━\u001b[0m \u001b[32m42.2/42.2 kB\u001b[0m \u001b[31m1.5 MB/s\u001b[0m eta \u001b[36m0:00:00\u001b[0m\n",
      "\u001b[?25hCollecting torch>=1.11.0 (from sentence-transformers)\n",
      "  Obtaining dependency information for torch>=1.11.0 from https://files.pythonhosted.org/packages/a4/5e/05a5c46085d9b97e928f3f037081d3d2b87fb4b4195030fc099aaec5effc/torch-2.8.0-cp311-none-macosx_11_0_arm64.whl.metadata\n",
      "  Downloading torch-2.8.0-cp311-none-macosx_11_0_arm64.whl.metadata (30 kB)\n",
      "Collecting scikit-learn (from sentence-transformers)\n",
      "  Obtaining dependency information for scikit-learn from https://files.pythonhosted.org/packages/18/d6/ba863a4171ac9d7314c4d3fc251f015704a2caeee41ced89f321c049ed83/scikit_learn-1.7.2-cp311-cp311-macosx_12_0_arm64.whl.metadata\n",
      "  Downloading scikit_learn-1.7.2-cp311-cp311-macosx_12_0_arm64.whl.metadata (11 kB)\n",
      "Collecting scipy (from sentence-transformers)\n",
      "  Obtaining dependency information for scipy from https://files.pythonhosted.org/packages/80/d1/eed51ab64d227fe60229a2d57fb60ca5898cfa50ba27d4f573e9e5f0b430/scipy-1.16.2-cp311-cp311-macosx_14_0_arm64.whl.metadata\n",
      "  Downloading scipy-1.16.2-cp311-cp311-macosx_14_0_arm64.whl.metadata (62 kB)\n",
      "\u001b[2K     \u001b[90m━━━━━━━━━━━━━━━━━━━━━━━━━━━━━━━━━━━━━━━━\u001b[0m \u001b[32m62.0/62.0 kB\u001b[0m \u001b[31m2.0 MB/s\u001b[0m eta \u001b[36m0:00:00\u001b[0m\n",
      "\u001b[?25hCollecting huggingface-hub>=0.20.0 (from sentence-transformers)\n",
      "  Obtaining dependency information for huggingface-hub>=0.20.0 from https://files.pythonhosted.org/packages/fe/85/a18508becfa01f1e4351b5e18651b06d210dbd96debccd48a452acccb901/huggingface_hub-0.35.0-py3-none-any.whl.metadata\n",
      "  Downloading huggingface_hub-0.35.0-py3-none-any.whl.metadata (14 kB)\n",
      "Collecting Pillow (from sentence-transformers)\n",
      "  Obtaining dependency information for Pillow from https://files.pythonhosted.org/packages/cb/39/ee475903197ce709322a17a866892efb560f57900d9af2e55f86db51b0a5/pillow-11.3.0-cp311-cp311-macosx_11_0_arm64.whl.metadata\n",
      "  Downloading pillow-11.3.0-cp311-cp311-macosx_11_0_arm64.whl.metadata (9.0 kB)\n",
      "Requirement already satisfied: idna>=2.8 in /Library/Frameworks/Python.framework/Versions/3.11/lib/python3.11/site-packages (from anyio<5,>=3.5.0->openai) (3.4)\n",
      "Requirement already satisfied: certifi in /Library/Frameworks/Python.framework/Versions/3.11/lib/python3.11/site-packages (from httpx<1,>=0.23.0->openai) (2025.8.3)\n",
      "Requirement already satisfied: httpcore==1.* in /Library/Frameworks/Python.framework/Versions/3.11/lib/python3.11/site-packages (from httpx<1,>=0.23.0->openai) (1.0.9)\n",
      "Requirement already satisfied: h11>=0.16 in /Library/Frameworks/Python.framework/Versions/3.11/lib/python3.11/site-packages (from httpcore==1.*->httpx<1,>=0.23.0->openai) (0.16.0)\n",
      "Collecting filelock (from huggingface-hub>=0.20.0->sentence-transformers)\n",
      "  Obtaining dependency information for filelock from https://files.pythonhosted.org/packages/42/14/42b2651a2f46b022ccd948bca9f2d5af0fd8929c4eec235b8d6d844fbe67/filelock-3.19.1-py3-none-any.whl.metadata\n",
      "  Downloading filelock-3.19.1-py3-none-any.whl.metadata (2.1 kB)\n",
      "Collecting fsspec>=2023.5.0 (from huggingface-hub>=0.20.0->sentence-transformers)\n",
      "  Obtaining dependency information for fsspec>=2023.5.0 from https://files.pythonhosted.org/packages/47/71/70db47e4f6ce3e5c37a607355f80da8860a33226be640226ac52cb05ef2e/fsspec-2025.9.0-py3-none-any.whl.metadata\n",
      "  Downloading fsspec-2025.9.0-py3-none-any.whl.metadata (10 kB)\n",
      "Requirement already satisfied: packaging>=20.9 in /Users/rvignesh-19772/Library/Python/3.11/lib/python/site-packages (from huggingface-hub>=0.20.0->sentence-transformers) (25.0)\n",
      "Collecting hf-xet<2.0.0,>=1.1.3 (from huggingface-hub>=0.20.0->sentence-transformers)\n",
      "  Obtaining dependency information for hf-xet<2.0.0,>=1.1.3 from https://files.pythonhosted.org/packages/31/f9/6215f948ac8f17566ee27af6430ea72045e0418ce757260248b483f4183b/hf_xet-1.1.10-cp37-abi3-macosx_11_0_arm64.whl.metadata\n",
      "  Downloading hf_xet-1.1.10-cp37-abi3-macosx_11_0_arm64.whl.metadata (4.7 kB)\n",
      "Requirement already satisfied: tenacity!=8.4.0,<10.0.0,>=8.1.0 in /Library/Frameworks/Python.framework/Versions/3.11/lib/python3.11/site-packages (from langchain-core<1.0.0,>=0.3.72->langchain) (9.1.2)\n",
      "Requirement already satisfied: jsonpatch<2.0,>=1.33 in /Library/Frameworks/Python.framework/Versions/3.11/lib/python3.11/site-packages (from langchain-core<1.0.0,>=0.3.72->langchain) (1.33)\n",
      "Requirement already satisfied: orjson>=3.9.14 in /Library/Frameworks/Python.framework/Versions/3.11/lib/python3.11/site-packages (from langsmith>=0.1.17->langchain) (3.11.3)\n",
      "Requirement already satisfied: requests-toolbelt>=1.0.0 in /Library/Frameworks/Python.framework/Versions/3.11/lib/python3.11/site-packages (from langsmith>=0.1.17->langchain) (1.0.0)\n",
      "Requirement already satisfied: zstandard>=0.23.0 in /Library/Frameworks/Python.framework/Versions/3.11/lib/python3.11/site-packages (from langsmith>=0.1.17->langchain) (0.25.0)\n",
      "Requirement already satisfied: annotated-types>=0.6.0 in /Library/Frameworks/Python.framework/Versions/3.11/lib/python3.11/site-packages (from pydantic<3.0.0,>=2.7.4->langchain) (0.7.0)\n",
      "Requirement already satisfied: pydantic-core==2.33.2 in /Library/Frameworks/Python.framework/Versions/3.11/lib/python3.11/site-packages (from pydantic<3.0.0,>=2.7.4->langchain) (2.33.2)\n",
      "Requirement already satisfied: typing-inspection>=0.4.0 in /Library/Frameworks/Python.framework/Versions/3.11/lib/python3.11/site-packages (from pydantic<3.0.0,>=2.7.4->langchain) (0.4.1)\n",
      "Requirement already satisfied: charset_normalizer<4,>=2 in /Library/Frameworks/Python.framework/Versions/3.11/lib/python3.11/site-packages (from requests<3,>=2->langchain) (3.2.0)\n",
      "Requirement already satisfied: urllib3<3,>=1.21.1 in /Library/Frameworks/Python.framework/Versions/3.11/lib/python3.11/site-packages (from requests<3,>=2->langchain) (2.0.5)\n",
      "Collecting sympy>=1.13.3 (from torch>=1.11.0->sentence-transformers)\n",
      "  Obtaining dependency information for sympy>=1.13.3 from https://files.pythonhosted.org/packages/a2/09/77d55d46fd61b4a135c444fc97158ef34a095e5681d0a6c10b75bf356191/sympy-1.14.0-py3-none-any.whl.metadata\n",
      "  Downloading sympy-1.14.0-py3-none-any.whl.metadata (12 kB)\n",
      "Collecting networkx (from torch>=1.11.0->sentence-transformers)\n",
      "  Obtaining dependency information for networkx from https://files.pythonhosted.org/packages/eb/8d/776adee7bbf76365fdd7f2552710282c79a4ead5d2a46408c9043a2b70ba/networkx-3.5-py3-none-any.whl.metadata\n",
      "  Downloading networkx-3.5-py3-none-any.whl.metadata (6.3 kB)\n",
      "Collecting jinja2 (from torch>=1.11.0->sentence-transformers)\n",
      "  Obtaining dependency information for jinja2 from https://files.pythonhosted.org/packages/62/a1/3d680cbfd5f4b8f15abc1d571870c5fc3e594bb582bc3b64ea099db13e56/jinja2-3.1.6-py3-none-any.whl.metadata\n",
      "  Downloading jinja2-3.1.6-py3-none-any.whl.metadata (2.9 kB)\n",
      "Requirement already satisfied: numpy>=1.17 in /Library/Frameworks/Python.framework/Versions/3.11/lib/python3.11/site-packages (from transformers<5.0.0,>=4.41.0->sentence-transformers) (2.3.3)\n",
      "Requirement already satisfied: regex!=2019.12.17 in /Library/Frameworks/Python.framework/Versions/3.11/lib/python3.11/site-packages (from transformers<5.0.0,>=4.41.0->sentence-transformers) (2025.9.1)\n",
      "Collecting tokenizers<=0.23.0,>=0.22.0 (from transformers<5.0.0,>=4.41.0->sentence-transformers)\n",
      "  Obtaining dependency information for tokenizers<=0.23.0,>=0.22.0 from https://files.pythonhosted.org/packages/c2/02/c3c454b641bd7c4f79e4464accfae9e7dfc913a777d2e561e168ae060362/tokenizers-0.22.0-cp39-abi3-macosx_11_0_arm64.whl.metadata\n",
      "  Downloading tokenizers-0.22.0-cp39-abi3-macosx_11_0_arm64.whl.metadata (6.8 kB)\n",
      "Collecting safetensors>=0.4.3 (from transformers<5.0.0,>=4.41.0->sentence-transformers)\n",
      "  Obtaining dependency information for safetensors>=0.4.3 from https://files.pythonhosted.org/packages/8c/c9/bb114c158540ee17907ec470d01980957fdaf87b4aa07914c24eba87b9c6/safetensors-0.6.2-cp38-abi3-macosx_11_0_arm64.whl.metadata\n",
      "  Downloading safetensors-0.6.2-cp38-abi3-macosx_11_0_arm64.whl.metadata (4.1 kB)\n",
      "Collecting joblib>=1.2.0 (from scikit-learn->sentence-transformers)\n",
      "  Obtaining dependency information for joblib>=1.2.0 from https://files.pythonhosted.org/packages/1e/e8/685f47e0d754320684db4425a0967f7d3fa70126bffd76110b7009a0090f/joblib-1.5.2-py3-none-any.whl.metadata\n",
      "  Downloading joblib-1.5.2-py3-none-any.whl.metadata (5.6 kB)\n",
      "Collecting threadpoolctl>=3.1.0 (from scikit-learn->sentence-transformers)\n",
      "  Obtaining dependency information for threadpoolctl>=3.1.0 from https://files.pythonhosted.org/packages/32/d5/f9a850d79b0851d1d4ef6456097579a9005b31fea68726a4ae5f2d82ddd9/threadpoolctl-3.6.0-py3-none-any.whl.metadata\n",
      "  Downloading threadpoolctl-3.6.0-py3-none-any.whl.metadata (13 kB)\n",
      "Requirement already satisfied: jsonpointer>=1.9 in /Library/Frameworks/Python.framework/Versions/3.11/lib/python3.11/site-packages (from jsonpatch<2.0,>=1.33->langchain-core<1.0.0,>=0.3.72->langchain) (3.0.0)\n",
      "Collecting mpmath<1.4,>=1.1.0 (from sympy>=1.13.3->torch>=1.11.0->sentence-transformers)\n",
      "  Obtaining dependency information for mpmath<1.4,>=1.1.0 from https://files.pythonhosted.org/packages/43/e3/7d92a15f894aa0c9c4b49b8ee9ac9850d6e63b03c9c32c0367a13ae62209/mpmath-1.3.0-py3-none-any.whl.metadata\n",
      "  Downloading mpmath-1.3.0-py3-none-any.whl.metadata (8.6 kB)\n",
      "Collecting MarkupSafe>=2.0 (from jinja2->torch>=1.11.0->sentence-transformers)\n",
      "  Obtaining dependency information for MarkupSafe>=2.0 from https://files.pythonhosted.org/packages/6c/30/316d194b093cde57d448a4c3209f22e3046c5bb2fb0820b118292b334be7/MarkupSafe-3.0.2-cp311-cp311-macosx_11_0_arm64.whl.metadata\n",
      "  Downloading MarkupSafe-3.0.2-cp311-cp311-macosx_11_0_arm64.whl.metadata (4.0 kB)\n",
      "Downloading openai-1.107.3-py3-none-any.whl (947 kB)\n",
      "\u001b[2K   \u001b[90m━━━━━━━━━━━━━━━━━━━━━━━━━━━━━━━━━━━━━━━━\u001b[0m \u001b[32m947.6/947.6 kB\u001b[0m \u001b[31m1.9 MB/s\u001b[0m eta \u001b[36m0:00:00\u001b[0m00:01\u001b[0m00:01\u001b[0m\n",
      "\u001b[?25hDownloading sentence_transformers-5.1.0-py3-none-any.whl (483 kB)\n",
      "\u001b[2K   \u001b[90m━━━━━━━━━━━━━━━━━━━━━━━━━━━━━━━━━━━━━━━━\u001b[0m \u001b[32m483.4/483.4 kB\u001b[0m \u001b[31m2.0 MB/s\u001b[0m eta \u001b[36m0:00:00\u001b[0ma \u001b[36m0:00:01\u001b[0m\n",
      "\u001b[?25hDownloading distro-1.9.0-py3-none-any.whl (20 kB)\n",
      "Downloading huggingface_hub-0.35.0-py3-none-any.whl (563 kB)\n",
      "\u001b[2K   \u001b[90m━━━━━━━━━━━━━━━━━━━━━━━━━━━━━━━━━━━━━━━━\u001b[0m \u001b[32m563.4/563.4 kB\u001b[0m \u001b[31m1.9 MB/s\u001b[0m eta \u001b[36m0:00:00\u001b[0ma \u001b[36m0:00:01\u001b[0m\n",
      "\u001b[?25hDownloading jiter-0.11.0-cp311-cp311-macosx_11_0_arm64.whl (317 kB)\n",
      "\u001b[2K   \u001b[90m━━━━━━━━━━━━━━━━━━━━━━━━━━━━━━━━━━━━━━━━\u001b[0m \u001b[32m317.7/317.7 kB\u001b[0m \u001b[31m1.7 MB/s\u001b[0m eta \u001b[36m0:00:00\u001b[0ma \u001b[36m0:00:01\u001b[0m\n",
      "\u001b[?25hDownloading torch-2.8.0-cp311-none-macosx_11_0_arm64.whl (73.6 MB)\n",
      "\u001b[2K   \u001b[90m━━━━━━━━━━━━━━━━━━━━━━━━━━━━━━━━━━━━━━━━\u001b[0m \u001b[32m73.6/73.6 MB\u001b[0m \u001b[31m3.6 MB/s\u001b[0m eta \u001b[36m0:00:00\u001b[0m00:01\u001b[0m00:01\u001b[0m\n",
      "\u001b[?25hUsing cached tqdm-4.67.1-py3-none-any.whl (78 kB)\n",
      "Using cached transformers-4.56.1-py3-none-any.whl (11.6 MB)\n",
      "Using cached pillow-11.3.0-cp311-cp311-macosx_11_0_arm64.whl (4.7 MB)\n",
      "Downloading scikit_learn-1.7.2-cp311-cp311-macosx_12_0_arm64.whl (8.6 MB)\n",
      "\u001b[2K   \u001b[90m━━━━━━━━━━━━━━━━━━━━━━━━━━━━━━━━━━━━━━━━\u001b[0m \u001b[32m8.6/8.6 MB\u001b[0m \u001b[31m3.7 MB/s\u001b[0m eta \u001b[36m0:00:00\u001b[0m00:01\u001b[0m00:01\u001b[0m\n",
      "\u001b[?25hDownloading scipy-1.16.2-cp311-cp311-macosx_14_0_arm64.whl (20.9 MB)\n",
      "\u001b[2K   \u001b[90m━━━━━━━━━━━━━━━━━━━━━━━━━━━━━━━━━━━━━━━━\u001b[0m \u001b[32m20.9/20.9 MB\u001b[0m \u001b[31m3.3 MB/s\u001b[0m eta \u001b[36m0:00:00\u001b[0m00:01\u001b[0m00:01\u001b[0m\n",
      "\u001b[?25hUsing cached fsspec-2025.9.0-py3-none-any.whl (199 kB)\n",
      "Downloading hf_xet-1.1.10-cp37-abi3-macosx_11_0_arm64.whl (2.6 MB)\n",
      "\u001b[2K   \u001b[90m━━━━━━━━━━━━━━━━━━━━━━━━━━━━━━━━━━━━━━━━\u001b[0m \u001b[32m2.6/2.6 MB\u001b[0m \u001b[31m3.6 MB/s\u001b[0m eta \u001b[36m0:00:00\u001b[0m00:01\u001b[0m00:01\u001b[0m\n",
      "\u001b[?25hDownloading joblib-1.5.2-py3-none-any.whl (308 kB)\n",
      "\u001b[2K   \u001b[90m━━━━━━━━━━━━━━━━━━━━━━━━━━━━━━━━━━━━━━━━\u001b[0m \u001b[32m308.4/308.4 kB\u001b[0m \u001b[31m6.3 MB/s\u001b[0m eta \u001b[36m0:00:00\u001b[0ma \u001b[36m0:00:01\u001b[0m\n",
      "\u001b[?25hUsing cached safetensors-0.6.2-cp38-abi3-macosx_11_0_arm64.whl (432 kB)\n",
      "Downloading sympy-1.14.0-py3-none-any.whl (6.3 MB)\n",
      "\u001b[2K   \u001b[90m━━━━━━━━━━━━━━━━━━━━━━━━━━━━━━━━━━━━━━━━\u001b[0m \u001b[32m6.3/6.3 MB\u001b[0m \u001b[31m3.6 MB/s\u001b[0m eta \u001b[36m0:00:00\u001b[0m00:01\u001b[0m00:01\u001b[0mm\n",
      "\u001b[?25hDownloading threadpoolctl-3.6.0-py3-none-any.whl (18 kB)\n",
      "Using cached tokenizers-0.22.0-cp39-abi3-macosx_11_0_arm64.whl (2.9 MB)\n",
      "Using cached filelock-3.19.1-py3-none-any.whl (15 kB)\n",
      "Using cached jinja2-3.1.6-py3-none-any.whl (134 kB)\n",
      "Downloading networkx-3.5-py3-none-any.whl (2.0 MB)\n",
      "\u001b[2K   \u001b[90m━━━━━━━━━━━━━━━━━━━━━━━━━━━━━━━━━━━━━━━━\u001b[0m \u001b[32m2.0/2.0 MB\u001b[0m \u001b[31m4.4 MB/s\u001b[0m eta \u001b[36m0:00:00\u001b[0m00:01\u001b[0m00:01\u001b[0m\n",
      "\u001b[?25hUsing cached MarkupSafe-3.0.2-cp311-cp311-macosx_11_0_arm64.whl (12 kB)\n",
      "Downloading mpmath-1.3.0-py3-none-any.whl (536 kB)\n",
      "\u001b[2K   \u001b[90m━━━━━━━━━━━━━━━━━━━━━━━━━━━━━━━━━━━━━━━━\u001b[0m \u001b[32m536.2/536.2 kB\u001b[0m \u001b[31m5.7 MB/s\u001b[0m eta \u001b[36m0:00:00\u001b[0ma \u001b[36m0:00:01\u001b[0m\n",
      "\u001b[?25hInstalling collected packages: mpmath, tqdm, threadpoolctl, sympy, scipy, safetensors, Pillow, networkx, MarkupSafe, joblib, jiter, hf-xet, fsspec, filelock, distro, scikit-learn, jinja2, huggingface-hub, torch, tokenizers, openai, transformers, sentence-transformers\n",
      "Successfully installed MarkupSafe-3.0.2 Pillow-11.3.0 distro-1.9.0 filelock-3.19.1 fsspec-2025.9.0 hf-xet-1.1.10 huggingface-hub-0.35.0 jinja2-3.1.6 jiter-0.11.0 joblib-1.5.2 mpmath-1.3.0 networkx-3.5 openai-1.107.3 safetensors-0.6.2 scikit-learn-1.7.2 scipy-1.16.2 sentence-transformers-5.1.0 sympy-1.14.0 threadpoolctl-3.6.0 tokenizers-0.22.0 torch-2.8.0 tqdm-4.67.1 transformers-4.56.1\n",
      "\n",
      "\u001b[1m[\u001b[0m\u001b[34;49mnotice\u001b[0m\u001b[1;39;49m]\u001b[0m\u001b[39;49m A new release of pip is available: \u001b[0m\u001b[31;49m23.2.1\u001b[0m\u001b[39;49m -> \u001b[0m\u001b[32;49m25.2\u001b[0m\n",
      "\u001b[1m[\u001b[0m\u001b[34;49mnotice\u001b[0m\u001b[1;39;49m]\u001b[0m\u001b[39;49m To update, run: \u001b[0m\u001b[32;49mpip3 install --upgrade pip\u001b[0m\n",
      "Note: you may need to restart the kernel to use updated packages.\n"
     ]
    }
   ],
   "source": [
    "pip install langchain openai sentence-transformers"
   ]
  },
  {
   "cell_type": "code",
   "execution_count": 17,
   "id": "22f24067",
   "metadata": {},
   "outputs": [],
   "source": [
    "from langchain.embeddings import HuggingFaceEmbeddings"
   ]
  },
  {
   "cell_type": "code",
   "execution_count": 18,
   "id": "fca9540a",
   "metadata": {},
   "outputs": [
    {
     "name": "stderr",
     "output_type": "stream",
     "text": [
      "/var/folders/z2/s398r8ns51v45kxdp4nsmm740000gp/T/ipykernel_34187/1627434626.py:1: LangChainDeprecationWarning: The class `HuggingFaceEmbeddings` was deprecated in LangChain 0.2.2 and will be removed in 1.0. An updated version of the class exists in the :class:`~langchain-huggingface package and should be used instead. To use it run `pip install -U :class:`~langchain-huggingface` and import as `from :class:`~langchain_huggingface import HuggingFaceEmbeddings``.\n",
      "  embeded = HuggingFaceEmbeddings(model_name=\"all-MiniLM-L6-v2\")\n",
      "/Library/Frameworks/Python.framework/Versions/3.11/lib/python3.11/site-packages/tqdm/auto.py:21: TqdmWarning: IProgress not found. Please update jupyter and ipywidgets. See https://ipywidgets.readthedocs.io/en/stable/user_install.html\n",
      "  from .autonotebook import tqdm as notebook_tqdm\n"
     ]
    }
   ],
   "source": [
    "embeded = HuggingFaceEmbeddings(model_name=\"all-MiniLM-L6-v2\")"
   ]
  },
  {
   "cell_type": "code",
   "execution_count": 21,
   "id": "c43d83c4",
   "metadata": {},
   "outputs": [
    {
     "name": "stdout",
     "output_type": "stream",
     "text": [
      "[-0.050280164927244186, -0.0218447744846344, 0.05196633189916611, -0.028589267283678055, -0.01621769741177559]\n"
     ]
    }
   ],
   "source": [
    "textforembed = \"This is the one of the most wonderful generative AI course\"\n",
    "\n",
    "hugginfaceembed = embeded.embed_query(textforembed)\n",
    "\n",
    "print(hugginfaceembed[:5])"
   ]
  },
  {
   "cell_type": "code",
   "execution_count": 22,
   "id": "e8cf6276",
   "metadata": {},
   "outputs": [
    {
     "name": "stderr",
     "output_type": "stream",
     "text": [
      "huggingface/tokenizers: The current process just got forked, after parallelism has already been used. Disabling parallelism to avoid deadlocks...\n",
      "To disable this warning, you can either:\n",
      "\t- Avoid using `tokenizers` before the fork if possible\n",
      "\t- Explicitly set the environment variable TOKENIZERS_PARALLELISM=(true | false)\n"
     ]
    },
    {
     "name": "stdout",
     "output_type": "stream",
     "text": [
      "Collecting faiss-cpu\n",
      "  Obtaining dependency information for faiss-cpu from https://files.pythonhosted.org/packages/5b/07/80c248db87ef2e753ad390fca3b0d7dd6092079e904f35b248c7064e791e/faiss_cpu-1.12.0-cp311-cp311-macosx_14_0_arm64.whl.metadata\n",
      "  Downloading faiss_cpu-1.12.0-cp311-cp311-macosx_14_0_arm64.whl.metadata (5.1 kB)\n",
      "Requirement already satisfied: numpy<3.0,>=1.25.0 in /Library/Frameworks/Python.framework/Versions/3.11/lib/python3.11/site-packages (from faiss-cpu) (2.3.3)\n",
      "Requirement already satisfied: packaging in /Users/rvignesh-19772/Library/Python/3.11/lib/python/site-packages (from faiss-cpu) (25.0)\n",
      "Downloading faiss_cpu-1.12.0-cp311-cp311-macosx_14_0_arm64.whl (3.4 MB)\n",
      "\u001b[2K   \u001b[90m━━━━━━━━━━━━━━━━━━━━━━━━━━━━━━━━━━━━━━━━\u001b[0m \u001b[32m3.4/3.4 MB\u001b[0m \u001b[31m4.1 MB/s\u001b[0m eta \u001b[36m0:00:00\u001b[0m00:01\u001b[0m00:01\u001b[0m\n",
      "\u001b[?25hInstalling collected packages: faiss-cpu\n",
      "Successfully installed faiss-cpu-1.12.0\n",
      "\n",
      "\u001b[1m[\u001b[0m\u001b[34;49mnotice\u001b[0m\u001b[1;39;49m]\u001b[0m\u001b[39;49m A new release of pip is available: \u001b[0m\u001b[31;49m23.2.1\u001b[0m\u001b[39;49m -> \u001b[0m\u001b[32;49m25.2\u001b[0m\n",
      "\u001b[1m[\u001b[0m\u001b[34;49mnotice\u001b[0m\u001b[1;39;49m]\u001b[0m\u001b[39;49m To update, run: \u001b[0m\u001b[32;49mpip3 install --upgrade pip\u001b[0m\n",
      "Note: you may need to restart the kernel to use updated packages.\n"
     ]
    }
   ],
   "source": [
    "pip install faiss-cpu"
   ]
  },
  {
   "cell_type": "code",
   "execution_count": 1,
   "id": "c4b31c86",
   "metadata": {},
   "outputs": [],
   "source": [
    "from langchain.embeddings import HuggingFaceEmbeddings\n",
    "from langchain.vectorstores import FAISS"
   ]
  },
  {
   "cell_type": "code",
   "execution_count": 3,
   "id": "dd0cb7e7",
   "metadata": {},
   "outputs": [],
   "source": [
    "text = [\n",
    "    \"Python is a best language for AI\",\n",
    "    \"This Course is for full beginners\",\n",
    "    \"This will teach you all about the GenAI\"\n",
    "]\n",
    "embedded_new = HuggingFaceEmbeddings(model_name=\"all-miniLM-L6-v2\")"
   ]
  },
  {
   "cell_type": "code",
   "execution_count": 4,
   "id": "e817501d",
   "metadata": {},
   "outputs": [],
   "source": [
    "vector_store = FAISS.from_texts(text,embedded_new)"
   ]
  },
  {
   "cell_type": "code",
   "execution_count": 5,
   "id": "31bcb110",
   "metadata": {},
   "outputs": [
    {
     "data": {
      "text/plain": [
       "<langchain_community.vectorstores.faiss.FAISS at 0x147c6ec50>"
      ]
     },
     "execution_count": 5,
     "metadata": {},
     "output_type": "execute_result"
    }
   ],
   "source": [
    "vector_store"
   ]
  },
  {
   "cell_type": "code",
   "execution_count": 6,
   "id": "05227091",
   "metadata": {},
   "outputs": [],
   "source": [
    "vector_store.save_local(\"my_first_vector_db\")"
   ]
  },
  {
   "cell_type": "code",
   "execution_count": 8,
   "id": "959a93f8",
   "metadata": {},
   "outputs": [],
   "source": [
    "from langchain_community.embeddings import HuggingFaceEmbeddings\n",
    "from langchain_community.vectorstores import Chroma"
   ]
  },
  {
   "cell_type": "code",
   "execution_count": 9,
   "id": "1a2cd903",
   "metadata": {},
   "outputs": [],
   "source": [
    "texts = [\n",
    "    \"Python is a best language for AI\",\n",
    "    \"This Course is for full beginners\",\n",
    "    \"This will teach you all about the GenAI\"\n",
    "]"
   ]
  },
  {
   "cell_type": "code",
   "execution_count": 10,
   "id": "14d262e2",
   "metadata": {},
   "outputs": [],
   "source": [
    "embedding_model = HuggingFaceEmbeddings(model_name=\"all-MiniLM-L6-v2\")\n"
   ]
  },
  {
   "cell_type": "code",
   "execution_count": 12,
   "id": "bd920714",
   "metadata": {},
   "outputs": [
    {
     "name": "stderr",
     "output_type": "stream",
     "text": [
      "huggingface/tokenizers: The current process just got forked, after parallelism has already been used. Disabling parallelism to avoid deadlocks...\n",
      "To disable this warning, you can either:\n",
      "\t- Avoid using `tokenizers` before the fork if possible\n",
      "\t- Explicitly set the environment variable TOKENIZERS_PARALLELISM=(true | false)\n"
     ]
    },
    {
     "name": "stdout",
     "output_type": "stream",
     "text": [
      "Collecting chromadb\n",
      "  Obtaining dependency information for chromadb from https://files.pythonhosted.org/packages/52/8a/33ff83d0eaaa83875aedbfa220f651ae0ad6f6c1d997515fd47e8ee4c4b9/chromadb-1.1.0-cp39-abi3-macosx_11_0_arm64.whl.metadata\n",
      "  Downloading chromadb-1.1.0-cp39-abi3-macosx_11_0_arm64.whl.metadata (7.2 kB)\n",
      "Collecting build>=1.0.3 (from chromadb)\n",
      "  Obtaining dependency information for build>=1.0.3 from https://files.pythonhosted.org/packages/cb/8c/2b30c12155ad8de0cf641d76a8b396a16d2c36bc6d50b621a62b7c4567c1/build-1.3.0-py3-none-any.whl.metadata\n",
      "  Downloading build-1.3.0-py3-none-any.whl.metadata (5.6 kB)\n",
      "Requirement already satisfied: pydantic>=1.9 in /Library/Frameworks/Python.framework/Versions/3.11/lib/python3.11/site-packages (from chromadb) (2.11.9)\n",
      "Collecting pybase64>=1.4.1 (from chromadb)\n",
      "  Obtaining dependency information for pybase64>=1.4.1 from https://files.pythonhosted.org/packages/28/a4/ca1538e9adf08f5016b3543b0060c18aea9a6e805dd20712a197c509d90d/pybase64-1.4.2-cp311-cp311-macosx_11_0_arm64.whl.metadata\n",
      "  Downloading pybase64-1.4.2-cp311-cp311-macosx_11_0_arm64.whl.metadata (8.7 kB)\n",
      "Collecting uvicorn[standard]>=0.18.3 (from chromadb)\n",
      "  Obtaining dependency information for uvicorn[standard]>=0.18.3 from https://files.pythonhosted.org/packages/d2/e2/dc81b1bd1dcfe91735810265e9d26bc8ec5da45b4c0f6237e286819194c3/uvicorn-0.35.0-py3-none-any.whl.metadata\n",
      "  Downloading uvicorn-0.35.0-py3-none-any.whl.metadata (6.5 kB)\n",
      "Requirement already satisfied: numpy>=1.22.5 in /Library/Frameworks/Python.framework/Versions/3.11/lib/python3.11/site-packages (from chromadb) (2.3.3)\n",
      "Collecting posthog<6.0.0,>=2.4.0 (from chromadb)\n",
      "  Obtaining dependency information for posthog<6.0.0,>=2.4.0 from https://files.pythonhosted.org/packages/4f/98/e480cab9a08d1c09b1c59a93dade92c1bb7544826684ff2acbfd10fcfbd4/posthog-5.4.0-py3-none-any.whl.metadata\n",
      "  Downloading posthog-5.4.0-py3-none-any.whl.metadata (5.7 kB)\n",
      "Requirement already satisfied: typing-extensions>=4.5.0 in /Users/rvignesh-19772/Library/Python/3.11/lib/python/site-packages (from chromadb) (4.15.0)\n",
      "Collecting onnxruntime>=1.14.1 (from chromadb)\n",
      "  Obtaining dependency information for onnxruntime>=1.14.1 from https://files.pythonhosted.org/packages/82/ff/4a1a6747e039ef29a8d4ee4510060e9a805982b6da906a3da2306b7a3be6/onnxruntime-1.22.1-cp311-cp311-macosx_13_0_universal2.whl.metadata\n",
      "  Downloading onnxruntime-1.22.1-cp311-cp311-macosx_13_0_universal2.whl.metadata (4.6 kB)\n",
      "Collecting opentelemetry-api>=1.2.0 (from chromadb)\n",
      "  Obtaining dependency information for opentelemetry-api>=1.2.0 from https://files.pythonhosted.org/packages/91/48/28ed9e55dcf2f453128df738210a980e09f4e468a456fa3c763dbc8be70a/opentelemetry_api-1.37.0-py3-none-any.whl.metadata\n",
      "  Downloading opentelemetry_api-1.37.0-py3-none-any.whl.metadata (1.5 kB)\n",
      "Collecting opentelemetry-exporter-otlp-proto-grpc>=1.2.0 (from chromadb)\n",
      "  Obtaining dependency information for opentelemetry-exporter-otlp-proto-grpc>=1.2.0 from https://files.pythonhosted.org/packages/39/17/46630b74751031a658706bef23ac99cdc2953cd3b2d28ec90590a0766b3e/opentelemetry_exporter_otlp_proto_grpc-1.37.0-py3-none-any.whl.metadata\n",
      "  Downloading opentelemetry_exporter_otlp_proto_grpc-1.37.0-py3-none-any.whl.metadata (2.4 kB)\n",
      "Collecting opentelemetry-sdk>=1.2.0 (from chromadb)\n",
      "  Obtaining dependency information for opentelemetry-sdk>=1.2.0 from https://files.pythonhosted.org/packages/9f/62/9f4ad6a54126fb00f7ed4bb5034964c6e4f00fcd5a905e115bd22707e20d/opentelemetry_sdk-1.37.0-py3-none-any.whl.metadata\n",
      "  Downloading opentelemetry_sdk-1.37.0-py3-none-any.whl.metadata (1.5 kB)\n",
      "Requirement already satisfied: tokenizers>=0.13.2 in /Library/Frameworks/Python.framework/Versions/3.11/lib/python3.11/site-packages (from chromadb) (0.22.0)\n",
      "Collecting pypika>=0.48.9 (from chromadb)\n",
      "  Downloading PyPika-0.48.9.tar.gz (67 kB)\n",
      "\u001b[2K     \u001b[90m━━━━━━━━━━━━━━━━━━━━━━━━━━━━━━━━━━━━━━━━\u001b[0m \u001b[32m67.3/67.3 kB\u001b[0m \u001b[31m2.4 MB/s\u001b[0m eta \u001b[36m0:00:00\u001b[0m\n",
      "\u001b[?25h  Installing build dependencies ... \u001b[?25ldone\n",
      "\u001b[?25h  Getting requirements to build wheel ... \u001b[?25ldone\n",
      "\u001b[?25h  Preparing metadata (pyproject.toml) ... \u001b[?25ldone\n",
      "\u001b[?25hRequirement already satisfied: tqdm>=4.65.0 in /Library/Frameworks/Python.framework/Versions/3.11/lib/python3.11/site-packages (from chromadb) (4.67.1)\n",
      "Collecting overrides>=7.3.1 (from chromadb)\n",
      "  Obtaining dependency information for overrides>=7.3.1 from https://files.pythonhosted.org/packages/2c/ab/fc8290c6a4c722e5514d80f62b2dc4c4df1a68a41d1364e625c35990fcf3/overrides-7.7.0-py3-none-any.whl.metadata\n",
      "  Downloading overrides-7.7.0-py3-none-any.whl.metadata (5.8 kB)\n",
      "Collecting importlib-resources (from chromadb)\n",
      "  Obtaining dependency information for importlib-resources from https://files.pythonhosted.org/packages/a4/ed/1f1afb2e9e7f38a545d628f864d562a5ae64fe6f7a10e28ffb9b185b4e89/importlib_resources-6.5.2-py3-none-any.whl.metadata\n",
      "  Downloading importlib_resources-6.5.2-py3-none-any.whl.metadata (3.9 kB)\n",
      "Collecting grpcio>=1.58.0 (from chromadb)\n",
      "  Obtaining dependency information for grpcio>=1.58.0 from https://files.pythonhosted.org/packages/c2/42/284c463a311cd2c5f804fd4fdbd418805460bd5d702359148dd062c1685d/grpcio-1.75.0-cp311-cp311-macosx_11_0_universal2.whl.metadata\n",
      "  Downloading grpcio-1.75.0-cp311-cp311-macosx_11_0_universal2.whl.metadata (3.7 kB)\n",
      "Collecting bcrypt>=4.0.1 (from chromadb)\n",
      "  Obtaining dependency information for bcrypt>=4.0.1 from https://files.pythonhosted.org/packages/6e/c1/3fa0e9e4e0bfd3fd77eb8b52ec198fd6e1fd7e9402052e43f23483f956dd/bcrypt-4.3.0-cp39-abi3-macosx_10_12_universal2.whl.metadata\n",
      "  Downloading bcrypt-4.3.0-cp39-abi3-macosx_10_12_universal2.whl.metadata (10 kB)\n",
      "Collecting typer>=0.9.0 (from chromadb)\n",
      "  Obtaining dependency information for typer>=0.9.0 from https://files.pythonhosted.org/packages/93/72/6b3e70d32e89a5cbb6a4513726c1ae8762165b027af569289e19ec08edd8/typer-0.17.4-py3-none-any.whl.metadata\n",
      "  Downloading typer-0.17.4-py3-none-any.whl.metadata (15 kB)\n",
      "Collecting kubernetes>=28.1.0 (from chromadb)\n",
      "  Obtaining dependency information for kubernetes>=28.1.0 from https://files.pythonhosted.org/packages/89/43/d9bebfc3db7dea6ec80df5cb2aad8d274dd18ec2edd6c4f21f32c237cbbb/kubernetes-33.1.0-py2.py3-none-any.whl.metadata\n",
      "  Downloading kubernetes-33.1.0-py2.py3-none-any.whl.metadata (1.7 kB)\n",
      "Requirement already satisfied: tenacity>=8.2.3 in /Library/Frameworks/Python.framework/Versions/3.11/lib/python3.11/site-packages (from chromadb) (9.1.2)\n",
      "Requirement already satisfied: pyyaml>=6.0.0 in /Library/Frameworks/Python.framework/Versions/3.11/lib/python3.11/site-packages (from chromadb) (6.0.2)\n",
      "Collecting mmh3>=4.0.1 (from chromadb)\n",
      "  Obtaining dependency information for mmh3>=4.0.1 from https://files.pythonhosted.org/packages/07/14/eaba79eef55b40d653321765ac5e8f6c9ac38780b8a7c2a2f8df8ee0fb72/mmh3-5.2.0-cp311-cp311-macosx_11_0_arm64.whl.metadata\n",
      "  Downloading mmh3-5.2.0-cp311-cp311-macosx_11_0_arm64.whl.metadata (14 kB)\n",
      "Requirement already satisfied: orjson>=3.9.12 in /Library/Frameworks/Python.framework/Versions/3.11/lib/python3.11/site-packages (from chromadb) (3.11.3)\n",
      "Requirement already satisfied: httpx>=0.27.0 in /Library/Frameworks/Python.framework/Versions/3.11/lib/python3.11/site-packages (from chromadb) (0.28.1)\n",
      "Collecting rich>=10.11.0 (from chromadb)\n",
      "  Obtaining dependency information for rich>=10.11.0 from https://files.pythonhosted.org/packages/e3/30/3c4d035596d3cf444529e0b2953ad0466f6049528a879d27534700580395/rich-14.1.0-py3-none-any.whl.metadata\n",
      "  Downloading rich-14.1.0-py3-none-any.whl.metadata (18 kB)\n",
      "Collecting jsonschema>=4.19.0 (from chromadb)\n",
      "  Obtaining dependency information for jsonschema>=4.19.0 from https://files.pythonhosted.org/packages/bf/9c/8c95d856233c1f82500c2450b8c68576b4cf1c871db3afac5c34ff84e6fd/jsonschema-4.25.1-py3-none-any.whl.metadata\n",
      "  Downloading jsonschema-4.25.1-py3-none-any.whl.metadata (7.6 kB)\n",
      "Requirement already satisfied: packaging>=19.1 in /Users/rvignesh-19772/Library/Python/3.11/lib/python/site-packages (from build>=1.0.3->chromadb) (25.0)\n",
      "Collecting pyproject_hooks (from build>=1.0.3->chromadb)\n",
      "  Obtaining dependency information for pyproject_hooks from https://files.pythonhosted.org/packages/bd/24/12818598c362d7f300f18e74db45963dbcb85150324092410c8b49405e42/pyproject_hooks-1.2.0-py3-none-any.whl.metadata\n",
      "  Downloading pyproject_hooks-1.2.0-py3-none-any.whl.metadata (1.3 kB)\n",
      "Requirement already satisfied: anyio in /Library/Frameworks/Python.framework/Versions/3.11/lib/python3.11/site-packages (from httpx>=0.27.0->chromadb) (4.10.0)\n",
      "Requirement already satisfied: certifi in /Library/Frameworks/Python.framework/Versions/3.11/lib/python3.11/site-packages (from httpx>=0.27.0->chromadb) (2025.8.3)\n",
      "Requirement already satisfied: httpcore==1.* in /Library/Frameworks/Python.framework/Versions/3.11/lib/python3.11/site-packages (from httpx>=0.27.0->chromadb) (1.0.9)\n",
      "Requirement already satisfied: idna in /Library/Frameworks/Python.framework/Versions/3.11/lib/python3.11/site-packages (from httpx>=0.27.0->chromadb) (3.4)\n",
      "Requirement already satisfied: h11>=0.16 in /Library/Frameworks/Python.framework/Versions/3.11/lib/python3.11/site-packages (from httpcore==1.*->httpx>=0.27.0->chromadb) (0.16.0)\n",
      "Requirement already satisfied: attrs>=22.2.0 in /Library/Frameworks/Python.framework/Versions/3.11/lib/python3.11/site-packages (from jsonschema>=4.19.0->chromadb) (25.3.0)\n",
      "Collecting jsonschema-specifications>=2023.03.6 (from jsonschema>=4.19.0->chromadb)\n",
      "  Obtaining dependency information for jsonschema-specifications>=2023.03.6 from https://files.pythonhosted.org/packages/41/45/1a4ed80516f02155c51f51e8cedb3c1902296743db0bbc66608a0db2814f/jsonschema_specifications-2025.9.1-py3-none-any.whl.metadata\n",
      "  Downloading jsonschema_specifications-2025.9.1-py3-none-any.whl.metadata (2.9 kB)\n",
      "Collecting referencing>=0.28.4 (from jsonschema>=4.19.0->chromadb)\n",
      "  Obtaining dependency information for referencing>=0.28.4 from https://files.pythonhosted.org/packages/c1/b1/3baf80dc6d2b7bc27a95a67752d0208e410351e3feb4eb78de5f77454d8d/referencing-0.36.2-py3-none-any.whl.metadata\n",
      "  Downloading referencing-0.36.2-py3-none-any.whl.metadata (2.8 kB)\n",
      "Collecting rpds-py>=0.7.1 (from jsonschema>=4.19.0->chromadb)\n",
      "  Obtaining dependency information for rpds-py>=0.7.1 from https://files.pythonhosted.org/packages/11/94/2aab4bc86228bcf7c48760990273653a4900de89c7537ffe1b0d6097ed39/rpds_py-0.27.1-cp311-cp311-macosx_11_0_arm64.whl.metadata\n",
      "  Downloading rpds_py-0.27.1-cp311-cp311-macosx_11_0_arm64.whl.metadata (4.2 kB)\n",
      "Requirement already satisfied: six>=1.9.0 in /Users/rvignesh-19772/Library/Python/3.11/lib/python/site-packages (from kubernetes>=28.1.0->chromadb) (1.17.0)\n",
      "Requirement already satisfied: python-dateutil>=2.5.3 in /Users/rvignesh-19772/Library/Python/3.11/lib/python/site-packages (from kubernetes>=28.1.0->chromadb) (2.9.0.post0)\n",
      "Collecting google-auth>=1.0.1 (from kubernetes>=28.1.0->chromadb)\n",
      "  Obtaining dependency information for google-auth>=1.0.1 from https://files.pythonhosted.org/packages/17/63/b19553b658a1692443c62bd07e5868adaa0ad746a0751ba62c59568cd45b/google_auth-2.40.3-py2.py3-none-any.whl.metadata\n",
      "  Downloading google_auth-2.40.3-py2.py3-none-any.whl.metadata (6.2 kB)\n",
      "Collecting websocket-client!=0.40.0,!=0.41.*,!=0.42.*,>=0.32.0 (from kubernetes>=28.1.0->chromadb)\n",
      "  Obtaining dependency information for websocket-client!=0.40.0,!=0.41.*,!=0.42.*,>=0.32.0 from https://files.pythonhosted.org/packages/5a/84/44687a29792a70e111c5c477230a72c4b957d88d16141199bf9acb7537a3/websocket_client-1.8.0-py3-none-any.whl.metadata\n",
      "  Downloading websocket_client-1.8.0-py3-none-any.whl.metadata (8.0 kB)\n",
      "Requirement already satisfied: requests in /Library/Frameworks/Python.framework/Versions/3.11/lib/python3.11/site-packages (from kubernetes>=28.1.0->chromadb) (2.32.5)\n",
      "Collecting requests-oauthlib (from kubernetes>=28.1.0->chromadb)\n",
      "  Obtaining dependency information for requests-oauthlib from https://files.pythonhosted.org/packages/3b/5d/63d4ae3b9daea098d5d6f5da83984853c1bbacd5dc826764b249fe119d24/requests_oauthlib-2.0.0-py2.py3-none-any.whl.metadata\n",
      "  Downloading requests_oauthlib-2.0.0-py2.py3-none-any.whl.metadata (11 kB)\n",
      "Collecting oauthlib>=3.2.2 (from kubernetes>=28.1.0->chromadb)\n",
      "  Obtaining dependency information for oauthlib>=3.2.2 from https://files.pythonhosted.org/packages/be/9c/92789c596b8df838baa98fa71844d84283302f7604ed565dafe5a6b5041a/oauthlib-3.3.1-py3-none-any.whl.metadata\n",
      "  Downloading oauthlib-3.3.1-py3-none-any.whl.metadata (7.9 kB)\n",
      "Requirement already satisfied: urllib3>=1.24.2 in /Library/Frameworks/Python.framework/Versions/3.11/lib/python3.11/site-packages (from kubernetes>=28.1.0->chromadb) (2.0.5)\n",
      "Collecting durationpy>=0.7 (from kubernetes>=28.1.0->chromadb)\n",
      "  Obtaining dependency information for durationpy>=0.7 from https://files.pythonhosted.org/packages/b0/0d/9feae160378a3553fa9a339b0e9c1a048e147a4127210e286ef18b730f03/durationpy-0.10-py3-none-any.whl.metadata\n",
      "  Downloading durationpy-0.10-py3-none-any.whl.metadata (340 bytes)\n",
      "Collecting coloredlogs (from onnxruntime>=1.14.1->chromadb)\n",
      "  Obtaining dependency information for coloredlogs from https://files.pythonhosted.org/packages/a7/06/3d6badcf13db419e25b07041d9c7b4a2c331d3f4e7134445ec5df57714cd/coloredlogs-15.0.1-py2.py3-none-any.whl.metadata\n",
      "  Downloading coloredlogs-15.0.1-py2.py3-none-any.whl.metadata (12 kB)\n",
      "Collecting flatbuffers (from onnxruntime>=1.14.1->chromadb)\n",
      "  Obtaining dependency information for flatbuffers from https://files.pythonhosted.org/packages/b8/25/155f9f080d5e4bc0082edfda032ea2bc2b8fab3f4d25d46c1e9dd22a1a89/flatbuffers-25.2.10-py2.py3-none-any.whl.metadata\n",
      "  Downloading flatbuffers-25.2.10-py2.py3-none-any.whl.metadata (875 bytes)\n",
      "Collecting protobuf (from onnxruntime>=1.14.1->chromadb)\n",
      "  Obtaining dependency information for protobuf from https://files.pythonhosted.org/packages/10/56/a8a3f4e7190837139e68c7002ec749190a163af3e330f65d90309145a210/protobuf-6.32.1-cp39-abi3-macosx_10_9_universal2.whl.metadata\n",
      "  Downloading protobuf-6.32.1-cp39-abi3-macosx_10_9_universal2.whl.metadata (593 bytes)\n",
      "Requirement already satisfied: sympy in /Library/Frameworks/Python.framework/Versions/3.11/lib/python3.11/site-packages (from onnxruntime>=1.14.1->chromadb) (1.14.0)\n",
      "Collecting importlib-metadata<8.8.0,>=6.0 (from opentelemetry-api>=1.2.0->chromadb)\n",
      "  Obtaining dependency information for importlib-metadata<8.8.0,>=6.0 from https://files.pythonhosted.org/packages/20/b0/36bd937216ec521246249be3bf9855081de4c5e06a0c9b4219dbeda50373/importlib_metadata-8.7.0-py3-none-any.whl.metadata\n",
      "  Downloading importlib_metadata-8.7.0-py3-none-any.whl.metadata (4.8 kB)\n",
      "Collecting googleapis-common-protos~=1.57 (from opentelemetry-exporter-otlp-proto-grpc>=1.2.0->chromadb)\n",
      "  Obtaining dependency information for googleapis-common-protos~=1.57 from https://files.pythonhosted.org/packages/86/f1/62a193f0227cf15a920390abe675f386dec35f7ae3ffe6da582d3ade42c7/googleapis_common_protos-1.70.0-py3-none-any.whl.metadata\n",
      "  Downloading googleapis_common_protos-1.70.0-py3-none-any.whl.metadata (9.3 kB)\n",
      "Collecting opentelemetry-exporter-otlp-proto-common==1.37.0 (from opentelemetry-exporter-otlp-proto-grpc>=1.2.0->chromadb)\n",
      "  Obtaining dependency information for opentelemetry-exporter-otlp-proto-common==1.37.0 from https://files.pythonhosted.org/packages/08/13/b4ef09837409a777f3c0af2a5b4ba9b7af34872bc43609dda0c209e4060d/opentelemetry_exporter_otlp_proto_common-1.37.0-py3-none-any.whl.metadata\n",
      "  Downloading opentelemetry_exporter_otlp_proto_common-1.37.0-py3-none-any.whl.metadata (1.8 kB)\n",
      "Collecting opentelemetry-proto==1.37.0 (from opentelemetry-exporter-otlp-proto-grpc>=1.2.0->chromadb)\n",
      "  Obtaining dependency information for opentelemetry-proto==1.37.0 from https://files.pythonhosted.org/packages/c4/25/f89ea66c59bd7687e218361826c969443c4fa15dfe89733f3bf1e2a9e971/opentelemetry_proto-1.37.0-py3-none-any.whl.metadata\n",
      "  Downloading opentelemetry_proto-1.37.0-py3-none-any.whl.metadata (2.3 kB)\n",
      "Collecting opentelemetry-semantic-conventions==0.58b0 (from opentelemetry-sdk>=1.2.0->chromadb)\n",
      "  Obtaining dependency information for opentelemetry-semantic-conventions==0.58b0 from https://files.pythonhosted.org/packages/07/90/68152b7465f50285d3ce2481b3aec2f82822e3f52e5152eeeaf516bab841/opentelemetry_semantic_conventions-0.58b0-py3-none-any.whl.metadata\n",
      "  Downloading opentelemetry_semantic_conventions-0.58b0-py3-none-any.whl.metadata (2.4 kB)\n",
      "Collecting backoff>=1.10.0 (from posthog<6.0.0,>=2.4.0->chromadb)\n",
      "  Obtaining dependency information for backoff>=1.10.0 from https://files.pythonhosted.org/packages/df/73/b6e24bd22e6720ca8ee9a85a0c4a2971af8497d8f3193fa05390cbd46e09/backoff-2.2.1-py3-none-any.whl.metadata\n",
      "  Downloading backoff-2.2.1-py3-none-any.whl.metadata (14 kB)\n",
      "Requirement already satisfied: distro>=1.5.0 in /Library/Frameworks/Python.framework/Versions/3.11/lib/python3.11/site-packages (from posthog<6.0.0,>=2.4.0->chromadb) (1.9.0)\n",
      "Requirement already satisfied: annotated-types>=0.6.0 in /Library/Frameworks/Python.framework/Versions/3.11/lib/python3.11/site-packages (from pydantic>=1.9->chromadb) (0.7.0)\n",
      "Requirement already satisfied: pydantic-core==2.33.2 in /Library/Frameworks/Python.framework/Versions/3.11/lib/python3.11/site-packages (from pydantic>=1.9->chromadb) (2.33.2)\n",
      "Requirement already satisfied: typing-inspection>=0.4.0 in /Library/Frameworks/Python.framework/Versions/3.11/lib/python3.11/site-packages (from pydantic>=1.9->chromadb) (0.4.1)\n",
      "Collecting markdown-it-py>=2.2.0 (from rich>=10.11.0->chromadb)\n",
      "  Obtaining dependency information for markdown-it-py>=2.2.0 from https://files.pythonhosted.org/packages/94/54/e7d793b573f298e1c9013b8c4dade17d481164aa517d1d7148619c2cedbf/markdown_it_py-4.0.0-py3-none-any.whl.metadata\n",
      "  Downloading markdown_it_py-4.0.0-py3-none-any.whl.metadata (7.3 kB)\n",
      "Requirement already satisfied: pygments<3.0.0,>=2.13.0 in /Users/rvignesh-19772/Library/Python/3.11/lib/python/site-packages (from rich>=10.11.0->chromadb) (2.19.2)\n",
      "Requirement already satisfied: huggingface-hub<1.0,>=0.16.4 in /Library/Frameworks/Python.framework/Versions/3.11/lib/python3.11/site-packages (from tokenizers>=0.13.2->chromadb) (0.35.0)\n",
      "Collecting click>=8.0.0 (from typer>=0.9.0->chromadb)\n",
      "  Obtaining dependency information for click>=8.0.0 from https://files.pythonhosted.org/packages/85/32/10bb5764d90a8eee674e9dc6f4db6a0ab47c8c4d0d83c27f7c39ac415a4d/click-8.2.1-py3-none-any.whl.metadata\n",
      "  Downloading click-8.2.1-py3-none-any.whl.metadata (2.5 kB)\n",
      "Collecting shellingham>=1.3.0 (from typer>=0.9.0->chromadb)\n",
      "  Obtaining dependency information for shellingham>=1.3.0 from https://files.pythonhosted.org/packages/e0/f9/0595336914c5619e5f28a1fb793285925a8cd4b432c9da0a987836c7f822/shellingham-1.5.4-py2.py3-none-any.whl.metadata\n",
      "  Downloading shellingham-1.5.4-py2.py3-none-any.whl.metadata (3.5 kB)\n",
      "Collecting httptools>=0.6.3 (from uvicorn[standard]>=0.18.3->chromadb)\n",
      "  Obtaining dependency information for httptools>=0.6.3 from https://files.pythonhosted.org/packages/a6/17/3e0d3e9b901c732987a45f4f94d4e2c62b89a041d93db89eafb262afd8d5/httptools-0.6.4-cp311-cp311-macosx_11_0_arm64.whl.metadata\n",
      "  Downloading httptools-0.6.4-cp311-cp311-macosx_11_0_arm64.whl.metadata (3.6 kB)\n",
      "Requirement already satisfied: python-dotenv>=0.13 in /Library/Frameworks/Python.framework/Versions/3.11/lib/python3.11/site-packages (from uvicorn[standard]>=0.18.3->chromadb) (1.1.1)\n",
      "Collecting uvloop>=0.15.1 (from uvicorn[standard]>=0.18.3->chromadb)\n",
      "  Obtaining dependency information for uvloop>=0.15.1 from https://files.pythonhosted.org/packages/57/a7/4cf0334105c1160dd6819f3297f8700fda7fc30ab4f61fbf3e725acbc7cc/uvloop-0.21.0-cp311-cp311-macosx_10_9_universal2.whl.metadata\n",
      "  Downloading uvloop-0.21.0-cp311-cp311-macosx_10_9_universal2.whl.metadata (4.9 kB)\n",
      "Collecting watchfiles>=0.13 (from uvicorn[standard]>=0.18.3->chromadb)\n",
      "  Obtaining dependency information for watchfiles>=0.13 from https://files.pythonhosted.org/packages/76/63/e6c3dbc1f78d001589b75e56a288c47723de28c580ad715eb116639152b5/watchfiles-1.1.0-cp311-cp311-macosx_11_0_arm64.whl.metadata\n",
      "  Downloading watchfiles-1.1.0-cp311-cp311-macosx_11_0_arm64.whl.metadata (4.9 kB)\n",
      "Collecting websockets>=10.4 (from uvicorn[standard]>=0.18.3->chromadb)\n",
      "  Obtaining dependency information for websockets>=10.4 from https://files.pythonhosted.org/packages/86/f2/10b55821dd40eb696ce4704a87d57774696f9451108cff0d2824c97e0f97/websockets-15.0.1-cp311-cp311-macosx_11_0_arm64.whl.metadata\n",
      "  Downloading websockets-15.0.1-cp311-cp311-macosx_11_0_arm64.whl.metadata (6.8 kB)\n",
      "Collecting cachetools<6.0,>=2.0.0 (from google-auth>=1.0.1->kubernetes>=28.1.0->chromadb)\n",
      "  Obtaining dependency information for cachetools<6.0,>=2.0.0 from https://files.pythonhosted.org/packages/72/76/20fa66124dbe6be5cafeb312ece67de6b61dd91a0247d1ea13db4ebb33c2/cachetools-5.5.2-py3-none-any.whl.metadata\n",
      "  Downloading cachetools-5.5.2-py3-none-any.whl.metadata (5.4 kB)\n",
      "Collecting pyasn1-modules>=0.2.1 (from google-auth>=1.0.1->kubernetes>=28.1.0->chromadb)\n",
      "  Obtaining dependency information for pyasn1-modules>=0.2.1 from https://files.pythonhosted.org/packages/47/8d/d529b5d697919ba8c11ad626e835d4039be708a35b0d22de83a269a6682c/pyasn1_modules-0.4.2-py3-none-any.whl.metadata\n",
      "  Downloading pyasn1_modules-0.4.2-py3-none-any.whl.metadata (3.5 kB)\n",
      "Collecting rsa<5,>=3.1.4 (from google-auth>=1.0.1->kubernetes>=28.1.0->chromadb)\n",
      "  Obtaining dependency information for rsa<5,>=3.1.4 from https://files.pythonhosted.org/packages/64/8d/0133e4eb4beed9e425d9a98ed6e081a55d195481b7632472be1af08d2f6b/rsa-4.9.1-py3-none-any.whl.metadata\n",
      "  Downloading rsa-4.9.1-py3-none-any.whl.metadata (5.6 kB)\n",
      "Requirement already satisfied: filelock in /Library/Frameworks/Python.framework/Versions/3.11/lib/python3.11/site-packages (from huggingface-hub<1.0,>=0.16.4->tokenizers>=0.13.2->chromadb) (3.19.1)\n",
      "Requirement already satisfied: fsspec>=2023.5.0 in /Library/Frameworks/Python.framework/Versions/3.11/lib/python3.11/site-packages (from huggingface-hub<1.0,>=0.16.4->tokenizers>=0.13.2->chromadb) (2025.9.0)\n",
      "Requirement already satisfied: hf-xet<2.0.0,>=1.1.3 in /Library/Frameworks/Python.framework/Versions/3.11/lib/python3.11/site-packages (from huggingface-hub<1.0,>=0.16.4->tokenizers>=0.13.2->chromadb) (1.1.10)\n",
      "Collecting zipp>=3.20 (from importlib-metadata<8.8.0,>=6.0->opentelemetry-api>=1.2.0->chromadb)\n",
      "  Obtaining dependency information for zipp>=3.20 from https://files.pythonhosted.org/packages/2e/54/647ade08bf0db230bfea292f893923872fd20be6ac6f53b2b936ba839d75/zipp-3.23.0-py3-none-any.whl.metadata\n",
      "  Downloading zipp-3.23.0-py3-none-any.whl.metadata (3.6 kB)\n",
      "Collecting mdurl~=0.1 (from markdown-it-py>=2.2.0->rich>=10.11.0->chromadb)\n",
      "  Obtaining dependency information for mdurl~=0.1 from https://files.pythonhosted.org/packages/b3/38/89ba8ad64ae25be8de66a6d463314cf1eb366222074cfda9ee839c56a4b4/mdurl-0.1.2-py3-none-any.whl.metadata\n",
      "  Downloading mdurl-0.1.2-py3-none-any.whl.metadata (1.6 kB)\n",
      "Requirement already satisfied: charset_normalizer<4,>=2 in /Library/Frameworks/Python.framework/Versions/3.11/lib/python3.11/site-packages (from requests->kubernetes>=28.1.0->chromadb) (3.2.0)\n",
      "Requirement already satisfied: sniffio>=1.1 in /Library/Frameworks/Python.framework/Versions/3.11/lib/python3.11/site-packages (from anyio->httpx>=0.27.0->chromadb) (1.3.1)\n",
      "Collecting humanfriendly>=9.1 (from coloredlogs->onnxruntime>=1.14.1->chromadb)\n",
      "  Obtaining dependency information for humanfriendly>=9.1 from https://files.pythonhosted.org/packages/f0/0f/310fb31e39e2d734ccaa2c0fb981ee41f7bd5056ce9bc29b2248bd569169/humanfriendly-10.0-py2.py3-none-any.whl.metadata\n",
      "  Downloading humanfriendly-10.0-py2.py3-none-any.whl.metadata (9.2 kB)\n",
      "Requirement already satisfied: mpmath<1.4,>=1.1.0 in /Library/Frameworks/Python.framework/Versions/3.11/lib/python3.11/site-packages (from sympy->onnxruntime>=1.14.1->chromadb) (1.3.0)\n",
      "Collecting pyasn1<0.7.0,>=0.6.1 (from pyasn1-modules>=0.2.1->google-auth>=1.0.1->kubernetes>=28.1.0->chromadb)\n",
      "  Obtaining dependency information for pyasn1<0.7.0,>=0.6.1 from https://files.pythonhosted.org/packages/c8/f1/d6a797abb14f6283c0ddff96bbdd46937f64122b8c925cab503dd37f8214/pyasn1-0.6.1-py3-none-any.whl.metadata\n",
      "  Downloading pyasn1-0.6.1-py3-none-any.whl.metadata (8.4 kB)\n",
      "Downloading chromadb-1.1.0-cp39-abi3-macosx_11_0_arm64.whl (18.2 MB)\n",
      "\u001b[2K   \u001b[90m━━━━━━━━━━━━━━━━━━━━━━━━━━━━━━━━━━━━━━━━\u001b[0m \u001b[32m18.2/18.2 MB\u001b[0m \u001b[31m1.4 MB/s\u001b[0m eta \u001b[36m0:00:00\u001b[0m00:01\u001b[0m00:01\u001b[0mm\n",
      "\u001b[?25hDownloading bcrypt-4.3.0-cp39-abi3-macosx_10_12_universal2.whl (498 kB)\n",
      "\u001b[2K   \u001b[90m━━━━━━━━━━━━━━━━━━━━━━━━━━━━━━━━━━━━━━━━\u001b[0m \u001b[32m499.0/499.0 kB\u001b[0m \u001b[31m7.7 MB/s\u001b[0m eta \u001b[36m0:00:00\u001b[0mta \u001b[36m0:00:01\u001b[0m\n",
      "\u001b[?25hDownloading build-1.3.0-py3-none-any.whl (23 kB)\n",
      "Downloading grpcio-1.75.0-cp311-cp311-macosx_11_0_universal2.whl (11.5 MB)\n",
      "\u001b[2K   \u001b[90m━━━━━━━━━━━━━━━━━━━━━━━━━━━━━━━━━━━━━━━━\u001b[0m \u001b[32m11.5/11.5 MB\u001b[0m \u001b[31m3.8 MB/s\u001b[0m eta \u001b[36m0:00:00\u001b[0m00:01\u001b[0m00:01\u001b[0m\n",
      "\u001b[?25hUsing cached jsonschema-4.25.1-py3-none-any.whl (90 kB)\n",
      "Downloading kubernetes-33.1.0-py2.py3-none-any.whl (1.9 MB)\n",
      "\u001b[2K   \u001b[90m━━━━━━━━━━━━━━━━━━━━━━━━━━━━━━━━━━━━━━━━\u001b[0m \u001b[32m1.9/1.9 MB\u001b[0m \u001b[31m4.1 MB/s\u001b[0m eta \u001b[36m0:00:00\u001b[0m00:01\u001b[0m00:01\u001b[0mm\n",
      "\u001b[?25hDownloading mmh3-5.2.0-cp311-cp311-macosx_11_0_arm64.whl (40 kB)\n",
      "\u001b[2K   \u001b[90m━━━━━━━━━━━━━━━━━━━━━━━━━━━━━━━━━━━━━━━━\u001b[0m \u001b[32m40.1/40.1 kB\u001b[0m \u001b[31m1.7 MB/s\u001b[0m eta \u001b[36m0:00:00\u001b[0m\n",
      "\u001b[?25hDownloading onnxruntime-1.22.1-cp311-cp311-macosx_13_0_universal2.whl (34.3 MB)\n",
      "\u001b[2K   \u001b[90m━━━━━━━━━━━━━━━━━━━━━━━━━━━━━━━━━━━━━━━━\u001b[0m \u001b[32m34.3/34.3 MB\u001b[0m \u001b[31m3.7 MB/s\u001b[0m eta \u001b[36m0:00:00\u001b[0m00:01\u001b[0m00:01\u001b[0m\n",
      "\u001b[?25hDownloading opentelemetry_api-1.37.0-py3-none-any.whl (65 kB)\n",
      "\u001b[2K   \u001b[90m━━━━━━━━━━━━━━━━━━━━━━━━━━━━━━━━━━━━━━━━\u001b[0m \u001b[32m65.7/65.7 kB\u001b[0m \u001b[31m2.7 MB/s\u001b[0m eta \u001b[36m0:00:00\u001b[0m\n",
      "\u001b[?25hDownloading opentelemetry_exporter_otlp_proto_grpc-1.37.0-py3-none-any.whl (19 kB)\n",
      "Downloading opentelemetry_exporter_otlp_proto_common-1.37.0-py3-none-any.whl (18 kB)\n",
      "Downloading opentelemetry_proto-1.37.0-py3-none-any.whl (72 kB)\n",
      "\u001b[2K   \u001b[90m━━━━━━━━━━━━━━━━━━━━━━━━━━━━━━━━━━━━━━━━\u001b[0m \u001b[32m72.5/72.5 kB\u001b[0m \u001b[31m5.2 MB/s\u001b[0m eta \u001b[36m0:00:00\u001b[0m\n",
      "\u001b[?25hDownloading opentelemetry_sdk-1.37.0-py3-none-any.whl (131 kB)\n",
      "\u001b[2K   \u001b[90m━━━━━━━━━━━━━━━━━━━━━━━━━━━━━━━━━━━━━━━━\u001b[0m \u001b[32m131.9/131.9 kB\u001b[0m \u001b[31m7.8 MB/s\u001b[0m eta \u001b[36m0:00:00\u001b[0m\n",
      "\u001b[?25hDownloading opentelemetry_semantic_conventions-0.58b0-py3-none-any.whl (207 kB)\n",
      "\u001b[2K   \u001b[90m━━━━━━━━━━━━━━━━━━━━━━━━━━━━━━━━━━━━━━━━\u001b[0m \u001b[32m208.0/208.0 kB\u001b[0m \u001b[31m7.4 MB/s\u001b[0m eta \u001b[36m0:00:00\u001b[0m\n",
      "\u001b[?25hDownloading overrides-7.7.0-py3-none-any.whl (17 kB)\n",
      "Downloading posthog-5.4.0-py3-none-any.whl (105 kB)\n",
      "\u001b[2K   \u001b[90m━━━━━━━━━━━━━━━━━━━━━━━━━━━━━━━━━━━━━━━━\u001b[0m \u001b[32m105.4/105.4 kB\u001b[0m \u001b[31m6.2 MB/s\u001b[0m eta \u001b[36m0:00:00\u001b[0m\n",
      "\u001b[?25hDownloading pybase64-1.4.2-cp311-cp311-macosx_11_0_arm64.whl (31 kB)\n",
      "Downloading rich-14.1.0-py3-none-any.whl (243 kB)\n",
      "\u001b[2K   \u001b[90m━━━━━━━━━━━━━━━━━━━━━━━━━━━━━━━━━━━━━━━━\u001b[0m \u001b[32m243.4/243.4 kB\u001b[0m \u001b[31m8.1 MB/s\u001b[0m eta \u001b[36m0:00:00\u001b[0m\n",
      "\u001b[?25hDownloading typer-0.17.4-py3-none-any.whl (46 kB)\n",
      "\u001b[2K   \u001b[90m━━━━━━━━━━━━━━━━━━━━━━━━━━━━━━━━━━━━━━━━\u001b[0m \u001b[32m46.6/46.6 kB\u001b[0m \u001b[31m4.3 MB/s\u001b[0m eta \u001b[36m0:00:00\u001b[0m\n",
      "\u001b[?25hDownloading importlib_resources-6.5.2-py3-none-any.whl (37 kB)\n",
      "Downloading backoff-2.2.1-py3-none-any.whl (15 kB)\n",
      "Using cached click-8.2.1-py3-none-any.whl (102 kB)\n",
      "Downloading durationpy-0.10-py3-none-any.whl (3.9 kB)\n",
      "Downloading google_auth-2.40.3-py2.py3-none-any.whl (216 kB)\n",
      "\u001b[2K   \u001b[90m━━━━━━━━━━━━━━━━━━━━━━━━━━━━━━━━━━━━━━━━\u001b[0m \u001b[32m216.1/216.1 kB\u001b[0m \u001b[31m6.1 MB/s\u001b[0m eta \u001b[36m0:00:00\u001b[0m\n",
      "\u001b[?25hDownloading googleapis_common_protos-1.70.0-py3-none-any.whl (294 kB)\n",
      "\u001b[2K   \u001b[90m━━━━━━━━━━━━━━━━━━━━━━━━━━━━━━━━━━━━━━━━\u001b[0m \u001b[32m294.5/294.5 kB\u001b[0m \u001b[31m8.5 MB/s\u001b[0m eta \u001b[36m0:00:00\u001b[0m\n",
      "\u001b[?25hDownloading httptools-0.6.4-cp311-cp311-macosx_11_0_arm64.whl (103 kB)\n",
      "\u001b[2K   \u001b[90m━━━━━━━━━━━━━━━━━━━━━━━━━━━━━━━━━━━━━━━━\u001b[0m \u001b[32m103.5/103.5 kB\u001b[0m \u001b[31m7.0 MB/s\u001b[0m eta \u001b[36m0:00:00\u001b[0m\n",
      "\u001b[?25hDownloading importlib_metadata-8.7.0-py3-none-any.whl (27 kB)\n",
      "Using cached jsonschema_specifications-2025.9.1-py3-none-any.whl (18 kB)\n",
      "Downloading markdown_it_py-4.0.0-py3-none-any.whl (87 kB)\n",
      "\u001b[2K   \u001b[90m━━━━━━━━━━━━━━━━━━━━━━━━━━━━━━━━━━━━━━━━\u001b[0m \u001b[32m87.3/87.3 kB\u001b[0m \u001b[31m6.4 MB/s\u001b[0m eta \u001b[36m0:00:00\u001b[0m\n",
      "\u001b[?25hDownloading oauthlib-3.3.1-py3-none-any.whl (160 kB)\n",
      "\u001b[2K   \u001b[90m━━━━━━━━━━━━━━━━━━━━━━━━━━━━━━━━━━━━━━━━\u001b[0m \u001b[32m160.1/160.1 kB\u001b[0m \u001b[31m9.5 MB/s\u001b[0m eta \u001b[36m0:00:00\u001b[0m\n",
      "\u001b[?25hDownloading protobuf-6.32.1-cp39-abi3-macosx_10_9_universal2.whl (426 kB)\n",
      "\u001b[2K   \u001b[90m━━━━━━━━━━━━━━━━━━━━━━━━━━━━━━━━━━━━━━━━\u001b[0m \u001b[32m426.5/426.5 kB\u001b[0m \u001b[31m7.0 MB/s\u001b[0m eta \u001b[36m0:00:00\u001b[0ma \u001b[36m0:00:01\u001b[0m\n",
      "\u001b[?25hUsing cached referencing-0.36.2-py3-none-any.whl (26 kB)\n",
      "Using cached rpds_py-0.27.1-cp311-cp311-macosx_11_0_arm64.whl (353 kB)\n",
      "Downloading shellingham-1.5.4-py2.py3-none-any.whl (9.8 kB)\n",
      "Downloading uvloop-0.21.0-cp311-cp311-macosx_10_9_universal2.whl (1.4 MB)\n",
      "\u001b[2K   \u001b[90m━━━━━━━━━━━━━━━━━━━━━━━━━━━━━━━━━━━━━━━━\u001b[0m \u001b[32m1.4/1.4 MB\u001b[0m \u001b[31m4.7 MB/s\u001b[0m eta \u001b[36m0:00:00\u001b[0m00:01\u001b[0m00:01\u001b[0mm\n",
      "\u001b[?25hDownloading watchfiles-1.1.0-cp311-cp311-macosx_11_0_arm64.whl (397 kB)\n",
      "\u001b[2K   \u001b[90m━━━━━━━━━━━━━━━━━━━━━━━━━━━━━━━━━━━━━━━━\u001b[0m \u001b[32m397.3/397.3 kB\u001b[0m \u001b[31m4.5 MB/s\u001b[0m eta \u001b[36m0:00:00\u001b[0m00:01\u001b[0m0:01\u001b[0m\n",
      "\u001b[?25hDownloading websocket_client-1.8.0-py3-none-any.whl (58 kB)\n",
      "\u001b[2K   \u001b[90m━━━━━━━━━━━━━━━━━━━━━━━━━━━━━━━━━━━━━━━━\u001b[0m \u001b[32m58.8/58.8 kB\u001b[0m \u001b[31m4.2 MB/s\u001b[0m eta \u001b[36m0:00:00\u001b[0m\n",
      "\u001b[?25hDownloading websockets-15.0.1-cp311-cp311-macosx_11_0_arm64.whl (173 kB)\n",
      "\u001b[2K   \u001b[90m━━━━━━━━━━━━━━━━━━━━━━━━━━━━━━━━━━━━━━━━\u001b[0m \u001b[32m173.3/173.3 kB\u001b[0m \u001b[31m6.6 MB/s\u001b[0m eta \u001b[36m0:00:00\u001b[0m\n",
      "\u001b[?25hDownloading coloredlogs-15.0.1-py2.py3-none-any.whl (46 kB)\n",
      "\u001b[2K   \u001b[90m━━━━━━━━━━━━━━━━━━━━━━━━━━━━━━━━━━━━━━━━\u001b[0m \u001b[32m46.0/46.0 kB\u001b[0m \u001b[31m2.9 MB/s\u001b[0m eta \u001b[36m0:00:00\u001b[0m\n",
      "\u001b[?25hDownloading flatbuffers-25.2.10-py2.py3-none-any.whl (30 kB)\n",
      "Downloading pyproject_hooks-1.2.0-py3-none-any.whl (10 kB)\n",
      "Downloading requests_oauthlib-2.0.0-py2.py3-none-any.whl (24 kB)\n",
      "Downloading uvicorn-0.35.0-py3-none-any.whl (66 kB)\n",
      "\u001b[2K   \u001b[90m━━━━━━━━━━━━━━━━━━━━━━━━━━━━━━━━━━━━━━━━\u001b[0m \u001b[32m66.4/66.4 kB\u001b[0m \u001b[31m4.5 MB/s\u001b[0m eta \u001b[36m0:00:00\u001b[0m\n",
      "\u001b[?25hDownloading cachetools-5.5.2-py3-none-any.whl (10 kB)\n",
      "Downloading humanfriendly-10.0-py2.py3-none-any.whl (86 kB)\n",
      "\u001b[2K   \u001b[90m━━━━━━━━━━━━━━━━━━━━━━━━━━━━━━━━━━━━━━━━\u001b[0m \u001b[32m86.8/86.8 kB\u001b[0m \u001b[31m4.0 MB/s\u001b[0m eta \u001b[36m0:00:00\u001b[0m\n",
      "\u001b[?25hDownloading mdurl-0.1.2-py3-none-any.whl (10.0 kB)\n",
      "Downloading pyasn1_modules-0.4.2-py3-none-any.whl (181 kB)\n",
      "\u001b[2K   \u001b[90m━━━━━━━━━━━━━━━━━━━━━━━━━━━━━━━━━━━━━━━━\u001b[0m \u001b[32m181.3/181.3 kB\u001b[0m \u001b[31m8.2 MB/s\u001b[0m eta \u001b[36m0:00:00\u001b[0m\n",
      "\u001b[?25hDownloading rsa-4.9.1-py3-none-any.whl (34 kB)\n",
      "Downloading zipp-3.23.0-py3-none-any.whl (10 kB)\n",
      "Downloading pyasn1-0.6.1-py3-none-any.whl (83 kB)\n",
      "\u001b[2K   \u001b[90m━━━━━━━━━━━━━━━━━━━━━━━━━━━━━━━━━━━━━━━━\u001b[0m \u001b[32m83.1/83.1 kB\u001b[0m \u001b[31m6.7 MB/s\u001b[0m eta \u001b[36m0:00:00\u001b[0m\n",
      "\u001b[?25hBuilding wheels for collected packages: pypika\n",
      "  Building wheel for pypika (pyproject.toml) ... \u001b[?25ldone\n",
      "\u001b[?25h  Created wheel for pypika: filename=pypika-0.48.9-py2.py3-none-any.whl size=53803 sha256=5fc0591e680f76db2d86b861577f873eb34eeaf655aeaea1a0729e069d7bc4bf\n",
      "  Stored in directory: /Users/rvignesh-19772/Library/Caches/pip/wheels/a3/01/bd/4c40ceb9d5354160cb186dcc153360f4ab7eb23e2b24daf96d\n",
      "Successfully built pypika\n",
      "Installing collected packages: pypika, flatbuffers, durationpy, zipp, websockets, websocket-client, uvloop, shellingham, rpds-py, pyproject_hooks, pybase64, pyasn1, protobuf, overrides, oauthlib, mmh3, mdurl, importlib-resources, humanfriendly, httptools, grpcio, click, cachetools, bcrypt, backoff, watchfiles, uvicorn, rsa, requests-oauthlib, referencing, pyasn1-modules, posthog, opentelemetry-proto, markdown-it-py, importlib-metadata, googleapis-common-protos, coloredlogs, build, rich, opentelemetry-exporter-otlp-proto-common, opentelemetry-api, onnxruntime, jsonschema-specifications, google-auth, typer, opentelemetry-semantic-conventions, kubernetes, jsonschema, opentelemetry-sdk, opentelemetry-exporter-otlp-proto-grpc, chromadb\n",
      "Successfully installed backoff-2.2.1 bcrypt-4.3.0 build-1.3.0 cachetools-5.5.2 chromadb-1.1.0 click-8.2.1 coloredlogs-15.0.1 durationpy-0.10 flatbuffers-25.2.10 google-auth-2.40.3 googleapis-common-protos-1.70.0 grpcio-1.75.0 httptools-0.6.4 humanfriendly-10.0 importlib-metadata-8.7.0 importlib-resources-6.5.2 jsonschema-4.25.1 jsonschema-specifications-2025.9.1 kubernetes-33.1.0 markdown-it-py-4.0.0 mdurl-0.1.2 mmh3-5.2.0 oauthlib-3.3.1 onnxruntime-1.22.1 opentelemetry-api-1.37.0 opentelemetry-exporter-otlp-proto-common-1.37.0 opentelemetry-exporter-otlp-proto-grpc-1.37.0 opentelemetry-proto-1.37.0 opentelemetry-sdk-1.37.0 opentelemetry-semantic-conventions-0.58b0 overrides-7.7.0 posthog-5.4.0 protobuf-6.32.1 pyasn1-0.6.1 pyasn1-modules-0.4.2 pybase64-1.4.2 pypika-0.48.9 pyproject_hooks-1.2.0 referencing-0.36.2 requests-oauthlib-2.0.0 rich-14.1.0 rpds-py-0.27.1 rsa-4.9.1 shellingham-1.5.4 typer-0.17.4 uvicorn-0.35.0 uvloop-0.21.0 watchfiles-1.1.0 websocket-client-1.8.0 websockets-15.0.1 zipp-3.23.0\n",
      "\n",
      "\u001b[1m[\u001b[0m\u001b[34;49mnotice\u001b[0m\u001b[1;39;49m]\u001b[0m\u001b[39;49m A new release of pip is available: \u001b[0m\u001b[31;49m23.2.1\u001b[0m\u001b[39;49m -> \u001b[0m\u001b[32;49m25.2\u001b[0m\n",
      "\u001b[1m[\u001b[0m\u001b[34;49mnotice\u001b[0m\u001b[1;39;49m]\u001b[0m\u001b[39;49m To update, run: \u001b[0m\u001b[32;49mpip3 install --upgrade pip\u001b[0m\n",
      "Note: you may need to restart the kernel to use updated packages.\n"
     ]
    }
   ],
   "source": [
    "pip install chromadb"
   ]
  },
  {
   "cell_type": "code",
   "execution_count": 13,
   "id": "c00d97fc",
   "metadata": {},
   "outputs": [
    {
     "name": "stdout",
     "output_type": "stream",
     "text": [
      "✅ Texts stored as vectors in Chroma!\n"
     ]
    }
   ],
   "source": [
    "vectorstore = Chroma.from_texts(\n",
    "    texts, \n",
    "    embedding_model, \n",
    "    persist_directory=\"chroma_db\"  # saves locally\n",
    ")\n",
    "\n",
    "print(\"✅ Texts stored as vectors in Chroma!\")"
   ]
  },
  {
   "cell_type": "code",
   "execution_count": null,
   "id": "76340086",
   "metadata": {},
   "outputs": [
    {
     "name": "stdout",
     "output_type": "stream",
     "text": [
      "\n",
      "🔎 Query Result:\n",
      "- Python is a best language for AI\n"
     ]
    }
   ],
   "source": [
    "query = \"Which language is good for AI?\"\n",
    "results = vectorstore.similarity_search(query, k=1)\n",
    "\n",
    "print(\"\\n🔎 Query Result:\")\n",
    "for res in results:\n",
    "    print(f\"- {res.page_content}\")"
   ]
  },
  {
   "cell_type": "code",
   "execution_count": 16,
   "id": "4add8327",
   "metadata": {},
   "outputs": [
    {
     "name": "stderr",
     "output_type": "stream",
     "text": [
      "/var/folders/z2/s398r8ns51v45kxdp4nsmm740000gp/T/ipykernel_40319/398866168.py:1: LangChainDeprecationWarning: Since Chroma 0.4.x the manual persistence method is no longer supported as docs are automatically persisted.\n",
      "  vectorstore.persist()\n"
     ]
    }
   ],
   "source": [
    "vectorstore.persist()"
   ]
  },
  {
   "cell_type": "code",
   "execution_count": 17,
   "id": "c64dbf88",
   "metadata": {},
   "outputs": [],
   "source": [
    "retriever = vector_store.as_retriever()"
   ]
  },
  {
   "cell_type": "code",
   "execution_count": 19,
   "id": "04663bf3",
   "metadata": {},
   "outputs": [
    {
     "name": "stderr",
     "output_type": "stream",
     "text": [
      "/var/folders/z2/s398r8ns51v45kxdp4nsmm740000gp/T/ipykernel_40319/2313978582.py:2: LangChainDeprecationWarning: The method `BaseRetriever.get_relevant_documents` was deprecated in langchain-core 0.1.46 and will be removed in 1.0. Use :meth:`~invoke` instead.\n",
      "  answer = retriever.get_relevant_documents(retri_query)\n"
     ]
    },
    {
     "name": "stdout",
     "output_type": "stream",
     "text": [
      "[Document(id='c1d568ad-a33e-4dea-b4d0-ca5655a494d1', metadata={}, page_content='Python is a best language for AI'), Document(id='497c64a6-7cbc-4bfb-8a9d-acbfb53a15c2', metadata={}, page_content='This Course is for full beginners'), Document(id='0a0c2e58-8e85-4b9c-a56a-2133f96ca97b', metadata={}, page_content='This will teach you all about the GenAI')]\n"
     ]
    }
   ],
   "source": [
    "retri_query = \"Python?\"\n",
    "answer = retriever.get_relevant_documents(retri_query)\n",
    "print(answer)"
   ]
  },
  {
   "cell_type": "code",
   "execution_count": null,
   "id": "0e632c0f",
   "metadata": {},
   "outputs": [
    {
     "name": "stdout",
     "output_type": "stream",
     "text": [
      "Python is a best language for AI\n",
      "This Course is for full beginners\n",
      "This will teach you all about the GenAI\n"
     ]
    }
   ],
   "source": [
    "for doc in answer:\n",
    "    print(doc.page_content)"
   ]
  }
 ],
 "metadata": {
  "kernelspec": {
   "display_name": "Python 3",
   "language": "python",
   "name": "python3"
  },
  "language_info": {
   "codemirror_mode": {
    "name": "ipython",
    "version": 3
   },
   "file_extension": ".py",
   "mimetype": "text/x-python",
   "name": "python",
   "nbconvert_exporter": "python",
   "pygments_lexer": "ipython3",
   "version": "3.11.0"
  }
 },
 "nbformat": 4,
 "nbformat_minor": 5
}
